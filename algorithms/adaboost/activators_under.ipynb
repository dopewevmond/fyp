{
 "cells": [
  {
   "cell_type": "code",
   "execution_count": 1,
   "metadata": {},
   "outputs": [],
   "source": [
    "import numpy as np\n",
    "import pandas as pd\n",
    "import matplotlib.pyplot as plt\n",
    "\n",
    "from sklearn.model_selection import train_test_split\n",
    "from sklearn.metrics import roc_curve, auc, RocCurveDisplay\n",
    "from sklearn.ensemble import AdaBoostClassifier"
   ]
  },
  {
   "cell_type": "code",
   "execution_count": 2,
   "metadata": {},
   "outputs": [],
   "source": [
    "# loading datasets\n",
    "actives = pd.read_csv('../../mold2_descriptors/2242_actives.csv')\n",
    "inactives = pd.read_csv('../../mold2_descriptors/2242_inactives.csv')"
   ]
  },
  {
   "cell_type": "code",
   "execution_count": 3,
   "metadata": {},
   "outputs": [
    {
     "name": "stdout",
     "output_type": "stream",
     "text": [
      "actives: 715\n",
      "inactives: 183379\n"
     ]
    }
   ],
   "source": [
    "print('actives:', len(actives))\n",
    "print('inactives:', len(inactives))"
   ]
  },
  {
   "cell_type": "code",
   "execution_count": 4,
   "metadata": {},
   "outputs": [],
   "source": [
    "# spliting datasets into test - train & validation\n",
    "actives_test = actives.sample(n=300, random_state=42)\n",
    "actives_train = actives.drop(actives_test.index)\n",
    "inactives_test = inactives.sample(n=300, random_state=42)\n",
    "inactives_train = inactives.drop(inactives_test.index)\n",
    "\n",
    "inactives_train = inactives_train.sample(n=865)"
   ]
  },
  {
   "cell_type": "code",
   "execution_count": 5,
   "metadata": {},
   "outputs": [],
   "source": [
    "df = pd.concat([actives_train, inactives_train], ignore_index=True)"
   ]
  },
  {
   "cell_type": "code",
   "execution_count": 6,
   "metadata": {},
   "outputs": [
    {
     "data": {
      "text/html": [
       "<div>\n",
       "<style scoped>\n",
       "    .dataframe tbody tr th:only-of-type {\n",
       "        vertical-align: middle;\n",
       "    }\n",
       "\n",
       "    .dataframe tbody tr th {\n",
       "        vertical-align: top;\n",
       "    }\n",
       "\n",
       "    .dataframe thead th {\n",
       "        text-align: right;\n",
       "    }\n",
       "</style>\n",
       "<table border=\"1\" class=\"dataframe\">\n",
       "  <thead>\n",
       "    <tr style=\"text-align: right;\">\n",
       "      <th></th>\n",
       "      <th>D001</th>\n",
       "      <th>D002</th>\n",
       "      <th>D003</th>\n",
       "      <th>D004</th>\n",
       "      <th>D005</th>\n",
       "      <th>D006</th>\n",
       "      <th>D007</th>\n",
       "      <th>D008</th>\n",
       "      <th>D009</th>\n",
       "      <th>D010</th>\n",
       "      <th>...</th>\n",
       "      <th>D769</th>\n",
       "      <th>D770</th>\n",
       "      <th>D771</th>\n",
       "      <th>D772</th>\n",
       "      <th>D773</th>\n",
       "      <th>D774</th>\n",
       "      <th>D775</th>\n",
       "      <th>D776</th>\n",
       "      <th>D777</th>\n",
       "      <th>activity</th>\n",
       "    </tr>\n",
       "  </thead>\n",
       "  <tbody>\n",
       "    <tr>\n",
       "      <th>0</th>\n",
       "      <td>0</td>\n",
       "      <td>0</td>\n",
       "      <td>0</td>\n",
       "      <td>1</td>\n",
       "      <td>1</td>\n",
       "      <td>0</td>\n",
       "      <td>0</td>\n",
       "      <td>0</td>\n",
       "      <td>0</td>\n",
       "      <td>0</td>\n",
       "      <td>...</td>\n",
       "      <td>0</td>\n",
       "      <td>1</td>\n",
       "      <td>0</td>\n",
       "      <td>0</td>\n",
       "      <td>0</td>\n",
       "      <td>4.16993</td>\n",
       "      <td>-0.044232</td>\n",
       "      <td>0.000000</td>\n",
       "      <td>0.541902</td>\n",
       "      <td>0</td>\n",
       "    </tr>\n",
       "    <tr>\n",
       "      <th>1</th>\n",
       "      <td>1</td>\n",
       "      <td>0</td>\n",
       "      <td>0</td>\n",
       "      <td>1</td>\n",
       "      <td>1</td>\n",
       "      <td>0</td>\n",
       "      <td>0</td>\n",
       "      <td>0</td>\n",
       "      <td>0</td>\n",
       "      <td>0</td>\n",
       "      <td>...</td>\n",
       "      <td>0</td>\n",
       "      <td>0</td>\n",
       "      <td>0</td>\n",
       "      <td>0</td>\n",
       "      <td>0</td>\n",
       "      <td>5.00000</td>\n",
       "      <td>-0.155250</td>\n",
       "      <td>0.230769</td>\n",
       "      <td>1.353090</td>\n",
       "      <td>0</td>\n",
       "    </tr>\n",
       "    <tr>\n",
       "      <th>2</th>\n",
       "      <td>1</td>\n",
       "      <td>0</td>\n",
       "      <td>0</td>\n",
       "      <td>2</td>\n",
       "      <td>2</td>\n",
       "      <td>0</td>\n",
       "      <td>0</td>\n",
       "      <td>0</td>\n",
       "      <td>0</td>\n",
       "      <td>0</td>\n",
       "      <td>...</td>\n",
       "      <td>0</td>\n",
       "      <td>0</td>\n",
       "      <td>0</td>\n",
       "      <td>0</td>\n",
       "      <td>0</td>\n",
       "      <td>5.39232</td>\n",
       "      <td>-0.639251</td>\n",
       "      <td>0.176471</td>\n",
       "      <td>3.076670</td>\n",
       "      <td>0</td>\n",
       "    </tr>\n",
       "    <tr>\n",
       "      <th>3</th>\n",
       "      <td>1</td>\n",
       "      <td>0</td>\n",
       "      <td>0</td>\n",
       "      <td>1</td>\n",
       "      <td>2</td>\n",
       "      <td>0</td>\n",
       "      <td>0</td>\n",
       "      <td>0</td>\n",
       "      <td>0</td>\n",
       "      <td>0</td>\n",
       "      <td>...</td>\n",
       "      <td>0</td>\n",
       "      <td>1</td>\n",
       "      <td>0</td>\n",
       "      <td>0</td>\n",
       "      <td>0</td>\n",
       "      <td>4.75489</td>\n",
       "      <td>-0.708960</td>\n",
       "      <td>0.300000</td>\n",
       "      <td>2.423190</td>\n",
       "      <td>0</td>\n",
       "    </tr>\n",
       "    <tr>\n",
       "      <th>4</th>\n",
       "      <td>1</td>\n",
       "      <td>0</td>\n",
       "      <td>0</td>\n",
       "      <td>1</td>\n",
       "      <td>3</td>\n",
       "      <td>0</td>\n",
       "      <td>0</td>\n",
       "      <td>0</td>\n",
       "      <td>0</td>\n",
       "      <td>0</td>\n",
       "      <td>...</td>\n",
       "      <td>0</td>\n",
       "      <td>0</td>\n",
       "      <td>0</td>\n",
       "      <td>0</td>\n",
       "      <td>0</td>\n",
       "      <td>5.24793</td>\n",
       "      <td>-0.750851</td>\n",
       "      <td>0.214286</td>\n",
       "      <td>1.454110</td>\n",
       "      <td>0</td>\n",
       "    </tr>\n",
       "  </tbody>\n",
       "</table>\n",
       "<p>5 rows × 778 columns</p>\n",
       "</div>"
      ],
      "text/plain": [
       "   D001  D002  D003  D004  D005  D006  D007  D008  D009  D010  ...  D769  \\\n",
       "0     0     0     0     1     1     0     0     0     0     0  ...     0   \n",
       "1     1     0     0     1     1     0     0     0     0     0  ...     0   \n",
       "2     1     0     0     2     2     0     0     0     0     0  ...     0   \n",
       "3     1     0     0     1     2     0     0     0     0     0  ...     0   \n",
       "4     1     0     0     1     3     0     0     0     0     0  ...     0   \n",
       "\n",
       "   D770  D771  D772  D773     D774      D775      D776      D777  activity  \n",
       "0     1     0     0     0  4.16993 -0.044232  0.000000  0.541902         0  \n",
       "1     0     0     0     0  5.00000 -0.155250  0.230769  1.353090         0  \n",
       "2     0     0     0     0  5.39232 -0.639251  0.176471  3.076670         0  \n",
       "3     1     0     0     0  4.75489 -0.708960  0.300000  2.423190         0  \n",
       "4     0     0     0     0  5.24793 -0.750851  0.214286  1.454110         0  \n",
       "\n",
       "[5 rows x 778 columns]"
      ]
     },
     "execution_count": 6,
     "metadata": {},
     "output_type": "execute_result"
    }
   ],
   "source": [
    "df = df.sample(frac=1, random_state=42).reset_index(drop=True)\n",
    "df.head()"
   ]
  },
  {
   "cell_type": "code",
   "execution_count": 7,
   "metadata": {},
   "outputs": [],
   "source": [
    "X = df.drop(['activity'], axis=1)\n",
    "y = df['activity']"
   ]
  },
  {
   "cell_type": "code",
   "execution_count": 8,
   "metadata": {},
   "outputs": [
    {
     "data": {
      "text/plain": [
       "0    865\n",
       "1    415\n",
       "Name: activity, dtype: int64"
      ]
     },
     "execution_count": 8,
     "metadata": {},
     "output_type": "execute_result"
    }
   ],
   "source": [
    "y.value_counts()"
   ]
  },
  {
   "cell_type": "code",
   "execution_count": 9,
   "metadata": {},
   "outputs": [],
   "source": [
    "import matplotlib.pyplot as plt"
   ]
  },
  {
   "cell_type": "code",
   "execution_count": 10,
   "metadata": {},
   "outputs": [
    {
     "data": {
      "image/png": "[encoded data removed]",
      "text/plain": [
       "<Figure size 1000x600 with 1 Axes>"
      ]
     },
     "metadata": {},
     "output_type": "display_data"
    }
   ],
   "source": [
    "ax = y.value_counts().plot(kind='bar', figsize=(10, 6), fontsize=13, color='blue')\n",
    "ax.set_title('distribution of actives and inactives', fontsize=13)\n",
    "ax.set_alpha(0.5)"
   ]
  },
  {
   "cell_type": "code",
   "execution_count": 11,
   "metadata": {},
   "outputs": [],
   "source": [
    "X_train, X_validate, y_train, y_validate = train_test_split(X, y, test_size=0.01, random_state=42)"
   ]
  },
  {
   "cell_type": "code",
   "execution_count": 12,
   "metadata": {},
   "outputs": [],
   "source": [
    "# normalizing data\n",
    "from sklearn.preprocessing import StandardScaler\n",
    "\n",
    "scaler = StandardScaler()\n",
    "\n",
    "scaler.fit(X_train)\n",
    "X_train = scaler.transform(X_train)\n",
    "X_validate = scaler.transform(X_validate)\n",
    "\n",
    "X_train = pd.DataFrame(X_train, columns=X.columns)\n",
    "X_validate = pd.DataFrame(X_validate, columns=X.columns)"
   ]
  },
  {
   "cell_type": "markdown",
   "metadata": {},
   "source": [
    "### Removing low variance features to improve model performance"
   ]
  },
  {
   "cell_type": "code",
   "execution_count": 13,
   "metadata": {},
   "outputs": [
    {
     "data": {
      "text/plain": [
       "((1267, 616), (13, 616))"
      ]
     },
     "execution_count": 13,
     "metadata": {},
     "output_type": "execute_result"
    }
   ],
   "source": [
    "from sklearn.feature_selection import VarianceThreshold\n",
    "\n",
    "\n",
    "thresh = VarianceThreshold(threshold=0.03)\n",
    "thresh.fit(X_train)\n",
    "mask = thresh.get_support()\n",
    "\n",
    "\n",
    "X_train = X_train.loc[:, mask]\n",
    "X_validate = X_validate.loc[:, mask]\n",
    "\n",
    "X_train.shape, X_validate.shape"
   ]
  },
  {
   "cell_type": "markdown",
   "metadata": {},
   "source": [
    "## training model with undersampled data"
   ]
  },
  {
   "cell_type": "code",
   "execution_count": 14,
   "metadata": {},
   "outputs": [
    {
     "data": {
      "text/html": [
       "<style>#sk-container-id-1 {color: black;background-color: white;}#sk-container-id-1 pre{padding: 0;}#sk-container-id-1 div.sk-toggleable {background-color: white;}#sk-container-id-1 label.sk-toggleable__label {cursor: pointer;display: block;width: 100%;margin-bottom: 0;padding: 0.3em;box-sizing: border-box;text-align: center;}#sk-container-id-1 label.sk-toggleable__label-arrow:before {content: \"▸\";float: left;margin-right: 0.25em;color: #696969;}#sk-container-id-1 label.sk-toggleable__label-arrow:hover:before {color: black;}#sk-container-id-1 div.sk-estimator:hover label.sk-toggleable__label-arrow:before {color: black;}#sk-container-id-1 div.sk-toggleable__content {max-height: 0;max-width: 0;overflow: hidden;text-align: left;background-color: #f0f8ff;}#sk-container-id-1 div.sk-toggleable__content pre {margin: 0.2em;color: black;border-radius: 0.25em;background-color: #f0f8ff;}#sk-container-id-1 input.sk-toggleable__control:checked~div.sk-toggleable__content {max-height: 200px;max-width: 100%;overflow: auto;}#sk-container-id-1 input.sk-toggleable__control:checked~label.sk-toggleable__label-arrow:before {content: \"▾\";}#sk-container-id-1 div.sk-estimator input.sk-toggleable__control:checked~label.sk-toggleable__label {background-color: #d4ebff;}#sk-container-id-1 div.sk-label input.sk-toggleable__control:checked~label.sk-toggleable__label {background-color: #d4ebff;}#sk-container-id-1 input.sk-hidden--visually {border: 0;clip: rect(1px 1px 1px 1px);clip: rect(1px, 1px, 1px, 1px);height: 1px;margin: -1px;overflow: hidden;padding: 0;position: absolute;width: 1px;}#sk-container-id-1 div.sk-estimator {font-family: monospace;background-color: #f0f8ff;border: 1px dotted black;border-radius: 0.25em;box-sizing: border-box;margin-bottom: 0.5em;}#sk-container-id-1 div.sk-estimator:hover {background-color: #d4ebff;}#sk-container-id-1 div.sk-parallel-item::after {content: \"\";width: 100%;border-bottom: 1px solid gray;flex-grow: 1;}#sk-container-id-1 div.sk-label:hover label.sk-toggleable__label {background-color: #d4ebff;}#sk-container-id-1 div.sk-serial::before {content: \"\";position: absolute;border-left: 1px solid gray;box-sizing: border-box;top: 0;bottom: 0;left: 50%;z-index: 0;}#sk-container-id-1 div.sk-serial {display: flex;flex-direction: column;align-items: center;background-color: white;padding-right: 0.2em;padding-left: 0.2em;position: relative;}#sk-container-id-1 div.sk-item {position: relative;z-index: 1;}#sk-container-id-1 div.sk-parallel {display: flex;align-items: stretch;justify-content: center;background-color: white;position: relative;}#sk-container-id-1 div.sk-item::before, #sk-container-id-1 div.sk-parallel-item::before {content: \"\";position: absolute;border-left: 1px solid gray;box-sizing: border-box;top: 0;bottom: 0;left: 50%;z-index: -1;}#sk-container-id-1 div.sk-parallel-item {display: flex;flex-direction: column;z-index: 1;position: relative;background-color: white;}#sk-container-id-1 div.sk-parallel-item:first-child::after {align-self: flex-end;width: 50%;}#sk-container-id-1 div.sk-parallel-item:last-child::after {align-self: flex-start;width: 50%;}#sk-container-id-1 div.sk-parallel-item:only-child::after {width: 0;}#sk-container-id-1 div.sk-dashed-wrapped {border: 1px dashed gray;margin: 0 0.4em 0.5em 0.4em;box-sizing: border-box;padding-bottom: 0.4em;background-color: white;}#sk-container-id-1 div.sk-label label {font-family: monospace;font-weight: bold;display: inline-block;line-height: 1.2em;}#sk-container-id-1 div.sk-label-container {text-align: center;}#sk-container-id-1 div.sk-container {/* jupyter's `normalize.less` sets `[hidden] { display: none; }` but bootstrap.min.css set `[hidden] { display: none !important; }` so we also need the `!important` here to be able to override the default hidden behavior on the sphinx rendered scikit-learn.org. See: https://github.com/scikit-learn/scikit-learn/issues/21755 */display: inline-block !important;position: relative;}#sk-container-id-1 div.sk-text-repr-fallback {display: none;}</style><div id=\"sk-container-id-1\" class=\"sk-top-container\"><div class=\"sk-text-repr-fallback\"><pre>AdaBoostClassifier()</pre><b>In a Jupyter environment, please rerun this cell to show the HTML representation or trust the notebook. <br />On GitHub, the HTML representation is unable to render, please try loading this page with nbviewer.org.</b></div><div class=\"sk-container\" hidden><div class=\"sk-item\"><div class=\"sk-estimator sk-toggleable\"><input class=\"sk-toggleable__control sk-hidden--visually\" id=\"sk-estimator-id-1\" type=\"checkbox\" checked><label for=\"sk-estimator-id-1\" class=\"sk-toggleable__label sk-toggleable__label-arrow\">AdaBoostClassifier</label><div class=\"sk-toggleable__content\"><pre>AdaBoostClassifier()</pre></div></div></div></div></div>"
      ],
      "text/plain": [
       "AdaBoostClassifier()"
      ]
     },
     "execution_count": 14,
     "metadata": {},
     "output_type": "execute_result"
    }
   ],
   "source": [
    "model = AdaBoostClassifier()\n",
    "model.fit(X_train, y_train)"
   ]
  },
  {
   "cell_type": "markdown",
   "metadata": {},
   "source": [
    "### evaluating the model using the test data"
   ]
  },
  {
   "cell_type": "code",
   "execution_count": 15,
   "metadata": {},
   "outputs": [],
   "source": [
    "# getting the test dataset\n",
    "testing_data = pd.concat([actives_test, inactives_test], ignore_index=True)"
   ]
  },
  {
   "cell_type": "code",
   "execution_count": 16,
   "metadata": {},
   "outputs": [
    {
     "data": {
      "text/plain": [
       "600"
      ]
     },
     "execution_count": 16,
     "metadata": {},
     "output_type": "execute_result"
    }
   ],
   "source": [
    "len(testing_data)"
   ]
  },
  {
   "cell_type": "code",
   "execution_count": 17,
   "metadata": {},
   "outputs": [
    {
     "data": {
      "text/plain": [
       "1    300\n",
       "0    300\n",
       "Name: activity, dtype: int64"
      ]
     },
     "execution_count": 17,
     "metadata": {},
     "output_type": "execute_result"
    }
   ],
   "source": [
    "testing_data['activity'].value_counts()"
   ]
  },
  {
   "cell_type": "code",
   "execution_count": 18,
   "metadata": {},
   "outputs": [
    {
     "data": {
      "text/html": [
       "<div>\n",
       "<style scoped>\n",
       "    .dataframe tbody tr th:only-of-type {\n",
       "        vertical-align: middle;\n",
       "    }\n",
       "\n",
       "    .dataframe tbody tr th {\n",
       "        vertical-align: top;\n",
       "    }\n",
       "\n",
       "    .dataframe thead th {\n",
       "        text-align: right;\n",
       "    }\n",
       "</style>\n",
       "<table border=\"1\" class=\"dataframe\">\n",
       "  <thead>\n",
       "    <tr style=\"text-align: right;\">\n",
       "      <th></th>\n",
       "      <th>D001</th>\n",
       "      <th>D002</th>\n",
       "      <th>D003</th>\n",
       "      <th>D004</th>\n",
       "      <th>D005</th>\n",
       "      <th>D006</th>\n",
       "      <th>D007</th>\n",
       "      <th>D008</th>\n",
       "      <th>D009</th>\n",
       "      <th>D010</th>\n",
       "      <th>...</th>\n",
       "      <th>D769</th>\n",
       "      <th>D770</th>\n",
       "      <th>D771</th>\n",
       "      <th>D772</th>\n",
       "      <th>D773</th>\n",
       "      <th>D774</th>\n",
       "      <th>D775</th>\n",
       "      <th>D776</th>\n",
       "      <th>D777</th>\n",
       "      <th>activity</th>\n",
       "    </tr>\n",
       "  </thead>\n",
       "  <tbody>\n",
       "    <tr>\n",
       "      <th>0</th>\n",
       "      <td>1</td>\n",
       "      <td>0</td>\n",
       "      <td>0</td>\n",
       "      <td>1</td>\n",
       "      <td>3</td>\n",
       "      <td>0</td>\n",
       "      <td>0</td>\n",
       "      <td>0</td>\n",
       "      <td>0</td>\n",
       "      <td>0</td>\n",
       "      <td>...</td>\n",
       "      <td>0</td>\n",
       "      <td>0</td>\n",
       "      <td>0</td>\n",
       "      <td>0</td>\n",
       "      <td>0</td>\n",
       "      <td>4.954</td>\n",
       "      <td>-0.280</td>\n",
       "      <td>0.231</td>\n",
       "      <td>3.149</td>\n",
       "      <td>1</td>\n",
       "    </tr>\n",
       "    <tr>\n",
       "      <th>1</th>\n",
       "      <td>1</td>\n",
       "      <td>0</td>\n",
       "      <td>0</td>\n",
       "      <td>2</td>\n",
       "      <td>2</td>\n",
       "      <td>0</td>\n",
       "      <td>0</td>\n",
       "      <td>0</td>\n",
       "      <td>0</td>\n",
       "      <td>0</td>\n",
       "      <td>...</td>\n",
       "      <td>0</td>\n",
       "      <td>1</td>\n",
       "      <td>0</td>\n",
       "      <td>0</td>\n",
       "      <td>1</td>\n",
       "      <td>5.285</td>\n",
       "      <td>-0.234</td>\n",
       "      <td>0.214</td>\n",
       "      <td>0.636</td>\n",
       "      <td>1</td>\n",
       "    </tr>\n",
       "    <tr>\n",
       "      <th>2</th>\n",
       "      <td>2</td>\n",
       "      <td>0</td>\n",
       "      <td>0</td>\n",
       "      <td>2</td>\n",
       "      <td>2</td>\n",
       "      <td>0</td>\n",
       "      <td>0</td>\n",
       "      <td>0</td>\n",
       "      <td>0</td>\n",
       "      <td>0</td>\n",
       "      <td>...</td>\n",
       "      <td>0</td>\n",
       "      <td>2</td>\n",
       "      <td>0</td>\n",
       "      <td>0</td>\n",
       "      <td>0</td>\n",
       "      <td>5.170</td>\n",
       "      <td>-0.658</td>\n",
       "      <td>0.444</td>\n",
       "      <td>3.317</td>\n",
       "      <td>1</td>\n",
       "    </tr>\n",
       "    <tr>\n",
       "      <th>3</th>\n",
       "      <td>2</td>\n",
       "      <td>0</td>\n",
       "      <td>0</td>\n",
       "      <td>2</td>\n",
       "      <td>2</td>\n",
       "      <td>0</td>\n",
       "      <td>0</td>\n",
       "      <td>0</td>\n",
       "      <td>0</td>\n",
       "      <td>0</td>\n",
       "      <td>...</td>\n",
       "      <td>0</td>\n",
       "      <td>0</td>\n",
       "      <td>0</td>\n",
       "      <td>0</td>\n",
       "      <td>0</td>\n",
       "      <td>5.170</td>\n",
       "      <td>-0.823</td>\n",
       "      <td>0.444</td>\n",
       "      <td>3.307</td>\n",
       "      <td>1</td>\n",
       "    </tr>\n",
       "    <tr>\n",
       "      <th>4</th>\n",
       "      <td>0</td>\n",
       "      <td>0</td>\n",
       "      <td>0</td>\n",
       "      <td>1</td>\n",
       "      <td>1</td>\n",
       "      <td>0</td>\n",
       "      <td>0</td>\n",
       "      <td>0</td>\n",
       "      <td>0</td>\n",
       "      <td>0</td>\n",
       "      <td>...</td>\n",
       "      <td>0</td>\n",
       "      <td>1</td>\n",
       "      <td>0</td>\n",
       "      <td>0</td>\n",
       "      <td>0</td>\n",
       "      <td>4.858</td>\n",
       "      <td>-0.717</td>\n",
       "      <td>0.000</td>\n",
       "      <td>1.820</td>\n",
       "      <td>1</td>\n",
       "    </tr>\n",
       "  </tbody>\n",
       "</table>\n",
       "<p>5 rows × 778 columns</p>\n",
       "</div>"
      ],
      "text/plain": [
       "   D001  D002  D003  D004  D005  D006  D007  D008  D009  D010  ...  D769  \\\n",
       "0     1     0     0     1     3     0     0     0     0     0  ...     0   \n",
       "1     1     0     0     2     2     0     0     0     0     0  ...     0   \n",
       "2     2     0     0     2     2     0     0     0     0     0  ...     0   \n",
       "3     2     0     0     2     2     0     0     0     0     0  ...     0   \n",
       "4     0     0     0     1     1     0     0     0     0     0  ...     0   \n",
       "\n",
       "   D770  D771  D772  D773   D774   D775   D776   D777  activity  \n",
       "0     0     0     0     0  4.954 -0.280  0.231  3.149         1  \n",
       "1     1     0     0     1  5.285 -0.234  0.214  0.636         1  \n",
       "2     2     0     0     0  5.170 -0.658  0.444  3.317         1  \n",
       "3     0     0     0     0  5.170 -0.823  0.444  3.307         1  \n",
       "4     1     0     0     0  4.858 -0.717  0.000  1.820         1  \n",
       "\n",
       "[5 rows x 778 columns]"
      ]
     },
     "execution_count": 18,
     "metadata": {},
     "output_type": "execute_result"
    }
   ],
   "source": [
    "testing_data.head()"
   ]
  },
  {
   "cell_type": "code",
   "execution_count": 19,
   "metadata": {},
   "outputs": [
    {
     "name": "stdout",
     "output_type": "stream",
     "text": [
      "600\n"
     ]
    }
   ],
   "source": [
    "testing_data_x = testing_data.drop(['activity'], axis=1)\n",
    "print(len(testing_data_x))\n",
    "testing_data_x = scaler.transform(testing_data_x)\n",
    "testing_data_y = testing_data['activity']"
   ]
  },
  {
   "cell_type": "code",
   "execution_count": 20,
   "metadata": {},
   "outputs": [],
   "source": [
    "testing_data_x = pd.DataFrame(testing_data_x, columns=X.columns)"
   ]
  },
  {
   "cell_type": "code",
   "execution_count": 21,
   "metadata": {},
   "outputs": [],
   "source": [
    "testing_data_x = testing_data_x.loc[:, mask]"
   ]
  },
  {
   "cell_type": "code",
   "execution_count": 22,
   "metadata": {},
   "outputs": [
    {
     "data": {
      "text/html": [
       "<div>\n",
       "<style scoped>\n",
       "    .dataframe tbody tr th:only-of-type {\n",
       "        vertical-align: middle;\n",
       "    }\n",
       "\n",
       "    .dataframe tbody tr th {\n",
       "        vertical-align: top;\n",
       "    }\n",
       "\n",
       "    .dataframe thead th {\n",
       "        text-align: right;\n",
       "    }\n",
       "</style>\n",
       "<table border=\"1\" class=\"dataframe\">\n",
       "  <thead>\n",
       "    <tr style=\"text-align: right;\">\n",
       "      <th></th>\n",
       "      <th>D001</th>\n",
       "      <th>D002</th>\n",
       "      <th>D003</th>\n",
       "      <th>D004</th>\n",
       "      <th>D005</th>\n",
       "      <th>D006</th>\n",
       "      <th>D007</th>\n",
       "      <th>D011</th>\n",
       "      <th>D012</th>\n",
       "      <th>D013</th>\n",
       "      <th>...</th>\n",
       "      <th>D768</th>\n",
       "      <th>D769</th>\n",
       "      <th>D770</th>\n",
       "      <th>D771</th>\n",
       "      <th>D772</th>\n",
       "      <th>D773</th>\n",
       "      <th>D774</th>\n",
       "      <th>D775</th>\n",
       "      <th>D776</th>\n",
       "      <th>D777</th>\n",
       "    </tr>\n",
       "  </thead>\n",
       "  <tbody>\n",
       "    <tr>\n",
       "      <th>0</th>\n",
       "      <td>-0.430773</td>\n",
       "      <td>-0.081368</td>\n",
       "      <td>-0.062944</td>\n",
       "      <td>0.245386</td>\n",
       "      <td>0.805881</td>\n",
       "      <td>-0.105703</td>\n",
       "      <td>-0.028105</td>\n",
       "      <td>-0.028105</td>\n",
       "      <td>-0.941317</td>\n",
       "      <td>1.380478</td>\n",
       "      <td>...</td>\n",
       "      <td>-0.148615</td>\n",
       "      <td>-0.028105</td>\n",
       "      <td>-0.542219</td>\n",
       "      <td>-0.216103</td>\n",
       "      <td>-0.039762</td>\n",
       "      <td>-0.183623</td>\n",
       "      <td>-0.283049</td>\n",
       "      <td>1.015913</td>\n",
       "      <td>-0.430244</td>\n",
       "      <td>0.828101</td>\n",
       "    </tr>\n",
       "    <tr>\n",
       "      <th>1</th>\n",
       "      <td>-0.430773</td>\n",
       "      <td>-0.081368</td>\n",
       "      <td>-0.062944</td>\n",
       "      <td>1.562777</td>\n",
       "      <td>-0.279189</td>\n",
       "      <td>-0.105703</td>\n",
       "      <td>-0.028105</td>\n",
       "      <td>-0.028105</td>\n",
       "      <td>0.459876</td>\n",
       "      <td>1.380478</td>\n",
       "      <td>...</td>\n",
       "      <td>-0.148615</td>\n",
       "      <td>-0.028105</td>\n",
       "      <td>1.319547</td>\n",
       "      <td>-0.216103</td>\n",
       "      <td>-0.039762</td>\n",
       "      <td>4.986385</td>\n",
       "      <td>0.559829</td>\n",
       "      <td>1.171609</td>\n",
       "      <td>-0.537579</td>\n",
       "      <td>-1.231672</td>\n",
       "    </tr>\n",
       "    <tr>\n",
       "      <th>2</th>\n",
       "      <td>0.862567</td>\n",
       "      <td>-0.081368</td>\n",
       "      <td>-0.062944</td>\n",
       "      <td>1.562777</td>\n",
       "      <td>-0.279189</td>\n",
       "      <td>-0.105703</td>\n",
       "      <td>-0.028105</td>\n",
       "      <td>-0.028105</td>\n",
       "      <td>0.693408</td>\n",
       "      <td>0.902983</td>\n",
       "      <td>...</td>\n",
       "      <td>-0.148615</td>\n",
       "      <td>-0.028105</td>\n",
       "      <td>3.181313</td>\n",
       "      <td>-0.216103</td>\n",
       "      <td>-0.039762</td>\n",
       "      <td>-0.183623</td>\n",
       "      <td>0.266986</td>\n",
       "      <td>-0.263499</td>\n",
       "      <td>0.914601</td>\n",
       "      <td>0.965801</td>\n",
       "    </tr>\n",
       "    <tr>\n",
       "      <th>3</th>\n",
       "      <td>0.862567</td>\n",
       "      <td>-0.081368</td>\n",
       "      <td>-0.062944</td>\n",
       "      <td>1.562777</td>\n",
       "      <td>-0.279189</td>\n",
       "      <td>-0.105703</td>\n",
       "      <td>-0.028105</td>\n",
       "      <td>-0.028105</td>\n",
       "      <td>0.693408</td>\n",
       "      <td>-0.052008</td>\n",
       "      <td>...</td>\n",
       "      <td>-0.148615</td>\n",
       "      <td>-0.028105</td>\n",
       "      <td>-0.542219</td>\n",
       "      <td>-0.216103</td>\n",
       "      <td>-0.039762</td>\n",
       "      <td>-0.183623</td>\n",
       "      <td>0.266986</td>\n",
       "      <td>-0.821973</td>\n",
       "      <td>0.914601</td>\n",
       "      <td>0.957605</td>\n",
       "    </tr>\n",
       "    <tr>\n",
       "      <th>4</th>\n",
       "      <td>-1.724114</td>\n",
       "      <td>-0.081368</td>\n",
       "      <td>-0.062944</td>\n",
       "      <td>0.245386</td>\n",
       "      <td>-1.364260</td>\n",
       "      <td>-0.105703</td>\n",
       "      <td>-0.028105</td>\n",
       "      <td>-0.028105</td>\n",
       "      <td>-1.408382</td>\n",
       "      <td>-1.006999</td>\n",
       "      <td>...</td>\n",
       "      <td>-0.148615</td>\n",
       "      <td>-0.028105</td>\n",
       "      <td>1.319547</td>\n",
       "      <td>-0.216103</td>\n",
       "      <td>-0.039762</td>\n",
       "      <td>-0.183623</td>\n",
       "      <td>-0.527509</td>\n",
       "      <td>-0.463196</td>\n",
       "      <td>-1.888738</td>\n",
       "      <td>-0.261210</td>\n",
       "    </tr>\n",
       "  </tbody>\n",
       "</table>\n",
       "<p>5 rows × 616 columns</p>\n",
       "</div>"
      ],
      "text/plain": [
       "       D001      D002      D003      D004      D005      D006      D007  \\\n",
       "0 -0.430773 -0.081368 -0.062944  0.245386  0.805881 -0.105703 -0.028105   \n",
       "1 -0.430773 -0.081368 -0.062944  1.562777 -0.279189 -0.105703 -0.028105   \n",
       "2  0.862567 -0.081368 -0.062944  1.562777 -0.279189 -0.105703 -0.028105   \n",
       "3  0.862567 -0.081368 -0.062944  1.562777 -0.279189 -0.105703 -0.028105   \n",
       "4 -1.724114 -0.081368 -0.062944  0.245386 -1.364260 -0.105703 -0.028105   \n",
       "\n",
       "       D011      D012      D013  ...      D768      D769      D770      D771  \\\n",
       "0 -0.028105 -0.941317  1.380478  ... -0.148615 -0.028105 -0.542219 -0.216103   \n",
       "1 -0.028105  0.459876  1.380478  ... -0.148615 -0.028105  1.319547 -0.216103   \n",
       "2 -0.028105  0.693408  0.902983  ... -0.148615 -0.028105  3.181313 -0.216103   \n",
       "3 -0.028105  0.693408 -0.052008  ... -0.148615 -0.028105 -0.542219 -0.216103   \n",
       "4 -0.028105 -1.408382 -1.006999  ... -0.148615 -0.028105  1.319547 -0.216103   \n",
       "\n",
       "       D772      D773      D774      D775      D776      D777  \n",
       "0 -0.039762 -0.183623 -0.283049  1.015913 -0.430244  0.828101  \n",
       "1 -0.039762  4.986385  0.559829  1.171609 -0.537579 -1.231672  \n",
       "2 -0.039762 -0.183623  0.266986 -0.263499  0.914601  0.965801  \n",
       "3 -0.039762 -0.183623  0.266986 -0.821973  0.914601  0.957605  \n",
       "4 -0.039762 -0.183623 -0.527509 -0.463196 -1.888738 -0.261210  \n",
       "\n",
       "[5 rows x 616 columns]"
      ]
     },
     "execution_count": 22,
     "metadata": {},
     "output_type": "execute_result"
    }
   ],
   "source": [
    "testing_data_x.head()"
   ]
  },
  {
   "cell_type": "code",
   "execution_count": 23,
   "metadata": {},
   "outputs": [
    {
     "name": "stderr",
     "output_type": "stream",
     "text": [
      "c:\\Users\\dopew\\Desktop\\fyp\\venv\\lib\\site-packages\\sklearn\\base.py:450: UserWarning: X does not have valid feature names, but AdaBoostClassifier was fitted with feature names\n",
      "  warnings.warn(\n"
     ]
    },
    {
     "data": {
      "text/plain": [
       "array([0], dtype=int64)"
      ]
     },
     "execution_count": 23,
     "metadata": {},
     "output_type": "execute_result"
    }
   ],
   "source": [
    "model.predict((testing_data_x.iloc[500]).to_numpy().reshape(1, -1))"
   ]
  },
  {
   "cell_type": "code",
   "execution_count": 24,
   "metadata": {},
   "outputs": [],
   "source": [
    "# converting the test dataset into a numpy array\n",
    "testing_data_x = testing_data_x.to_numpy()"
   ]
  },
  {
   "cell_type": "markdown",
   "metadata": {},
   "source": [
    "#### Model's accuracy on test set"
   ]
  },
  {
   "cell_type": "code",
   "execution_count": 25,
   "metadata": {},
   "outputs": [
    {
     "name": "stderr",
     "output_type": "stream",
     "text": [
      "c:\\Users\\dopew\\Desktop\\fyp\\venv\\lib\\site-packages\\sklearn\\base.py:450: UserWarning: X does not have valid feature names, but AdaBoostClassifier was fitted with feature names\n",
      "  warnings.warn(\n"
     ]
    },
    {
     "data": {
      "text/plain": [
       "0.97"
      ]
     },
     "execution_count": 25,
     "metadata": {},
     "output_type": "execute_result"
    }
   ],
   "source": [
    "model.score(testing_data_x, testing_data_y)"
   ]
  },
  {
   "cell_type": "markdown",
   "metadata": {},
   "source": [
    "### evaluating model's performance with F1 score, precision, recall, etc"
   ]
  },
  {
   "cell_type": "code",
   "execution_count": 26,
   "metadata": {},
   "outputs": [],
   "source": [
    "from sklearn.metrics import accuracy_score, precision_score, recall_score, f1_score"
   ]
  },
  {
   "cell_type": "code",
   "execution_count": 27,
   "metadata": {},
   "outputs": [
    {
     "name": "stderr",
     "output_type": "stream",
     "text": [
      "c:\\Users\\dopew\\Desktop\\fyp\\venv\\lib\\site-packages\\sklearn\\base.py:450: UserWarning: X does not have valid feature names, but AdaBoostClassifier was fitted with feature names\n",
      "  warnings.warn(\n"
     ]
    },
    {
     "data": {
      "text/plain": [
       "True"
      ]
     },
     "execution_count": 27,
     "metadata": {},
     "output_type": "execute_result"
    }
   ],
   "source": [
    "y_pred = model.predict_proba(testing_data_x)[:, 1]\n",
    "y_pred_rounded = (y_pred > 0.5).astype(int)\n",
    "y_pred_rounded.shape == y_pred.shape"
   ]
  },
  {
   "cell_type": "code",
   "execution_count": 28,
   "metadata": {},
   "outputs": [
    {
     "data": {
      "text/plain": [
       "True"
      ]
     },
     "execution_count": 28,
     "metadata": {},
     "output_type": "execute_result"
    }
   ],
   "source": [
    "testing_data_y.shape == y_pred.shape"
   ]
  },
  {
   "cell_type": "code",
   "execution_count": 29,
   "metadata": {},
   "outputs": [],
   "source": [
    "accuracy = accuracy_score(testing_data_y, y_pred_rounded)\n",
    "precision = precision_score(testing_data_y, y_pred_rounded)\n",
    "recall = recall_score(testing_data_y, y_pred_rounded)\n",
    "f1 = f1_score(testing_data_y, y_pred_rounded)"
   ]
  },
  {
   "cell_type": "code",
   "execution_count": 30,
   "metadata": {},
   "outputs": [
    {
     "name": "stdout",
     "output_type": "stream",
     "text": [
      "accuracy is 0.97\n",
      "precision is 0.9895833333333334\n",
      "recall is 0.95\n",
      "f1 is 0.9693877551020408\n"
     ]
    }
   ],
   "source": [
    "print(\"accuracy is {}\".format(accuracy))\n",
    "print(\"precision is {}\".format(precision))\n",
    "print(\"recall is {}\".format(recall))\n",
    "print(\"f1 is {}\".format(f1))"
   ]
  }
 ],
 "metadata": {
  "kernelspec": {
   "display_name": "Python 3.10.4 ('venv': venv)",
   "language": "python",
   "name": "python3"
  },
  "language_info": {
   "codemirror_mode": {
    "name": "ipython",
    "version": 3
   },
   "file_extension": ".py",
   "mimetype": "text/x-python",
   "name": "python",
   "nbconvert_exporter": "python",
   "pygments_lexer": "ipython3",
   "version": "3.10.4"
  },
  "orig_nbformat": 4,
  "vscode": {
   "interpreter": {
    "hash": "7aeba9923514841c19733a205d28f40fd7b0363b1cf05defaaef1b17fa5f8895"
   }
  }
 },
 "nbformat": 4,
 "nbformat_minor": 2
}
