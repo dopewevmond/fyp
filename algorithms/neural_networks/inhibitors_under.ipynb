{
 "cells": [
  {
   "cell_type": "code",
   "execution_count": 1,
   "metadata": {},
   "outputs": [],
   "source": [
    "import numpy as np\n",
    "import pandas as pd\n",
    "import matplotlib.pyplot as plt\n",
    "\n",
    "from sklearn.model_selection import train_test_split\n",
    "from sklearn.metrics import roc_curve, auc, RocCurveDisplay"
   ]
  },
  {
   "cell_type": "code",
   "execution_count": 2,
   "metadata": {},
   "outputs": [],
   "source": [
    "# loading datasets\n",
    "actives = pd.read_csv('../../mold2_descriptors/2100_actives.csv')\n",
    "inactives = pd.read_csv('../../mold2_descriptors/2100_inactives.csv')"
   ]
  },
  {
   "cell_type": "code",
   "execution_count": 3,
   "metadata": {},
   "outputs": [
    {
     "name": "stdout",
     "output_type": "stream",
     "text": [
      "actives: 1165\n",
      "inactives: 291883\n"
     ]
    }
   ],
   "source": [
    "print('actives:', len(actives))\n",
    "print('inactives:', len(inactives))"
   ]
  },
  {
   "cell_type": "code",
   "execution_count": 4,
   "metadata": {},
   "outputs": [],
   "source": [
    "# spliting datasets into test - train & validation\n",
    "actives_test = actives.sample(n=400, random_state=42)\n",
    "actives_train = actives.drop(actives_test.index)\n",
    "inactives_test = inactives.sample(n=400, random_state=42)\n",
    "inactives_train = inactives.drop(inactives_test.index)\n",
    "\n",
    "# balancing datasets by sampling just 415 inactives for training\n",
    "inactives_train = inactives_train.sample(n=765, random_state=42)"
   ]
  },
  {
   "cell_type": "code",
   "execution_count": 5,
   "metadata": {},
   "outputs": [],
   "source": [
    "df = pd.concat([actives_train, inactives_train], ignore_index=True)"
   ]
  },
  {
   "cell_type": "code",
   "execution_count": 6,
   "metadata": {},
   "outputs": [
    {
     "data": {
      "text/html": [
       "<div>\n",
       "<style scoped>\n",
       "    .dataframe tbody tr th:only-of-type {\n",
       "        vertical-align: middle;\n",
       "    }\n",
       "\n",
       "    .dataframe tbody tr th {\n",
       "        vertical-align: top;\n",
       "    }\n",
       "\n",
       "    .dataframe thead th {\n",
       "        text-align: right;\n",
       "    }\n",
       "</style>\n",
       "<table border=\"1\" class=\"dataframe\">\n",
       "  <thead>\n",
       "    <tr style=\"text-align: right;\">\n",
       "      <th></th>\n",
       "      <th>D001</th>\n",
       "      <th>D002</th>\n",
       "      <th>D003</th>\n",
       "      <th>D004</th>\n",
       "      <th>D005</th>\n",
       "      <th>D006</th>\n",
       "      <th>D007</th>\n",
       "      <th>D008</th>\n",
       "      <th>D009</th>\n",
       "      <th>D010</th>\n",
       "      <th>...</th>\n",
       "      <th>D769</th>\n",
       "      <th>D770</th>\n",
       "      <th>D771</th>\n",
       "      <th>D772</th>\n",
       "      <th>D773</th>\n",
       "      <th>D774</th>\n",
       "      <th>D775</th>\n",
       "      <th>D776</th>\n",
       "      <th>D777</th>\n",
       "      <th>activity</th>\n",
       "    </tr>\n",
       "  </thead>\n",
       "  <tbody>\n",
       "    <tr>\n",
       "      <th>0</th>\n",
       "      <td>1</td>\n",
       "      <td>0</td>\n",
       "      <td>0</td>\n",
       "      <td>1</td>\n",
       "      <td>2</td>\n",
       "      <td>0</td>\n",
       "      <td>0</td>\n",
       "      <td>0</td>\n",
       "      <td>0</td>\n",
       "      <td>0</td>\n",
       "      <td>...</td>\n",
       "      <td>0</td>\n",
       "      <td>1</td>\n",
       "      <td>0</td>\n",
       "      <td>0</td>\n",
       "      <td>0</td>\n",
       "      <td>4.90700</td>\n",
       "      <td>-0.261000</td>\n",
       "      <td>0.250000</td>\n",
       "      <td>1.812000</td>\n",
       "      <td>1</td>\n",
       "    </tr>\n",
       "    <tr>\n",
       "      <th>1</th>\n",
       "      <td>1</td>\n",
       "      <td>0</td>\n",
       "      <td>0</td>\n",
       "      <td>0</td>\n",
       "      <td>2</td>\n",
       "      <td>0</td>\n",
       "      <td>0</td>\n",
       "      <td>0</td>\n",
       "      <td>0</td>\n",
       "      <td>0</td>\n",
       "      <td>...</td>\n",
       "      <td>0</td>\n",
       "      <td>0</td>\n",
       "      <td>0</td>\n",
       "      <td>0</td>\n",
       "      <td>0</td>\n",
       "      <td>4.70000</td>\n",
       "      <td>0.546000</td>\n",
       "      <td>0.316000</td>\n",
       "      <td>1.274000</td>\n",
       "      <td>1</td>\n",
       "    </tr>\n",
       "    <tr>\n",
       "      <th>2</th>\n",
       "      <td>1</td>\n",
       "      <td>0</td>\n",
       "      <td>0</td>\n",
       "      <td>1</td>\n",
       "      <td>2</td>\n",
       "      <td>0</td>\n",
       "      <td>0</td>\n",
       "      <td>0</td>\n",
       "      <td>0</td>\n",
       "      <td>0</td>\n",
       "      <td>...</td>\n",
       "      <td>0</td>\n",
       "      <td>0</td>\n",
       "      <td>1</td>\n",
       "      <td>0</td>\n",
       "      <td>0</td>\n",
       "      <td>5.32200</td>\n",
       "      <td>-0.703000</td>\n",
       "      <td>0.182000</td>\n",
       "      <td>1.241000</td>\n",
       "      <td>1</td>\n",
       "    </tr>\n",
       "    <tr>\n",
       "      <th>3</th>\n",
       "      <td>1</td>\n",
       "      <td>0</td>\n",
       "      <td>0</td>\n",
       "      <td>0</td>\n",
       "      <td>2</td>\n",
       "      <td>0</td>\n",
       "      <td>0</td>\n",
       "      <td>0</td>\n",
       "      <td>0</td>\n",
       "      <td>0</td>\n",
       "      <td>...</td>\n",
       "      <td>0</td>\n",
       "      <td>0</td>\n",
       "      <td>0</td>\n",
       "      <td>0</td>\n",
       "      <td>0</td>\n",
       "      <td>4.75489</td>\n",
       "      <td>-0.193044</td>\n",
       "      <td>0.272727</td>\n",
       "      <td>0.599722</td>\n",
       "      <td>0</td>\n",
       "    </tr>\n",
       "    <tr>\n",
       "      <th>4</th>\n",
       "      <td>2</td>\n",
       "      <td>0</td>\n",
       "      <td>0</td>\n",
       "      <td>1</td>\n",
       "      <td>2</td>\n",
       "      <td>0</td>\n",
       "      <td>0</td>\n",
       "      <td>0</td>\n",
       "      <td>0</td>\n",
       "      <td>0</td>\n",
       "      <td>...</td>\n",
       "      <td>0</td>\n",
       "      <td>1</td>\n",
       "      <td>0</td>\n",
       "      <td>0</td>\n",
       "      <td>0</td>\n",
       "      <td>4.85800</td>\n",
       "      <td>0.349000</td>\n",
       "      <td>0.571000</td>\n",
       "      <td>2.725000</td>\n",
       "      <td>1</td>\n",
       "    </tr>\n",
       "  </tbody>\n",
       "</table>\n",
       "<p>5 rows × 778 columns</p>\n",
       "</div>"
      ],
      "text/plain": [
       "   D001  D002  D003  D004  D005  D006  D007  D008  D009  D010  ...  D769  \\\n",
       "0     1     0     0     1     2     0     0     0     0     0  ...     0   \n",
       "1     1     0     0     0     2     0     0     0     0     0  ...     0   \n",
       "2     1     0     0     1     2     0     0     0     0     0  ...     0   \n",
       "3     1     0     0     0     2     0     0     0     0     0  ...     0   \n",
       "4     2     0     0     1     2     0     0     0     0     0  ...     0   \n",
       "\n",
       "   D770  D771  D772  D773     D774      D775      D776      D777  activity  \n",
       "0     1     0     0     0  4.90700 -0.261000  0.250000  1.812000         1  \n",
       "1     0     0     0     0  4.70000  0.546000  0.316000  1.274000         1  \n",
       "2     0     1     0     0  5.32200 -0.703000  0.182000  1.241000         1  \n",
       "3     0     0     0     0  4.75489 -0.193044  0.272727  0.599722         0  \n",
       "4     1     0     0     0  4.85800  0.349000  0.571000  2.725000         1  \n",
       "\n",
       "[5 rows x 778 columns]"
      ]
     },
     "execution_count": 6,
     "metadata": {},
     "output_type": "execute_result"
    }
   ],
   "source": [
    "df = df.sample(frac=1, random_state=42).reset_index(drop=True)\n",
    "df.head()"
   ]
  },
  {
   "cell_type": "code",
   "execution_count": 7,
   "metadata": {},
   "outputs": [],
   "source": [
    "X = df.drop(['activity'], axis=1)\n",
    "y = df['activity']"
   ]
  },
  {
   "cell_type": "code",
   "execution_count": 8,
   "metadata": {},
   "outputs": [
    {
     "data": {
      "text/plain": [
       "1    765\n",
       "0    765\n",
       "Name: activity, dtype: int64"
      ]
     },
     "execution_count": 8,
     "metadata": {},
     "output_type": "execute_result"
    }
   ],
   "source": [
    "y.value_counts()"
   ]
  },
  {
   "cell_type": "code",
   "execution_count": 9,
   "metadata": {},
   "outputs": [],
   "source": [
    "import matplotlib.pyplot as plt"
   ]
  },
  {
   "cell_type": "code",
   "execution_count": 10,
   "metadata": {},
   "outputs": [
    {
     "data": {
      "image/png": "[encoded data removed]",
      "text/plain": [
       "<Figure size 1000x600 with 1 Axes>"
      ]
     },
     "metadata": {},
     "output_type": "display_data"
    }
   ],
   "source": [
    "ax = y.value_counts().plot(kind='bar', figsize=(10, 6), fontsize=13, color='blue')\n",
    "ax.set_title('distribution of actives and inactives', fontsize=13)\n",
    "ax.set_alpha(0.5)"
   ]
  },
  {
   "cell_type": "code",
   "execution_count": 11,
   "metadata": {},
   "outputs": [],
   "source": [
    "X_train, X_validate, y_train, y_validate = train_test_split(X, y, test_size=0.3, random_state=42)"
   ]
  },
  {
   "cell_type": "code",
   "execution_count": 12,
   "metadata": {},
   "outputs": [],
   "source": [
    "# normalizing data\n",
    "from sklearn.preprocessing import StandardScaler\n",
    "\n",
    "scaler = StandardScaler()\n",
    "\n",
    "scaler.fit(X_train)\n",
    "X_train = scaler.transform(X_train)\n",
    "X_validate = scaler.transform(X_validate)"
   ]
  },
  {
   "cell_type": "markdown",
   "metadata": {},
   "source": [
    "## training model with balanced (by undersampling inactives) data"
   ]
  },
  {
   "cell_type": "code",
   "execution_count": 13,
   "metadata": {},
   "outputs": [],
   "source": [
    "import tensorflow as tf"
   ]
  },
  {
   "cell_type": "code",
   "execution_count": 14,
   "metadata": {},
   "outputs": [
    {
     "name": "stdout",
     "output_type": "stream",
     "text": [
      "Epoch 1/50\n",
      "34/34 [==============================] - 2s 18ms/step - loss: 0.6572 - accuracy: 0.6200 - val_loss: 0.5685 - val_accuracy: 0.7102\n",
      "Epoch 2/50\n",
      "34/34 [==============================] - 0s 7ms/step - loss: 0.4710 - accuracy: 0.7824 - val_loss: 0.4837 - val_accuracy: 0.7778\n",
      "Epoch 3/50\n",
      "34/34 [==============================] - 0s 8ms/step - loss: 0.3462 - accuracy: 0.8487 - val_loss: 0.5558 - val_accuracy: 0.7516\n",
      "Epoch 4/50\n",
      "34/34 [==============================] - 0s 8ms/step - loss: 0.3024 - accuracy: 0.8665 - val_loss: 0.5008 - val_accuracy: 0.8214\n",
      "Epoch 5/50\n",
      "34/34 [==============================] - 0s 8ms/step - loss: 0.1901 - accuracy: 0.9281 - val_loss: 0.5705 - val_accuracy: 0.8214\n",
      "Epoch 6/50\n",
      "34/34 [==============================] - 0s 7ms/step - loss: 0.1425 - accuracy: 0.9421 - val_loss: 0.6747 - val_accuracy: 0.7974\n",
      "Epoch 7/50\n",
      "34/34 [==============================] - 0s 8ms/step - loss: 0.1740 - accuracy: 0.9356 - val_loss: 0.7104 - val_accuracy: 0.7778\n",
      "Epoch 8/50\n",
      "34/34 [==============================] - 0s 9ms/step - loss: 0.1324 - accuracy: 0.9524 - val_loss: 0.7692 - val_accuracy: 0.8039\n",
      "Epoch 9/50\n",
      "34/34 [==============================] - 1s 17ms/step - loss: 0.0695 - accuracy: 0.9785 - val_loss: 0.7807 - val_accuracy: 0.7996\n",
      "Epoch 10/50\n",
      "34/34 [==============================] - 1s 15ms/step - loss: 0.0528 - accuracy: 0.9813 - val_loss: 0.9050 - val_accuracy: 0.7843\n",
      "Epoch 11/50\n",
      "34/34 [==============================] - 0s 13ms/step - loss: 0.0550 - accuracy: 0.9785 - val_loss: 1.1027 - val_accuracy: 0.7887\n",
      "Epoch 12/50\n",
      "34/34 [==============================] - 0s 13ms/step - loss: 0.0781 - accuracy: 0.9729 - val_loss: 0.9855 - val_accuracy: 0.7974\n",
      "Epoch 13/50\n",
      "34/34 [==============================] - 0s 11ms/step - loss: 0.0941 - accuracy: 0.9655 - val_loss: 0.9302 - val_accuracy: 0.7865\n",
      "Epoch 14/50\n",
      "34/34 [==============================] - 0s 10ms/step - loss: 0.0940 - accuracy: 0.9627 - val_loss: 0.7935 - val_accuracy: 0.8148\n",
      "Epoch 15/50\n",
      "34/34 [==============================] - 0s 12ms/step - loss: 0.0390 - accuracy: 0.9888 - val_loss: 0.9925 - val_accuracy: 0.7974\n",
      "Epoch 16/50\n",
      "34/34 [==============================] - 0s 12ms/step - loss: 0.0181 - accuracy: 0.9944 - val_loss: 1.0110 - val_accuracy: 0.7974\n",
      "Epoch 17/50\n",
      "34/34 [==============================] - 0s 10ms/step - loss: 0.0236 - accuracy: 0.9925 - val_loss: 1.1663 - val_accuracy: 0.7930\n",
      "Epoch 18/50\n",
      "34/34 [==============================] - 0s 9ms/step - loss: 0.0359 - accuracy: 0.9879 - val_loss: 1.1492 - val_accuracy: 0.7974\n",
      "Epoch 19/50\n",
      "34/34 [==============================] - 0s 13ms/step - loss: 0.0191 - accuracy: 0.9935 - val_loss: 1.1929 - val_accuracy: 0.8170\n",
      "Epoch 20/50\n",
      "34/34 [==============================] - 0s 11ms/step - loss: 0.0129 - accuracy: 0.9981 - val_loss: 1.1537 - val_accuracy: 0.8061\n",
      "Epoch 21/50\n",
      "34/34 [==============================] - 0s 9ms/step - loss: 0.0024 - accuracy: 1.0000 - val_loss: 1.2132 - val_accuracy: 0.8105\n",
      "Epoch 22/50\n",
      "34/34 [==============================] - 0s 13ms/step - loss: 7.9084e-04 - accuracy: 1.0000 - val_loss: 1.2922 - val_accuracy: 0.8105\n",
      "Epoch 23/50\n",
      "34/34 [==============================] - 0s 13ms/step - loss: 5.2300e-04 - accuracy: 1.0000 - val_loss: 1.3175 - val_accuracy: 0.8083\n",
      "Epoch 24/50\n",
      "34/34 [==============================] - 0s 11ms/step - loss: 3.9561e-04 - accuracy: 1.0000 - val_loss: 1.3488 - val_accuracy: 0.8083\n",
      "Epoch 25/50\n",
      "34/34 [==============================] - 0s 11ms/step - loss: 3.2296e-04 - accuracy: 1.0000 - val_loss: 1.3750 - val_accuracy: 0.8105\n",
      "Epoch 26/50\n",
      "34/34 [==============================] - 0s 8ms/step - loss: 2.6959e-04 - accuracy: 1.0000 - val_loss: 1.3981 - val_accuracy: 0.8105\n",
      "Epoch 27/50\n",
      "34/34 [==============================] - 0s 7ms/step - loss: 2.3012e-04 - accuracy: 1.0000 - val_loss: 1.4194 - val_accuracy: 0.8105\n",
      "Epoch 28/50\n",
      "34/34 [==============================] - 0s 9ms/step - loss: 2.0149e-04 - accuracy: 1.0000 - val_loss: 1.4387 - val_accuracy: 0.8126\n",
      "Epoch 29/50\n",
      "34/34 [==============================] - 0s 8ms/step - loss: 1.7583e-04 - accuracy: 1.0000 - val_loss: 1.4588 - val_accuracy: 0.8126\n",
      "Epoch 30/50\n",
      "34/34 [==============================] - 0s 6ms/step - loss: 1.5650e-04 - accuracy: 1.0000 - val_loss: 1.4772 - val_accuracy: 0.8126\n",
      "Epoch 31/50\n",
      "34/34 [==============================] - 0s 6ms/step - loss: 1.4012e-04 - accuracy: 1.0000 - val_loss: 1.4924 - val_accuracy: 0.8126\n",
      "Epoch 32/50\n",
      "34/34 [==============================] - 0s 8ms/step - loss: 1.2618e-04 - accuracy: 1.0000 - val_loss: 1.5078 - val_accuracy: 0.8126\n",
      "Epoch 33/50\n",
      "34/34 [==============================] - 0s 7ms/step - loss: 1.1464e-04 - accuracy: 1.0000 - val_loss: 1.5218 - val_accuracy: 0.8126\n",
      "Epoch 34/50\n",
      "34/34 [==============================] - 0s 7ms/step - loss: 1.0467e-04 - accuracy: 1.0000 - val_loss: 1.5354 - val_accuracy: 0.8126\n",
      "Epoch 35/50\n",
      "34/34 [==============================] - 0s 7ms/step - loss: 9.5585e-05 - accuracy: 1.0000 - val_loss: 1.5473 - val_accuracy: 0.8105\n",
      "Epoch 36/50\n",
      "34/34 [==============================] - 0s 7ms/step - loss: 8.8315e-05 - accuracy: 1.0000 - val_loss: 1.5622 - val_accuracy: 0.8126\n",
      "Epoch 37/50\n",
      "34/34 [==============================] - 0s 6ms/step - loss: 8.1299e-05 - accuracy: 1.0000 - val_loss: 1.5740 - val_accuracy: 0.8126\n",
      "Epoch 38/50\n",
      "34/34 [==============================] - 0s 7ms/step - loss: 7.5120e-05 - accuracy: 1.0000 - val_loss: 1.5858 - val_accuracy: 0.8105\n",
      "Epoch 39/50\n",
      "34/34 [==============================] - 0s 7ms/step - loss: 6.9711e-05 - accuracy: 1.0000 - val_loss: 1.5955 - val_accuracy: 0.8083\n",
      "Epoch 40/50\n",
      "34/34 [==============================] - 0s 8ms/step - loss: 6.4850e-05 - accuracy: 1.0000 - val_loss: 1.6063 - val_accuracy: 0.8083\n",
      "Epoch 41/50\n",
      "34/34 [==============================] - 0s 7ms/step - loss: 6.0703e-05 - accuracy: 1.0000 - val_loss: 1.6169 - val_accuracy: 0.8083\n",
      "Epoch 42/50\n",
      "34/34 [==============================] - 0s 7ms/step - loss: 5.6816e-05 - accuracy: 1.0000 - val_loss: 1.6265 - val_accuracy: 0.8083\n",
      "Epoch 43/50\n",
      "34/34 [==============================] - 0s 8ms/step - loss: 5.3272e-05 - accuracy: 1.0000 - val_loss: 1.6358 - val_accuracy: 0.8083\n",
      "Epoch 44/50\n",
      "34/34 [==============================] - 0s 7ms/step - loss: 5.0154e-05 - accuracy: 1.0000 - val_loss: 1.6458 - val_accuracy: 0.8083\n",
      "Epoch 45/50\n",
      "34/34 [==============================] - 0s 7ms/step - loss: 4.7221e-05 - accuracy: 1.0000 - val_loss: 1.6544 - val_accuracy: 0.8083\n",
      "Epoch 46/50\n",
      "34/34 [==============================] - 0s 8ms/step - loss: 4.4650e-05 - accuracy: 1.0000 - val_loss: 1.6626 - val_accuracy: 0.8083\n",
      "Epoch 47/50\n",
      "34/34 [==============================] - 0s 8ms/step - loss: 4.2167e-05 - accuracy: 1.0000 - val_loss: 1.6722 - val_accuracy: 0.8083\n",
      "Epoch 48/50\n",
      "34/34 [==============================] - 0s 8ms/step - loss: 3.9883e-05 - accuracy: 1.0000 - val_loss: 1.6801 - val_accuracy: 0.8061\n",
      "Epoch 49/50\n",
      "34/34 [==============================] - 0s 7ms/step - loss: 3.7863e-05 - accuracy: 1.0000 - val_loss: 1.6893 - val_accuracy: 0.8061\n",
      "Epoch 50/50\n",
      "34/34 [==============================] - 0s 7ms/step - loss: 3.5931e-05 - accuracy: 1.0000 - val_loss: 1.6968 - val_accuracy: 0.8061\n"
     ]
    }
   ],
   "source": [
    "model = tf.keras.models.Sequential([\n",
    "    tf.keras.layers.Dense(128, activation='relu', input_shape=(X_train.shape[1],)),\n",
    "    tf.keras.layers.Dense(128, activation='relu'),\n",
    "    tf.keras.layers.Dense(128, activation='relu'),\n",
    "    tf.keras.layers.Dense(64, activation='relu'),\n",
    "    tf.keras.layers.Dense(16, activation='relu'),\n",
    "    tf.keras.layers.Dense(1, activation='sigmoid')\n",
    "])\n",
    "\n",
    "model.compile(optimizer='adam', loss='binary_crossentropy', metrics=['accuracy'])\n",
    "\n",
    "history = model.fit(X_train, y_train, validation_data=(X_validate, y_validate), epochs=50, batch_size=32)"
   ]
  },
  {
   "cell_type": "markdown",
   "metadata": {},
   "source": [
    "### evaluating the model using the test data"
   ]
  },
  {
   "cell_type": "code",
   "execution_count": 15,
   "metadata": {},
   "outputs": [],
   "source": [
    "# getting the test dataset\n",
    "testing_data = pd.concat([actives_test, inactives_test], ignore_index=True)"
   ]
  },
  {
   "cell_type": "code",
   "execution_count": 16,
   "metadata": {},
   "outputs": [
    {
     "data": {
      "text/plain": [
       "800"
      ]
     },
     "execution_count": 16,
     "metadata": {},
     "output_type": "execute_result"
    }
   ],
   "source": [
    "len(testing_data)"
   ]
  },
  {
   "cell_type": "code",
   "execution_count": 17,
   "metadata": {},
   "outputs": [
    {
     "data": {
      "text/plain": [
       "1    400\n",
       "0    400\n",
       "Name: activity, dtype: int64"
      ]
     },
     "execution_count": 17,
     "metadata": {},
     "output_type": "execute_result"
    }
   ],
   "source": [
    "testing_data['activity'].value_counts()"
   ]
  },
  {
   "cell_type": "code",
   "execution_count": 18,
   "metadata": {},
   "outputs": [
    {
     "data": {
      "text/html": [
       "<div>\n",
       "<style scoped>\n",
       "    .dataframe tbody tr th:only-of-type {\n",
       "        vertical-align: middle;\n",
       "    }\n",
       "\n",
       "    .dataframe tbody tr th {\n",
       "        vertical-align: top;\n",
       "    }\n",
       "\n",
       "    .dataframe thead th {\n",
       "        text-align: right;\n",
       "    }\n",
       "</style>\n",
       "<table border=\"1\" class=\"dataframe\">\n",
       "  <thead>\n",
       "    <tr style=\"text-align: right;\">\n",
       "      <th></th>\n",
       "      <th>D001</th>\n",
       "      <th>D002</th>\n",
       "      <th>D003</th>\n",
       "      <th>D004</th>\n",
       "      <th>D005</th>\n",
       "      <th>D006</th>\n",
       "      <th>D007</th>\n",
       "      <th>D008</th>\n",
       "      <th>D009</th>\n",
       "      <th>D010</th>\n",
       "      <th>...</th>\n",
       "      <th>D769</th>\n",
       "      <th>D770</th>\n",
       "      <th>D771</th>\n",
       "      <th>D772</th>\n",
       "      <th>D773</th>\n",
       "      <th>D774</th>\n",
       "      <th>D775</th>\n",
       "      <th>D776</th>\n",
       "      <th>D777</th>\n",
       "      <th>activity</th>\n",
       "    </tr>\n",
       "  </thead>\n",
       "  <tbody>\n",
       "    <tr>\n",
       "      <th>0</th>\n",
       "      <td>1</td>\n",
       "      <td>0</td>\n",
       "      <td>0</td>\n",
       "      <td>0</td>\n",
       "      <td>2</td>\n",
       "      <td>0</td>\n",
       "      <td>0</td>\n",
       "      <td>0</td>\n",
       "      <td>0</td>\n",
       "      <td>0</td>\n",
       "      <td>...</td>\n",
       "      <td>0</td>\n",
       "      <td>1</td>\n",
       "      <td>0</td>\n",
       "      <td>0</td>\n",
       "      <td>0</td>\n",
       "      <td>5.087</td>\n",
       "      <td>0.343</td>\n",
       "      <td>0.240</td>\n",
       "      <td>0.314</td>\n",
       "      <td>1</td>\n",
       "    </tr>\n",
       "    <tr>\n",
       "      <th>1</th>\n",
       "      <td>0</td>\n",
       "      <td>0</td>\n",
       "      <td>0</td>\n",
       "      <td>0</td>\n",
       "      <td>3</td>\n",
       "      <td>0</td>\n",
       "      <td>0</td>\n",
       "      <td>0</td>\n",
       "      <td>0</td>\n",
       "      <td>0</td>\n",
       "      <td>...</td>\n",
       "      <td>0</td>\n",
       "      <td>1</td>\n",
       "      <td>0</td>\n",
       "      <td>0</td>\n",
       "      <td>0</td>\n",
       "      <td>5.087</td>\n",
       "      <td>-0.684</td>\n",
       "      <td>0.000</td>\n",
       "      <td>1.682</td>\n",
       "      <td>1</td>\n",
       "    </tr>\n",
       "    <tr>\n",
       "      <th>2</th>\n",
       "      <td>2</td>\n",
       "      <td>0</td>\n",
       "      <td>0</td>\n",
       "      <td>1</td>\n",
       "      <td>2</td>\n",
       "      <td>0</td>\n",
       "      <td>0</td>\n",
       "      <td>0</td>\n",
       "      <td>0</td>\n",
       "      <td>0</td>\n",
       "      <td>...</td>\n",
       "      <td>0</td>\n",
       "      <td>0</td>\n",
       "      <td>0</td>\n",
       "      <td>0</td>\n",
       "      <td>0</td>\n",
       "      <td>5.129</td>\n",
       "      <td>0.301</td>\n",
       "      <td>0.462</td>\n",
       "      <td>2.812</td>\n",
       "      <td>1</td>\n",
       "    </tr>\n",
       "    <tr>\n",
       "      <th>3</th>\n",
       "      <td>1</td>\n",
       "      <td>0</td>\n",
       "      <td>0</td>\n",
       "      <td>2</td>\n",
       "      <td>2</td>\n",
       "      <td>0</td>\n",
       "      <td>0</td>\n",
       "      <td>0</td>\n",
       "      <td>0</td>\n",
       "      <td>0</td>\n",
       "      <td>...</td>\n",
       "      <td>0</td>\n",
       "      <td>0</td>\n",
       "      <td>0</td>\n",
       "      <td>0</td>\n",
       "      <td>0</td>\n",
       "      <td>5.129</td>\n",
       "      <td>-0.323</td>\n",
       "      <td>0.231</td>\n",
       "      <td>1.792</td>\n",
       "      <td>1</td>\n",
       "    </tr>\n",
       "    <tr>\n",
       "      <th>4</th>\n",
       "      <td>2</td>\n",
       "      <td>0</td>\n",
       "      <td>0</td>\n",
       "      <td>0</td>\n",
       "      <td>3</td>\n",
       "      <td>0</td>\n",
       "      <td>0</td>\n",
       "      <td>0</td>\n",
       "      <td>0</td>\n",
       "      <td>0</td>\n",
       "      <td>...</td>\n",
       "      <td>0</td>\n",
       "      <td>0</td>\n",
       "      <td>1</td>\n",
       "      <td>0</td>\n",
       "      <td>0</td>\n",
       "      <td>5.000</td>\n",
       "      <td>-0.323</td>\n",
       "      <td>0.480</td>\n",
       "      <td>2.594</td>\n",
       "      <td>1</td>\n",
       "    </tr>\n",
       "  </tbody>\n",
       "</table>\n",
       "<p>5 rows × 778 columns</p>\n",
       "</div>"
      ],
      "text/plain": [
       "   D001  D002  D003  D004  D005  D006  D007  D008  D009  D010  ...  D769  \\\n",
       "0     1     0     0     0     2     0     0     0     0     0  ...     0   \n",
       "1     0     0     0     0     3     0     0     0     0     0  ...     0   \n",
       "2     2     0     0     1     2     0     0     0     0     0  ...     0   \n",
       "3     1     0     0     2     2     0     0     0     0     0  ...     0   \n",
       "4     2     0     0     0     3     0     0     0     0     0  ...     0   \n",
       "\n",
       "   D770  D771  D772  D773   D774   D775   D776   D777  activity  \n",
       "0     1     0     0     0  5.087  0.343  0.240  0.314         1  \n",
       "1     1     0     0     0  5.087 -0.684  0.000  1.682         1  \n",
       "2     0     0     0     0  5.129  0.301  0.462  2.812         1  \n",
       "3     0     0     0     0  5.129 -0.323  0.231  1.792         1  \n",
       "4     0     1     0     0  5.000 -0.323  0.480  2.594         1  \n",
       "\n",
       "[5 rows x 778 columns]"
      ]
     },
     "execution_count": 18,
     "metadata": {},
     "output_type": "execute_result"
    }
   ],
   "source": [
    "testing_data.head()"
   ]
  },
  {
   "cell_type": "code",
   "execution_count": 19,
   "metadata": {},
   "outputs": [
    {
     "name": "stdout",
     "output_type": "stream",
     "text": [
      "800\n"
     ]
    }
   ],
   "source": [
    "testing_data_x = testing_data.drop(['activity'], axis=1)\n",
    "print(len(testing_data_x))\n",
    "testing_data_x = scaler.transform(testing_data_x)\n",
    "testing_data_y = testing_data['activity']"
   ]
  },
  {
   "cell_type": "code",
   "execution_count": 20,
   "metadata": {},
   "outputs": [
    {
     "name": "stdout",
     "output_type": "stream",
     "text": [
      "25/25 - 0s - loss: 1.5253 - accuracy: 0.8112 - 104ms/epoch - 4ms/step\n"
     ]
    },
    {
     "data": {
      "text/plain": [
       "[1.5252673625946045, 0.8112499713897705]"
      ]
     },
     "execution_count": 20,
     "metadata": {},
     "output_type": "execute_result"
    }
   ],
   "source": [
    "model.evaluate(testing_data_x, testing_data_y, verbose=2)"
   ]
  },
  {
   "cell_type": "markdown",
   "metadata": {},
   "source": [
    "### evaluating model's performance with F1 score, precision, recall, etc"
   ]
  },
  {
   "cell_type": "code",
   "execution_count": 21,
   "metadata": {},
   "outputs": [],
   "source": [
    "from sklearn.metrics import accuracy_score, precision_score, recall_score, f1_score, matthews_corrcoef"
   ]
  },
  {
   "cell_type": "code",
   "execution_count": 22,
   "metadata": {},
   "outputs": [],
   "source": [
    "inactives_test_x = inactives_test.drop(['activity'], axis=1)\n",
    "inactives_test_x = scaler.transform(inactives_test_x)\n",
    "actives_test_x = actives_test.drop(['activity'], axis=1)\n",
    "actives_test_x = scaler.transform(actives_test_x)"
   ]
  },
  {
   "cell_type": "code",
   "execution_count": 23,
   "metadata": {},
   "outputs": [],
   "source": [
    "y_true_actives = np.array([1] * len(actives_test_x))\n",
    "y_true_inactives = np.array([0] * len(inactives_test_x))\n",
    "y_true = np.concatenate((y_true_actives, y_true_inactives))"
   ]
  },
  {
   "cell_type": "markdown",
   "metadata": {},
   "source": [
    "There are both y_pred and y_pred_rounded because the model outputs a probability and we need to round it to get the class.\n",
    "\n",
    "\n",
    "y_pred will be used to calculate the ROC curve and the AUC.\n",
    "\n",
    "\n",
    "y_pred_rounded will be used to calculate the confusion matrix."
   ]
  },
  {
   "cell_type": "code",
   "execution_count": 24,
   "metadata": {},
   "outputs": [
    {
     "name": "stdout",
     "output_type": "stream",
     "text": [
      "13/13 [==============================] - 0s 2ms/step\n",
      "13/13 [==============================] - 0s 2ms/step\n"
     ]
    }
   ],
   "source": [
    "y_pred_actives = model.predict(actives_test_x)\n",
    "y_pred_actives_rounded = (y_pred_actives > 0.5).astype(int).reshape(len(y_pred_actives, ))\n",
    "y_pred_inactives = model.predict(inactives_test_x)\n",
    "y_pred_inactives_rounded = (y_pred_inactives > 0.5).astype(int).reshape(len(y_pred_inactives, ))\n",
    "y_pred = np.concatenate((y_pred_actives, y_pred_inactives))\n",
    "y_pred_rounded = np.concatenate((y_pred_actives_rounded, y_pred_inactives_rounded))"
   ]
  },
  {
   "cell_type": "code",
   "execution_count": 25,
   "metadata": {},
   "outputs": [],
   "source": [
    "accuracy = accuracy_score(y_true, y_pred_rounded)\n",
    "precision = precision_score(y_true, y_pred_rounded)\n",
    "recall = recall_score(y_true, y_pred_rounded)\n",
    "f1 = f1_score(y_true, y_pred_rounded)\n",
    "mcc = matthews_corrcoef(y_true, y_pred_rounded)"
   ]
  },
  {
   "cell_type": "code",
   "execution_count": 26,
   "metadata": {},
   "outputs": [
    {
     "name": "stdout",
     "output_type": "stream",
     "text": [
      "accuracy is 0.81125\n",
      "precision is 0.8120300751879699\n",
      "recall is 0.81\n",
      "f1 is 0.8110137672090113\n",
      "mcc is 0.6225019453216187\n"
     ]
    }
   ],
   "source": [
    "print(\"accuracy is {}\".format(accuracy))\n",
    "print(\"precision is {}\".format(precision))\n",
    "print(\"recall is {}\".format(recall))\n",
    "print(\"f1 is {}\".format(f1))\n",
    "print(\"mcc is {}\".format(mcc))"
   ]
  },
  {
   "cell_type": "markdown",
   "metadata": {},
   "source": [
    "Drawing the ROC curve to enable us to carry out threshold moving,"
   ]
  },
  {
   "cell_type": "code",
   "execution_count": 27,
   "metadata": {},
   "outputs": [],
   "source": [
    "fpr, tpr, thresholds = roc_curve(y_true, y_pred, pos_label=1)"
   ]
  },
  {
   "cell_type": "code",
   "execution_count": 28,
   "metadata": {},
   "outputs": [
    {
     "data": {
      "image/png": "[encoded data removed]",
      "text/plain": [
       "<Figure size 640x480 with 1 Axes>"
      ]
     },
     "metadata": {},
     "output_type": "display_data"
    }
   ],
   "source": [
    "roc_auc = auc(fpr, tpr)\n",
    "display = RocCurveDisplay(fpr=fpr, tpr=tpr, roc_auc=roc_auc, estimator_name='area under curve')\n",
    "display.plot()\n",
    "plt.show()"
   ]
  },
  {
   "cell_type": "code",
   "execution_count": 29,
   "metadata": {},
   "outputs": [],
   "source": [
    "fav_thresholds = []\n",
    "for i in range(len(thresholds)):\n",
    "    if fpr[i] < 0.25 and tpr[i] > 0.8:\n",
    "        fav_thresholds.append((i, thresholds[i], fpr[i], tpr[i]))"
   ]
  },
  {
   "cell_type": "code",
   "execution_count": 30,
   "metadata": {},
   "outputs": [
    {
     "name": "stdout",
     "output_type": "stream",
     "text": [
      "(106, 0.6780946, 0.175, 0.8025)\n",
      "(107, 0.6285383, 0.18, 0.8025)\n",
      "(108, 0.60403275, 0.18, 0.805)\n",
      "(109, 0.601134, 0.1825, 0.805)\n",
      "(110, 0.586797, 0.1825, 0.8075)\n",
      "(111, 0.56716394, 0.185, 0.8075)\n",
      "(112, 0.554168, 0.185, 0.81)\n",
      "(113, 0.45389053, 0.19, 0.81)\n",
      "(114, 0.45135638, 0.19, 0.8125)\n",
      "(115, 0.34112573, 0.2025, 0.8125)\n",
      "(116, 0.33905756, 0.2025, 0.815)\n",
      "(117, 0.31362838, 0.21, 0.815)\n",
      "(118, 0.24854894, 0.21, 0.82)\n",
      "(119, 0.20208564, 0.22, 0.82)\n",
      "(120, 0.17715499, 0.22, 0.825)\n",
      "(121, 0.16629057, 0.225, 0.825)\n",
      "(122, 0.13929275, 0.225, 0.835)\n",
      "(123, 0.13820453, 0.2275, 0.835)\n",
      "(124, 0.13212703, 0.2275, 0.8375)\n",
      "(125, 0.11306704, 0.2325, 0.8375)\n",
      "(126, 0.11286078, 0.2325, 0.84)\n",
      "(127, 0.11102846, 0.235, 0.84)\n",
      "(128, 0.08670358, 0.235, 0.8525)\n",
      "(129, 0.07448842, 0.24, 0.8525)\n",
      "(130, 0.073544644, 0.24, 0.855)\n",
      "(131, 0.067122735, 0.2425, 0.855)\n",
      "(132, 0.063360594, 0.2425, 0.86)\n",
      "(133, 0.059839576, 0.2475, 0.86)\n",
      "(134, 0.05526133, 0.2475, 0.8625)\n"
     ]
    }
   ],
   "source": [
    "for i in fav_thresholds:\n",
    "    print(i)"
   ]
  },
  {
   "cell_type": "code",
   "execution_count": 31,
   "metadata": {},
   "outputs": [
    {
     "data": {
      "text/plain": [
       "0.05526133"
      ]
     },
     "execution_count": 31,
     "metadata": {},
     "output_type": "execute_result"
    }
   ],
   "source": [
    "selected_threshold = fav_thresholds[-1][1]\n",
    "selected_threshold"
   ]
  },
  {
   "cell_type": "code",
   "execution_count": 32,
   "metadata": {},
   "outputs": [],
   "source": [
    "y_pred_actives_rounded2 = (y_pred_actives > selected_threshold).astype(int).reshape(len(y_pred_actives, ))\n",
    "y_pred_inactives_rounded2 = (y_pred_inactives > selected_threshold).astype(int).reshape(len(y_pred_inactives, ))\n",
    "y_pred_rounded2 = np.concatenate((y_pred_actives_rounded2, y_pred_inactives_rounded2))"
   ]
  },
  {
   "cell_type": "code",
   "execution_count": 33,
   "metadata": {},
   "outputs": [],
   "source": [
    "accuracy = accuracy_score(y_true, y_pred_rounded2)\n",
    "precision = precision_score(y_true, y_pred_rounded2)\n",
    "recall = recall_score(y_true, y_pred_rounded2)\n",
    "f1 = f1_score(y_true, y_pred_rounded2)\n",
    "mcc = matthews_corrcoef(y_true, y_pred_rounded2)"
   ]
  },
  {
   "cell_type": "code",
   "execution_count": 34,
   "metadata": {},
   "outputs": [
    {
     "name": "stdout",
     "output_type": "stream",
     "text": [
      "accuracy is 0.80625\n",
      "precision is 0.7765237020316027\n",
      "recall is 0.86\n",
      "f1 is 0.8161328588374852\n",
      "mcc is 0.6160700740352575\n"
     ]
    }
   ],
   "source": [
    "print(\"accuracy is {}\".format(accuracy))\n",
    "print(\"precision is {}\".format(precision))\n",
    "print(\"recall is {}\".format(recall))\n",
    "print(\"f1 is {}\".format(f1))\n",
    "print(\"mcc is {}\".format(mcc))"
   ]
  }
 ],
 "metadata": {
  "kernelspec": {
   "display_name": "Python 3.10.4 ('venv': venv)",
   "language": "python",
   "name": "python3"
  },
  "language_info": {
   "codemirror_mode": {
    "name": "ipython",
    "version": 3
   },
   "file_extension": ".py",
   "mimetype": "text/x-python",
   "name": "python",
   "nbconvert_exporter": "python",
   "pygments_lexer": "ipython3",
   "version": "3.10.4"
  },
  "orig_nbformat": 4,
  "vscode": {
   "interpreter": {
    "hash": "7aeba9923514841c19733a205d28f40fd7b0363b1cf05defaaef1b17fa5f8895"
   }
  }
 },
 "nbformat": 4,
 "nbformat_minor": 2
}
