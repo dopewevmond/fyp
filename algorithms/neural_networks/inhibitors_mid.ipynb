{
 "cells": [
  {
   "cell_type": "code",
   "execution_count": 2,
   "metadata": {},
   "outputs": [],
   "source": [
    "import numpy as np\n",
    "import pandas as pd\n",
    "import matplotlib.pyplot as plt\n",
    "\n",
    "from sklearn.model_selection import train_test_split\n",
    "from sklearn.metrics import roc_curve, auc, RocCurveDisplay\n",
    "\n",
    "from imblearn.over_sampling import SMOTE"
   ]
  },
  {
   "cell_type": "code",
   "execution_count": 3,
   "metadata": {},
   "outputs": [],
   "source": [
    "# loading datasets\n",
    "actives = pd.read_csv('../../mold2_descriptors/2100_actives.csv')\n",
    "inactives = pd.read_csv('../../mold2_descriptors/2100_inactives.csv')"
   ]
  },
  {
   "cell_type": "code",
   "execution_count": 4,
   "metadata": {},
   "outputs": [
    {
     "name": "stdout",
     "output_type": "stream",
     "text": [
      "actives: 1165\n",
      "inactives: 291883\n"
     ]
    }
   ],
   "source": [
    "print('actives:', len(actives))\n",
    "print('inactives:', len(inactives))"
   ]
  },
  {
   "cell_type": "code",
   "execution_count": 5,
   "metadata": {},
   "outputs": [],
   "source": [
    "# spliting datasets into test - train & validation\n",
    "actives_test = actives.sample(n=400, random_state=42)\n",
    "actives_train = actives.drop(actives_test.index)\n",
    "inactives_test = inactives.sample(n=400, random_state=42)\n",
    "inactives_train = inactives.drop(inactives_test.index)\n",
    "\n",
    "# random undersampling of inactives to prevent memory error\n",
    "inactives_train = inactives_train.sample(n=100000, random_state=42)"
   ]
  },
  {
   "cell_type": "code",
   "execution_count": 6,
   "metadata": {},
   "outputs": [],
   "source": [
    "df = pd.concat([actives_train, inactives_train[:1000]], ignore_index=True)"
   ]
  },
  {
   "cell_type": "code",
   "execution_count": 7,
   "metadata": {},
   "outputs": [
    {
     "data": {
      "text/html": [
       "<div>\n",
       "<style scoped>\n",
       "    .dataframe tbody tr th:only-of-type {\n",
       "        vertical-align: middle;\n",
       "    }\n",
       "\n",
       "    .dataframe tbody tr th {\n",
       "        vertical-align: top;\n",
       "    }\n",
       "\n",
       "    .dataframe thead th {\n",
       "        text-align: right;\n",
       "    }\n",
       "</style>\n",
       "<table border=\"1\" class=\"dataframe\">\n",
       "  <thead>\n",
       "    <tr style=\"text-align: right;\">\n",
       "      <th></th>\n",
       "      <th>D001</th>\n",
       "      <th>D002</th>\n",
       "      <th>D003</th>\n",
       "      <th>D004</th>\n",
       "      <th>D005</th>\n",
       "      <th>D006</th>\n",
       "      <th>D007</th>\n",
       "      <th>D008</th>\n",
       "      <th>D009</th>\n",
       "      <th>D010</th>\n",
       "      <th>...</th>\n",
       "      <th>D769</th>\n",
       "      <th>D770</th>\n",
       "      <th>D771</th>\n",
       "      <th>D772</th>\n",
       "      <th>D773</th>\n",
       "      <th>D774</th>\n",
       "      <th>D775</th>\n",
       "      <th>D776</th>\n",
       "      <th>D777</th>\n",
       "      <th>activity</th>\n",
       "    </tr>\n",
       "  </thead>\n",
       "  <tbody>\n",
       "    <tr>\n",
       "      <th>0</th>\n",
       "      <td>1</td>\n",
       "      <td>0</td>\n",
       "      <td>0</td>\n",
       "      <td>1</td>\n",
       "      <td>2</td>\n",
       "      <td>0</td>\n",
       "      <td>0</td>\n",
       "      <td>0</td>\n",
       "      <td>0</td>\n",
       "      <td>0</td>\n",
       "      <td>...</td>\n",
       "      <td>0</td>\n",
       "      <td>1</td>\n",
       "      <td>0</td>\n",
       "      <td>0</td>\n",
       "      <td>0</td>\n",
       "      <td>5.12928</td>\n",
       "      <td>-0.194769</td>\n",
       "      <td>0.222222</td>\n",
       "      <td>0.731071</td>\n",
       "      <td>0</td>\n",
       "    </tr>\n",
       "    <tr>\n",
       "      <th>1</th>\n",
       "      <td>2</td>\n",
       "      <td>0</td>\n",
       "      <td>0</td>\n",
       "      <td>0</td>\n",
       "      <td>4</td>\n",
       "      <td>0</td>\n",
       "      <td>0</td>\n",
       "      <td>0</td>\n",
       "      <td>0</td>\n",
       "      <td>0</td>\n",
       "      <td>...</td>\n",
       "      <td>0</td>\n",
       "      <td>0</td>\n",
       "      <td>0</td>\n",
       "      <td>0</td>\n",
       "      <td>0</td>\n",
       "      <td>4.85800</td>\n",
       "      <td>0.269000</td>\n",
       "      <td>0.522000</td>\n",
       "      <td>2.839000</td>\n",
       "      <td>1</td>\n",
       "    </tr>\n",
       "    <tr>\n",
       "      <th>2</th>\n",
       "      <td>2</td>\n",
       "      <td>0</td>\n",
       "      <td>0</td>\n",
       "      <td>1</td>\n",
       "      <td>2</td>\n",
       "      <td>0</td>\n",
       "      <td>0</td>\n",
       "      <td>0</td>\n",
       "      <td>0</td>\n",
       "      <td>0</td>\n",
       "      <td>...</td>\n",
       "      <td>0</td>\n",
       "      <td>0</td>\n",
       "      <td>0</td>\n",
       "      <td>0</td>\n",
       "      <td>0</td>\n",
       "      <td>5.32193</td>\n",
       "      <td>-0.284751</td>\n",
       "      <td>0.400000</td>\n",
       "      <td>2.188140</td>\n",
       "      <td>0</td>\n",
       "    </tr>\n",
       "    <tr>\n",
       "      <th>3</th>\n",
       "      <td>1</td>\n",
       "      <td>0</td>\n",
       "      <td>0</td>\n",
       "      <td>1</td>\n",
       "      <td>2</td>\n",
       "      <td>0</td>\n",
       "      <td>0</td>\n",
       "      <td>0</td>\n",
       "      <td>0</td>\n",
       "      <td>0</td>\n",
       "      <td>...</td>\n",
       "      <td>0</td>\n",
       "      <td>0</td>\n",
       "      <td>0</td>\n",
       "      <td>0</td>\n",
       "      <td>0</td>\n",
       "      <td>4.75489</td>\n",
       "      <td>-0.708960</td>\n",
       "      <td>0.300000</td>\n",
       "      <td>2.964170</td>\n",
       "      <td>0</td>\n",
       "    </tr>\n",
       "    <tr>\n",
       "      <th>4</th>\n",
       "      <td>1</td>\n",
       "      <td>0</td>\n",
       "      <td>0</td>\n",
       "      <td>1</td>\n",
       "      <td>1</td>\n",
       "      <td>0</td>\n",
       "      <td>0</td>\n",
       "      <td>0</td>\n",
       "      <td>0</td>\n",
       "      <td>0</td>\n",
       "      <td>...</td>\n",
       "      <td>0</td>\n",
       "      <td>0</td>\n",
       "      <td>0</td>\n",
       "      <td>0</td>\n",
       "      <td>0</td>\n",
       "      <td>4.85798</td>\n",
       "      <td>-0.716962</td>\n",
       "      <td>0.260870</td>\n",
       "      <td>1.445870</td>\n",
       "      <td>0</td>\n",
       "    </tr>\n",
       "  </tbody>\n",
       "</table>\n",
       "<p>5 rows × 778 columns</p>\n",
       "</div>"
      ],
      "text/plain": [
       "   D001  D002  D003  D004  D005  D006  D007  D008  D009  D010  ...  D769  \\\n",
       "0     1     0     0     1     2     0     0     0     0     0  ...     0   \n",
       "1     2     0     0     0     4     0     0     0     0     0  ...     0   \n",
       "2     2     0     0     1     2     0     0     0     0     0  ...     0   \n",
       "3     1     0     0     1     2     0     0     0     0     0  ...     0   \n",
       "4     1     0     0     1     1     0     0     0     0     0  ...     0   \n",
       "\n",
       "   D770  D771  D772  D773     D774      D775      D776      D777  activity  \n",
       "0     1     0     0     0  5.12928 -0.194769  0.222222  0.731071         0  \n",
       "1     0     0     0     0  4.85800  0.269000  0.522000  2.839000         1  \n",
       "2     0     0     0     0  5.32193 -0.284751  0.400000  2.188140         0  \n",
       "3     0     0     0     0  4.75489 -0.708960  0.300000  2.964170         0  \n",
       "4     0     0     0     0  4.85798 -0.716962  0.260870  1.445870         0  \n",
       "\n",
       "[5 rows x 778 columns]"
      ]
     },
     "execution_count": 7,
     "metadata": {},
     "output_type": "execute_result"
    }
   ],
   "source": [
    "df = df.sample(frac=1, random_state=42).reset_index(drop=True)\n",
    "df.head()"
   ]
  },
  {
   "cell_type": "code",
   "execution_count": 8,
   "metadata": {},
   "outputs": [],
   "source": [
    "X = df.drop(['activity'], axis=1)\n",
    "y = df['activity']"
   ]
  },
  {
   "cell_type": "code",
   "execution_count": 9,
   "metadata": {},
   "outputs": [
    {
     "data": {
      "text/plain": [
       "0    1000\n",
       "1     765\n",
       "Name: activity, dtype: int64"
      ]
     },
     "execution_count": 9,
     "metadata": {},
     "output_type": "execute_result"
    }
   ],
   "source": [
    "y.value_counts()"
   ]
  },
  {
   "cell_type": "code",
   "execution_count": 10,
   "metadata": {},
   "outputs": [],
   "source": [
    "import matplotlib.pyplot as plt"
   ]
  },
  {
   "cell_type": "code",
   "execution_count": 11,
   "metadata": {},
   "outputs": [
    {
     "data": {
      "image/png": "[encoded data removed]",
      "text/plain": [
       "<Figure size 1000x600 with 1 Axes>"
      ]
     },
     "metadata": {},
     "output_type": "display_data"
    }
   ],
   "source": [
    "ax = y.value_counts().plot(kind='bar', figsize=(10, 6), fontsize=13, color='blue')\n",
    "ax.set_title('distribution of actives and inactives', fontsize=13)\n",
    "ax.set_alpha(0.5)"
   ]
  },
  {
   "cell_type": "code",
   "execution_count": 12,
   "metadata": {},
   "outputs": [],
   "source": [
    "X_train, X_validate, y_train, y_validate = train_test_split(X, y, test_size=0.3, random_state=42)"
   ]
  },
  {
   "cell_type": "code",
   "execution_count": 13,
   "metadata": {},
   "outputs": [],
   "source": [
    "# normalizing data\n",
    "from sklearn.preprocessing import StandardScaler\n",
    "\n",
    "scaler = StandardScaler()\n",
    "\n",
    "scaler.fit(X_train)\n",
    "X_train = scaler.transform(X_train)\n",
    "X_validate = scaler.transform(X_validate)"
   ]
  },
  {
   "cell_type": "code",
   "execution_count": 14,
   "metadata": {},
   "outputs": [],
   "source": [
    "over = SMOTE()\n",
    "X_train_resampled, y_train_resampled = over.fit_resample(X_train, y_train)"
   ]
  },
  {
   "cell_type": "code",
   "execution_count": 15,
   "metadata": {},
   "outputs": [
    {
     "data": {
      "text/plain": [
       "1    693\n",
       "0    693\n",
       "Name: activity, dtype: int64"
      ]
     },
     "execution_count": 15,
     "metadata": {},
     "output_type": "execute_result"
    }
   ],
   "source": [
    "y_train_resampled.value_counts()"
   ]
  },
  {
   "cell_type": "code",
   "execution_count": 16,
   "metadata": {},
   "outputs": [
    {
     "data": {
      "text/plain": [
       "Text(0.5, 1.0, 'distribution in sampled dataset')"
      ]
     },
     "execution_count": 16,
     "metadata": {},
     "output_type": "execute_result"
    },
    {
     "data": {
      "image/png": "[encoded data removed]",
      "text/plain": [
       "<Figure size 1000x600 with 1 Axes>"
      ]
     },
     "metadata": {},
     "output_type": "display_data"
    }
   ],
   "source": [
    "ax = y_train_resampled.value_counts().plot(kind='bar', figsize=(10, 6), fontsize=13, color='blue')\n",
    "ax.set_title('distribution in sampled dataset', fontsize=13)"
   ]
  },
  {
   "cell_type": "markdown",
   "metadata": {},
   "source": [
    "## training model with oversampled data"
   ]
  },
  {
   "cell_type": "code",
   "execution_count": 17,
   "metadata": {},
   "outputs": [],
   "source": [
    "import tensorflow as tf"
   ]
  },
  {
   "cell_type": "code",
   "execution_count": 24,
   "metadata": {},
   "outputs": [
    {
     "name": "stdout",
     "output_type": "stream",
     "text": [
      "Epoch 1/50\n",
      "44/44 [==============================] - 2s 17ms/step - loss: 0.6410 - accuracy: 0.6291 - val_loss: 0.5159 - val_accuracy: 0.7396\n",
      "Epoch 2/50\n",
      "44/44 [==============================] - 0s 11ms/step - loss: 0.4446 - accuracy: 0.8117 - val_loss: 0.6339 - val_accuracy: 0.7774\n",
      "Epoch 3/50\n",
      "44/44 [==============================] - 0s 8ms/step - loss: 0.3291 - accuracy: 0.8629 - val_loss: 0.5695 - val_accuracy: 0.7698\n",
      "Epoch 4/50\n",
      "44/44 [==============================] - 0s 9ms/step - loss: 0.2566 - accuracy: 0.8939 - val_loss: 0.5709 - val_accuracy: 0.7717\n",
      "Epoch 5/50\n",
      "44/44 [==============================] - 0s 8ms/step - loss: 0.2026 - accuracy: 0.9163 - val_loss: 0.6486 - val_accuracy: 0.7830\n",
      "Epoch 6/50\n",
      "44/44 [==============================] - 0s 8ms/step - loss: 0.1692 - accuracy: 0.9307 - val_loss: 0.6734 - val_accuracy: 0.7981\n",
      "Epoch 7/50\n",
      "44/44 [==============================] - 0s 8ms/step - loss: 0.1318 - accuracy: 0.9538 - val_loss: 0.6120 - val_accuracy: 0.8000\n",
      "Epoch 8/50\n",
      "44/44 [==============================] - 0s 8ms/step - loss: 0.1322 - accuracy: 0.9481 - val_loss: 0.7241 - val_accuracy: 0.7943\n",
      "Epoch 9/50\n",
      "44/44 [==============================] - 0s 9ms/step - loss: 0.1102 - accuracy: 0.9603 - val_loss: 0.8932 - val_accuracy: 0.7547\n",
      "Epoch 10/50\n",
      "44/44 [==============================] - 0s 9ms/step - loss: 0.0977 - accuracy: 0.9603 - val_loss: 0.8706 - val_accuracy: 0.7434\n",
      "Epoch 11/50\n",
      "44/44 [==============================] - 0s 8ms/step - loss: 0.0930 - accuracy: 0.9646 - val_loss: 0.8519 - val_accuracy: 0.7962\n",
      "Epoch 12/50\n",
      "44/44 [==============================] - 0s 8ms/step - loss: 0.0667 - accuracy: 0.9740 - val_loss: 0.8588 - val_accuracy: 0.8113\n",
      "Epoch 13/50\n",
      "44/44 [==============================] - 0s 8ms/step - loss: 0.0429 - accuracy: 0.9848 - val_loss: 0.9853 - val_accuracy: 0.8245\n",
      "Epoch 14/50\n",
      "44/44 [==============================] - 0s 8ms/step - loss: 0.0310 - accuracy: 0.9870 - val_loss: 1.0549 - val_accuracy: 0.8094\n",
      "Epoch 15/50\n",
      "44/44 [==============================] - 0s 9ms/step - loss: 0.0291 - accuracy: 0.9935 - val_loss: 1.2695 - val_accuracy: 0.7906\n",
      "Epoch 16/50\n",
      "44/44 [==============================] - 0s 9ms/step - loss: 0.0643 - accuracy: 0.9827 - val_loss: 1.1060 - val_accuracy: 0.7792\n",
      "Epoch 17/50\n",
      "44/44 [==============================] - 0s 8ms/step - loss: 0.0500 - accuracy: 0.9834 - val_loss: 1.7164 - val_accuracy: 0.7057\n",
      "Epoch 18/50\n",
      "44/44 [==============================] - 0s 9ms/step - loss: 0.1504 - accuracy: 0.9495 - val_loss: 0.7160 - val_accuracy: 0.8019\n",
      "Epoch 19/50\n",
      "44/44 [==============================] - 0s 7ms/step - loss: 0.0240 - accuracy: 0.9913 - val_loss: 1.0117 - val_accuracy: 0.8094\n",
      "Epoch 20/50\n",
      "44/44 [==============================] - 0s 8ms/step - loss: 0.0208 - accuracy: 0.9935 - val_loss: 1.2120 - val_accuracy: 0.8038\n",
      "Epoch 21/50\n",
      "44/44 [==============================] - 0s 8ms/step - loss: 0.0277 - accuracy: 0.9906 - val_loss: 1.2488 - val_accuracy: 0.8057\n",
      "Epoch 22/50\n",
      "44/44 [==============================] - 0s 8ms/step - loss: 0.0108 - accuracy: 0.9978 - val_loss: 1.2654 - val_accuracy: 0.8057\n",
      "Epoch 23/50\n",
      "44/44 [==============================] - 0s 7ms/step - loss: 0.0225 - accuracy: 0.9942 - val_loss: 1.2089 - val_accuracy: 0.8226\n",
      "Epoch 24/50\n",
      "44/44 [==============================] - 0s 8ms/step - loss: 0.0169 - accuracy: 0.9957 - val_loss: 1.2281 - val_accuracy: 0.8170\n",
      "Epoch 25/50\n",
      "44/44 [==============================] - 0s 8ms/step - loss: 0.0122 - accuracy: 0.9971 - val_loss: 1.3180 - val_accuracy: 0.8113\n",
      "Epoch 26/50\n",
      "44/44 [==============================] - 0s 8ms/step - loss: 0.0024 - accuracy: 0.9993 - val_loss: 1.3761 - val_accuracy: 0.8170\n",
      "Epoch 27/50\n",
      "44/44 [==============================] - 0s 9ms/step - loss: 8.4885e-04 - accuracy: 1.0000 - val_loss: 1.5426 - val_accuracy: 0.8170\n",
      "Epoch 28/50\n",
      "44/44 [==============================] - 0s 10ms/step - loss: 5.1969e-04 - accuracy: 1.0000 - val_loss: 1.4811 - val_accuracy: 0.8094\n",
      "Epoch 29/50\n",
      "44/44 [==============================] - 0s 7ms/step - loss: 2.9164e-04 - accuracy: 1.0000 - val_loss: 1.5127 - val_accuracy: 0.8151\n",
      "Epoch 30/50\n",
      "44/44 [==============================] - 0s 6ms/step - loss: 2.2574e-04 - accuracy: 1.0000 - val_loss: 1.5392 - val_accuracy: 0.8113\n",
      "Epoch 31/50\n",
      "44/44 [==============================] - 0s 6ms/step - loss: 1.8251e-04 - accuracy: 1.0000 - val_loss: 1.5649 - val_accuracy: 0.8113\n",
      "Epoch 32/50\n",
      "44/44 [==============================] - 0s 6ms/step - loss: 1.5205e-04 - accuracy: 1.0000 - val_loss: 1.5882 - val_accuracy: 0.8113\n",
      "Epoch 33/50\n",
      "44/44 [==============================] - 0s 7ms/step - loss: 1.2745e-04 - accuracy: 1.0000 - val_loss: 1.6105 - val_accuracy: 0.8132\n",
      "Epoch 34/50\n",
      "44/44 [==============================] - 0s 7ms/step - loss: 1.1005e-04 - accuracy: 1.0000 - val_loss: 1.6307 - val_accuracy: 0.8132\n",
      "Epoch 35/50\n",
      "44/44 [==============================] - 0s 7ms/step - loss: 9.6668e-05 - accuracy: 1.0000 - val_loss: 1.6504 - val_accuracy: 0.8132\n",
      "Epoch 36/50\n",
      "44/44 [==============================] - 0s 9ms/step - loss: 8.5568e-05 - accuracy: 1.0000 - val_loss: 1.6698 - val_accuracy: 0.8132\n",
      "Epoch 37/50\n",
      "44/44 [==============================] - 0s 7ms/step - loss: 7.5758e-05 - accuracy: 1.0000 - val_loss: 1.6862 - val_accuracy: 0.8132\n",
      "Epoch 38/50\n",
      "44/44 [==============================] - 0s 6ms/step - loss: 6.7995e-05 - accuracy: 1.0000 - val_loss: 1.7038 - val_accuracy: 0.8132\n",
      "Epoch 39/50\n",
      "44/44 [==============================] - 0s 8ms/step - loss: 6.1246e-05 - accuracy: 1.0000 - val_loss: 1.7203 - val_accuracy: 0.8151\n",
      "Epoch 40/50\n",
      "44/44 [==============================] - 0s 6ms/step - loss: 5.5707e-05 - accuracy: 1.0000 - val_loss: 1.7351 - val_accuracy: 0.8151\n",
      "Epoch 41/50\n",
      "44/44 [==============================] - 0s 6ms/step - loss: 5.0827e-05 - accuracy: 1.0000 - val_loss: 1.7494 - val_accuracy: 0.8132\n",
      "Epoch 42/50\n",
      "44/44 [==============================] - 0s 7ms/step - loss: 4.6686e-05 - accuracy: 1.0000 - val_loss: 1.7638 - val_accuracy: 0.8132\n",
      "Epoch 43/50\n",
      "44/44 [==============================] - 0s 7ms/step - loss: 4.2798e-05 - accuracy: 1.0000 - val_loss: 1.7771 - val_accuracy: 0.8151\n",
      "Epoch 44/50\n",
      "44/44 [==============================] - 0s 7ms/step - loss: 3.9573e-05 - accuracy: 1.0000 - val_loss: 1.7899 - val_accuracy: 0.8151\n",
      "Epoch 45/50\n",
      "44/44 [==============================] - 0s 6ms/step - loss: 3.6616e-05 - accuracy: 1.0000 - val_loss: 1.8026 - val_accuracy: 0.8151\n",
      "Epoch 46/50\n",
      "44/44 [==============================] - 0s 8ms/step - loss: 3.4046e-05 - accuracy: 1.0000 - val_loss: 1.8145 - val_accuracy: 0.8151\n",
      "Epoch 47/50\n",
      "44/44 [==============================] - 0s 6ms/step - loss: 3.1617e-05 - accuracy: 1.0000 - val_loss: 1.8265 - val_accuracy: 0.8151\n",
      "Epoch 48/50\n",
      "44/44 [==============================] - 0s 6ms/step - loss: 2.9454e-05 - accuracy: 1.0000 - val_loss: 1.8386 - val_accuracy: 0.8151\n",
      "Epoch 49/50\n",
      "44/44 [==============================] - 0s 6ms/step - loss: 2.7514e-05 - accuracy: 1.0000 - val_loss: 1.8497 - val_accuracy: 0.8151\n",
      "Epoch 50/50\n",
      "44/44 [==============================] - 0s 6ms/step - loss: 2.5739e-05 - accuracy: 1.0000 - val_loss: 1.8602 - val_accuracy: 0.8151\n"
     ]
    }
   ],
   "source": [
    "model = tf.keras.models.Sequential([\n",
    "    tf.keras.layers.Dense(128, activation='relu', input_shape=(X_train_resampled.shape[1],)),\n",
    "    tf.keras.layers.Dense(128, activation='relu'),\n",
    "    tf.keras.layers.Dense(128, activation='relu'),\n",
    "    tf.keras.layers.Dense(64, activation='relu'),\n",
    "    tf.keras.layers.Dense(16, activation='relu'),\n",
    "    tf.keras.layers.Dense(1, activation='sigmoid')\n",
    "])\n",
    "\n",
    "model.compile(optimizer='adam', loss='binary_crossentropy', metrics=['accuracy'])\n",
    "\n",
    "history = model.fit(X_train_resampled, y_train_resampled, validation_data=(X_validate, y_validate), epochs=50, batch_size=32)"
   ]
  },
  {
   "cell_type": "markdown",
   "metadata": {},
   "source": [
    "### evaluating the model using the test data"
   ]
  },
  {
   "cell_type": "code",
   "execution_count": 25,
   "metadata": {},
   "outputs": [],
   "source": [
    "# getting the test dataset\n",
    "testing_data = pd.concat([actives_test, inactives_test], ignore_index=True)"
   ]
  },
  {
   "cell_type": "code",
   "execution_count": 26,
   "metadata": {},
   "outputs": [
    {
     "data": {
      "text/plain": [
       "800"
      ]
     },
     "execution_count": 26,
     "metadata": {},
     "output_type": "execute_result"
    }
   ],
   "source": [
    "len(testing_data)"
   ]
  },
  {
   "cell_type": "code",
   "execution_count": 27,
   "metadata": {},
   "outputs": [
    {
     "data": {
      "text/plain": [
       "1    400\n",
       "0    400\n",
       "Name: activity, dtype: int64"
      ]
     },
     "execution_count": 27,
     "metadata": {},
     "output_type": "execute_result"
    }
   ],
   "source": [
    "testing_data['activity'].value_counts()"
   ]
  },
  {
   "cell_type": "code",
   "execution_count": 28,
   "metadata": {},
   "outputs": [
    {
     "data": {
      "text/html": [
       "<div>\n",
       "<style scoped>\n",
       "    .dataframe tbody tr th:only-of-type {\n",
       "        vertical-align: middle;\n",
       "    }\n",
       "\n",
       "    .dataframe tbody tr th {\n",
       "        vertical-align: top;\n",
       "    }\n",
       "\n",
       "    .dataframe thead th {\n",
       "        text-align: right;\n",
       "    }\n",
       "</style>\n",
       "<table border=\"1\" class=\"dataframe\">\n",
       "  <thead>\n",
       "    <tr style=\"text-align: right;\">\n",
       "      <th></th>\n",
       "      <th>D001</th>\n",
       "      <th>D002</th>\n",
       "      <th>D003</th>\n",
       "      <th>D004</th>\n",
       "      <th>D005</th>\n",
       "      <th>D006</th>\n",
       "      <th>D007</th>\n",
       "      <th>D008</th>\n",
       "      <th>D009</th>\n",
       "      <th>D010</th>\n",
       "      <th>...</th>\n",
       "      <th>D769</th>\n",
       "      <th>D770</th>\n",
       "      <th>D771</th>\n",
       "      <th>D772</th>\n",
       "      <th>D773</th>\n",
       "      <th>D774</th>\n",
       "      <th>D775</th>\n",
       "      <th>D776</th>\n",
       "      <th>D777</th>\n",
       "      <th>activity</th>\n",
       "    </tr>\n",
       "  </thead>\n",
       "  <tbody>\n",
       "    <tr>\n",
       "      <th>0</th>\n",
       "      <td>1</td>\n",
       "      <td>0</td>\n",
       "      <td>0</td>\n",
       "      <td>0</td>\n",
       "      <td>2</td>\n",
       "      <td>0</td>\n",
       "      <td>0</td>\n",
       "      <td>0</td>\n",
       "      <td>0</td>\n",
       "      <td>0</td>\n",
       "      <td>...</td>\n",
       "      <td>0</td>\n",
       "      <td>1</td>\n",
       "      <td>0</td>\n",
       "      <td>0</td>\n",
       "      <td>0</td>\n",
       "      <td>5.087</td>\n",
       "      <td>0.343</td>\n",
       "      <td>0.240</td>\n",
       "      <td>0.314</td>\n",
       "      <td>1</td>\n",
       "    </tr>\n",
       "    <tr>\n",
       "      <th>1</th>\n",
       "      <td>0</td>\n",
       "      <td>0</td>\n",
       "      <td>0</td>\n",
       "      <td>0</td>\n",
       "      <td>3</td>\n",
       "      <td>0</td>\n",
       "      <td>0</td>\n",
       "      <td>0</td>\n",
       "      <td>0</td>\n",
       "      <td>0</td>\n",
       "      <td>...</td>\n",
       "      <td>0</td>\n",
       "      <td>1</td>\n",
       "      <td>0</td>\n",
       "      <td>0</td>\n",
       "      <td>0</td>\n",
       "      <td>5.087</td>\n",
       "      <td>-0.684</td>\n",
       "      <td>0.000</td>\n",
       "      <td>1.682</td>\n",
       "      <td>1</td>\n",
       "    </tr>\n",
       "    <tr>\n",
       "      <th>2</th>\n",
       "      <td>2</td>\n",
       "      <td>0</td>\n",
       "      <td>0</td>\n",
       "      <td>1</td>\n",
       "      <td>2</td>\n",
       "      <td>0</td>\n",
       "      <td>0</td>\n",
       "      <td>0</td>\n",
       "      <td>0</td>\n",
       "      <td>0</td>\n",
       "      <td>...</td>\n",
       "      <td>0</td>\n",
       "      <td>0</td>\n",
       "      <td>0</td>\n",
       "      <td>0</td>\n",
       "      <td>0</td>\n",
       "      <td>5.129</td>\n",
       "      <td>0.301</td>\n",
       "      <td>0.462</td>\n",
       "      <td>2.812</td>\n",
       "      <td>1</td>\n",
       "    </tr>\n",
       "    <tr>\n",
       "      <th>3</th>\n",
       "      <td>1</td>\n",
       "      <td>0</td>\n",
       "      <td>0</td>\n",
       "      <td>2</td>\n",
       "      <td>2</td>\n",
       "      <td>0</td>\n",
       "      <td>0</td>\n",
       "      <td>0</td>\n",
       "      <td>0</td>\n",
       "      <td>0</td>\n",
       "      <td>...</td>\n",
       "      <td>0</td>\n",
       "      <td>0</td>\n",
       "      <td>0</td>\n",
       "      <td>0</td>\n",
       "      <td>0</td>\n",
       "      <td>5.129</td>\n",
       "      <td>-0.323</td>\n",
       "      <td>0.231</td>\n",
       "      <td>1.792</td>\n",
       "      <td>1</td>\n",
       "    </tr>\n",
       "    <tr>\n",
       "      <th>4</th>\n",
       "      <td>2</td>\n",
       "      <td>0</td>\n",
       "      <td>0</td>\n",
       "      <td>0</td>\n",
       "      <td>3</td>\n",
       "      <td>0</td>\n",
       "      <td>0</td>\n",
       "      <td>0</td>\n",
       "      <td>0</td>\n",
       "      <td>0</td>\n",
       "      <td>...</td>\n",
       "      <td>0</td>\n",
       "      <td>0</td>\n",
       "      <td>1</td>\n",
       "      <td>0</td>\n",
       "      <td>0</td>\n",
       "      <td>5.000</td>\n",
       "      <td>-0.323</td>\n",
       "      <td>0.480</td>\n",
       "      <td>2.594</td>\n",
       "      <td>1</td>\n",
       "    </tr>\n",
       "  </tbody>\n",
       "</table>\n",
       "<p>5 rows × 778 columns</p>\n",
       "</div>"
      ],
      "text/plain": [
       "   D001  D002  D003  D004  D005  D006  D007  D008  D009  D010  ...  D769  \\\n",
       "0     1     0     0     0     2     0     0     0     0     0  ...     0   \n",
       "1     0     0     0     0     3     0     0     0     0     0  ...     0   \n",
       "2     2     0     0     1     2     0     0     0     0     0  ...     0   \n",
       "3     1     0     0     2     2     0     0     0     0     0  ...     0   \n",
       "4     2     0     0     0     3     0     0     0     0     0  ...     0   \n",
       "\n",
       "   D770  D771  D772  D773   D774   D775   D776   D777  activity  \n",
       "0     1     0     0     0  5.087  0.343  0.240  0.314         1  \n",
       "1     1     0     0     0  5.087 -0.684  0.000  1.682         1  \n",
       "2     0     0     0     0  5.129  0.301  0.462  2.812         1  \n",
       "3     0     0     0     0  5.129 -0.323  0.231  1.792         1  \n",
       "4     0     1     0     0  5.000 -0.323  0.480  2.594         1  \n",
       "\n",
       "[5 rows x 778 columns]"
      ]
     },
     "execution_count": 28,
     "metadata": {},
     "output_type": "execute_result"
    }
   ],
   "source": [
    "testing_data.head()"
   ]
  },
  {
   "cell_type": "code",
   "execution_count": 29,
   "metadata": {},
   "outputs": [
    {
     "name": "stdout",
     "output_type": "stream",
     "text": [
      "800\n"
     ]
    }
   ],
   "source": [
    "testing_data_x = testing_data.drop(['activity'], axis=1)\n",
    "print(len(testing_data_x))\n",
    "testing_data_x = scaler.transform(testing_data_x)\n",
    "testing_data_y = testing_data['activity']"
   ]
  },
  {
   "cell_type": "code",
   "execution_count": 30,
   "metadata": {},
   "outputs": [
    {
     "name": "stdout",
     "output_type": "stream",
     "text": [
      "25/25 - 0s - loss: 1.9774 - accuracy: 0.8112 - 106ms/epoch - 4ms/step\n"
     ]
    },
    {
     "data": {
      "text/plain": [
       "[1.9774279594421387, 0.8112499713897705]"
      ]
     },
     "execution_count": 30,
     "metadata": {},
     "output_type": "execute_result"
    }
   ],
   "source": [
    "model.evaluate(testing_data_x, testing_data_y, verbose=2)"
   ]
  },
  {
   "cell_type": "markdown",
   "metadata": {},
   "source": [
    "### evaluating model's performance with F1 score, precision, recall, etc"
   ]
  },
  {
   "cell_type": "code",
   "execution_count": 31,
   "metadata": {},
   "outputs": [],
   "source": [
    "from sklearn.metrics import accuracy_score, precision_score, recall_score, f1_score"
   ]
  },
  {
   "cell_type": "code",
   "execution_count": 32,
   "metadata": {},
   "outputs": [],
   "source": [
    "inactives_test_x = inactives_test.drop(['activity'], axis=1)\n",
    "inactives_test_x = scaler.transform(inactives_test_x)\n",
    "actives_test_x = actives_test.drop(['activity'], axis=1)\n",
    "actives_test_x = scaler.transform(actives_test_x)"
   ]
  },
  {
   "cell_type": "code",
   "execution_count": 33,
   "metadata": {},
   "outputs": [],
   "source": [
    "y_true_actives = np.array([1] * len(actives_test_x))\n",
    "y_true_inactives = np.array([0] * len(inactives_test_x))\n",
    "y_true = np.concatenate((y_true_actives, y_true_inactives))"
   ]
  },
  {
   "cell_type": "markdown",
   "metadata": {},
   "source": [
    "There are both y_pred and y_pred_rounded because the model outputs a probability and we need to round it to get the class.\n",
    "\n",
    "\n",
    "y_pred will be used to calculate the ROC curve and the AUC.\n",
    "\n",
    "\n",
    "y_pred_rounded will be used to calculate the confusion matrix."
   ]
  },
  {
   "cell_type": "code",
   "execution_count": 34,
   "metadata": {},
   "outputs": [
    {
     "name": "stdout",
     "output_type": "stream",
     "text": [
      "13/13 [==============================] - 0s 3ms/step\n",
      "13/13 [==============================] - 0s 2ms/step\n"
     ]
    }
   ],
   "source": [
    "y_pred_actives = model.predict(actives_test_x)\n",
    "y_pred_actives_rounded = (y_pred_actives > 0.5).astype(int).reshape(len(y_pred_actives, ))\n",
    "y_pred_inactives = model.predict(inactives_test_x)\n",
    "y_pred_inactives_rounded = (y_pred_inactives > 0.5).astype(int).reshape(len(y_pred_inactives, ))\n",
    "y_pred = np.concatenate((y_pred_actives, y_pred_inactives))\n",
    "y_pred_rounded = np.concatenate((y_pred_actives_rounded, y_pred_inactives_rounded))"
   ]
  },
  {
   "cell_type": "code",
   "execution_count": 35,
   "metadata": {},
   "outputs": [],
   "source": [
    "accuracy = accuracy_score(y_true, y_pred_rounded)\n",
    "precision = precision_score(y_true, y_pred_rounded)\n",
    "recall = recall_score(y_true, y_pred_rounded)\n",
    "f1 = f1_score(y_true, y_pred_rounded)"
   ]
  },
  {
   "cell_type": "code",
   "execution_count": 36,
   "metadata": {},
   "outputs": [
    {
     "name": "stdout",
     "output_type": "stream",
     "text": [
      "accuracy is 0.81125\n",
      "precision is 0.8233766233766234\n",
      "recall is 0.7925\n",
      "f1 is 0.8076433121019109\n"
     ]
    }
   ],
   "source": [
    "print(\"accuracy is {}\".format(accuracy))\n",
    "print(\"precision is {}\".format(precision))\n",
    "print(\"recall is {}\".format(recall))\n",
    "print(\"f1 is {}\".format(f1))"
   ]
  },
  {
   "cell_type": "markdown",
   "metadata": {},
   "source": [
    "Drawing the ROC curve to enable us to carry out threshold moving,"
   ]
  },
  {
   "cell_type": "code",
   "execution_count": 37,
   "metadata": {},
   "outputs": [],
   "source": [
    "fpr, tpr, thresholds = roc_curve(y_true, y_pred, pos_label=1)"
   ]
  },
  {
   "cell_type": "code",
   "execution_count": 38,
   "metadata": {},
   "outputs": [
    {
     "data": {
      "image/png": "[encoded data removed]",
      "text/plain": [
       "<Figure size 640x480 with 1 Axes>"
      ]
     },
     "metadata": {},
     "output_type": "display_data"
    }
   ],
   "source": [
    "roc_auc = auc(fpr, tpr)\n",
    "display = RocCurveDisplay(fpr=fpr, tpr=tpr, roc_auc=roc_auc, estimator_name='area under curve')\n",
    "display.plot()\n",
    "plt.show()"
   ]
  },
  {
   "cell_type": "code",
   "execution_count": 39,
   "metadata": {},
   "outputs": [],
   "source": [
    "fav_thresholds = []\n",
    "for i in range(len(thresholds)):\n",
    "    if fpr[i] < 0.25 and tpr[i] > 0.8:\n",
    "        fav_thresholds.append((i, thresholds[i], fpr[i], tpr[i]))"
   ]
  },
  {
   "cell_type": "code",
   "execution_count": 40,
   "metadata": {},
   "outputs": [
    {
     "name": "stdout",
     "output_type": "stream",
     "text": [
      "(115, 0.20479149, 0.195, 0.805)\n",
      "(116, 0.1912449, 0.1975, 0.805)\n",
      "(117, 0.19118553, 0.1975, 0.8075)\n",
      "(118, 0.18472824, 0.2, 0.8075)\n",
      "(119, 0.17800517, 0.2, 0.8125)\n",
      "(120, 0.15702182, 0.205, 0.8125)\n",
      "(121, 0.14983152, 0.205, 0.82)\n",
      "(122, 0.08092195, 0.2125, 0.82)\n",
      "(123, 0.0702553, 0.2125, 0.825)\n",
      "(124, 0.06427922, 0.215, 0.825)\n",
      "(125, 0.04912352, 0.215, 0.8325)\n",
      "(126, 0.036289383, 0.2275, 0.8325)\n",
      "(127, 0.035417702, 0.2275, 0.835)\n",
      "(128, 0.024346195, 0.235, 0.835)\n",
      "(129, 0.02420027, 0.235, 0.8375)\n",
      "(130, 0.018370898, 0.24, 0.8375)\n",
      "(131, 0.015193693, 0.24, 0.84)\n"
     ]
    }
   ],
   "source": [
    "for i in fav_thresholds:\n",
    "    print(i)"
   ]
  },
  {
   "cell_type": "code",
   "execution_count": 41,
   "metadata": {},
   "outputs": [
    {
     "data": {
      "text/plain": [
       "0.015193693"
      ]
     },
     "execution_count": 41,
     "metadata": {},
     "output_type": "execute_result"
    }
   ],
   "source": [
    "selected_threshold = fav_thresholds[-1][1]\n",
    "selected_threshold"
   ]
  },
  {
   "cell_type": "code",
   "execution_count": 42,
   "metadata": {},
   "outputs": [],
   "source": [
    "y_pred_actives_rounded2 = (y_pred_actives > selected_threshold).astype(int).reshape(len(y_pred_actives, ))\n",
    "y_pred_inactives_rounded2 = (y_pred_inactives > selected_threshold).astype(int).reshape(len(y_pred_inactives, ))\n",
    "y_pred_rounded2 = np.concatenate((y_pred_actives_rounded2, y_pred_inactives_rounded2))"
   ]
  },
  {
   "cell_type": "code",
   "execution_count": 43,
   "metadata": {},
   "outputs": [],
   "source": [
    "accuracy = accuracy_score(y_true, y_pred_rounded2)\n",
    "precision = precision_score(y_true, y_pred_rounded2)\n",
    "recall = recall_score(y_true, y_pred_rounded2)\n",
    "f1 = f1_score(y_true, y_pred_rounded2)"
   ]
  },
  {
   "cell_type": "code",
   "execution_count": 44,
   "metadata": {},
   "outputs": [
    {
     "name": "stdout",
     "output_type": "stream",
     "text": [
      "accuracy is 0.79875\n",
      "precision is 0.777262180974478\n",
      "recall is 0.8375\n",
      "f1 is 0.8062575210589652\n"
     ]
    }
   ],
   "source": [
    "print(\"accuracy is {}\".format(accuracy))\n",
    "print(\"precision is {}\".format(precision))\n",
    "print(\"recall is {}\".format(recall))\n",
    "print(\"f1 is {}\".format(f1))"
   ]
  }
 ],
 "metadata": {
  "kernelspec": {
   "display_name": "Python 3.10.4 ('venv': venv)",
   "language": "python",
   "name": "python3"
  },
  "language_info": {
   "codemirror_mode": {
    "name": "ipython",
    "version": 3
   },
   "file_extension": ".py",
   "mimetype": "text/x-python",
   "name": "python",
   "nbconvert_exporter": "python",
   "pygments_lexer": "ipython3",
   "version": "3.10.4"
  },
  "orig_nbformat": 4,
  "vscode": {
   "interpreter": {
    "hash": "7aeba9923514841c19733a205d28f40fd7b0363b1cf05defaaef1b17fa5f8895"
   }
  }
 },
 "nbformat": 4,
 "nbformat_minor": 2
}
