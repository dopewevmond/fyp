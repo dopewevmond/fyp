{
 "cells": [
  {
   "cell_type": "code",
   "execution_count": 1,
   "metadata": {},
   "outputs": [],
   "source": [
    "import numpy as np\n",
    "import pandas as pd\n",
    "import matplotlib.pyplot as plt\n",
    "\n",
    "from sklearn.model_selection import train_test_split\n",
    "from sklearn.metrics import roc_curve, auc, RocCurveDisplay\n",
    "\n",
    "from imblearn.over_sampling import SMOTE"
   ]
  },
  {
   "cell_type": "code",
   "execution_count": 2,
   "metadata": {},
   "outputs": [],
   "source": [
    "# loading datasets\n",
    "actives = pd.read_csv('../../mold2_descriptors/2242_actives.csv')\n",
    "inactives = pd.read_csv('../../mold2_descriptors/2242_inactives.csv')"
   ]
  },
  {
   "cell_type": "code",
   "execution_count": 3,
   "metadata": {},
   "outputs": [
    {
     "name": "stdout",
     "output_type": "stream",
     "text": [
      "actives: 715\n",
      "inactives: 183379\n"
     ]
    }
   ],
   "source": [
    "print('actives:', len(actives))\n",
    "print('inactives:', len(inactives))"
   ]
  },
  {
   "cell_type": "code",
   "execution_count": 4,
   "metadata": {},
   "outputs": [],
   "source": [
    "# spliting datasets into test - train & validation\n",
    "actives_test = actives.sample(n=300, random_state=42)\n",
    "actives_train = actives.drop(actives_test.index)\n",
    "inactives_test = inactives.sample(n=300, random_state=42)\n",
    "inactives_train = inactives.drop(inactives_test.index)"
   ]
  },
  {
   "cell_type": "code",
   "execution_count": 6,
   "metadata": {},
   "outputs": [],
   "source": [
    "df = pd.concat([actives_train, inactives_train[:600]], ignore_index=True)"
   ]
  },
  {
   "cell_type": "code",
   "execution_count": 7,
   "metadata": {},
   "outputs": [
    {
     "data": {
      "text/html": [
       "<div>\n",
       "<style scoped>\n",
       "    .dataframe tbody tr th:only-of-type {\n",
       "        vertical-align: middle;\n",
       "    }\n",
       "\n",
       "    .dataframe tbody tr th {\n",
       "        vertical-align: top;\n",
       "    }\n",
       "\n",
       "    .dataframe thead th {\n",
       "        text-align: right;\n",
       "    }\n",
       "</style>\n",
       "<table border=\"1\" class=\"dataframe\">\n",
       "  <thead>\n",
       "    <tr style=\"text-align: right;\">\n",
       "      <th></th>\n",
       "      <th>D001</th>\n",
       "      <th>D002</th>\n",
       "      <th>D003</th>\n",
       "      <th>D004</th>\n",
       "      <th>D005</th>\n",
       "      <th>D006</th>\n",
       "      <th>D007</th>\n",
       "      <th>D008</th>\n",
       "      <th>D009</th>\n",
       "      <th>D010</th>\n",
       "      <th>...</th>\n",
       "      <th>D769</th>\n",
       "      <th>D770</th>\n",
       "      <th>D771</th>\n",
       "      <th>D772</th>\n",
       "      <th>D773</th>\n",
       "      <th>D774</th>\n",
       "      <th>D775</th>\n",
       "      <th>D776</th>\n",
       "      <th>D777</th>\n",
       "      <th>activity</th>\n",
       "    </tr>\n",
       "  </thead>\n",
       "  <tbody>\n",
       "    <tr>\n",
       "      <th>0</th>\n",
       "      <td>2</td>\n",
       "      <td>0</td>\n",
       "      <td>0</td>\n",
       "      <td>2</td>\n",
       "      <td>2</td>\n",
       "      <td>0</td>\n",
       "      <td>0</td>\n",
       "      <td>0</td>\n",
       "      <td>0</td>\n",
       "      <td>0</td>\n",
       "      <td>...</td>\n",
       "      <td>0</td>\n",
       "      <td>1</td>\n",
       "      <td>0</td>\n",
       "      <td>0</td>\n",
       "      <td>0</td>\n",
       "      <td>5.28540</td>\n",
       "      <td>-0.798443</td>\n",
       "      <td>0.413793</td>\n",
       "      <td>3.18822</td>\n",
       "      <td>0</td>\n",
       "    </tr>\n",
       "    <tr>\n",
       "      <th>1</th>\n",
       "      <td>3</td>\n",
       "      <td>0</td>\n",
       "      <td>0</td>\n",
       "      <td>0</td>\n",
       "      <td>3</td>\n",
       "      <td>0</td>\n",
       "      <td>0</td>\n",
       "      <td>0</td>\n",
       "      <td>0</td>\n",
       "      <td>0</td>\n",
       "      <td>...</td>\n",
       "      <td>0</td>\n",
       "      <td>0</td>\n",
       "      <td>0</td>\n",
       "      <td>0</td>\n",
       "      <td>0</td>\n",
       "      <td>5.55459</td>\n",
       "      <td>-0.276209</td>\n",
       "      <td>0.529412</td>\n",
       "      <td>3.96809</td>\n",
       "      <td>0</td>\n",
       "    </tr>\n",
       "    <tr>\n",
       "      <th>2</th>\n",
       "      <td>1</td>\n",
       "      <td>0</td>\n",
       "      <td>0</td>\n",
       "      <td>1</td>\n",
       "      <td>3</td>\n",
       "      <td>0</td>\n",
       "      <td>0</td>\n",
       "      <td>0</td>\n",
       "      <td>0</td>\n",
       "      <td>0</td>\n",
       "      <td>...</td>\n",
       "      <td>0</td>\n",
       "      <td>0</td>\n",
       "      <td>0</td>\n",
       "      <td>0</td>\n",
       "      <td>0</td>\n",
       "      <td>5.35800</td>\n",
       "      <td>-0.672000</td>\n",
       "      <td>0.194000</td>\n",
       "      <td>2.46800</td>\n",
       "      <td>1</td>\n",
       "    </tr>\n",
       "    <tr>\n",
       "      <th>3</th>\n",
       "      <td>1</td>\n",
       "      <td>0</td>\n",
       "      <td>0</td>\n",
       "      <td>1</td>\n",
       "      <td>2</td>\n",
       "      <td>0</td>\n",
       "      <td>0</td>\n",
       "      <td>0</td>\n",
       "      <td>0</td>\n",
       "      <td>0</td>\n",
       "      <td>...</td>\n",
       "      <td>0</td>\n",
       "      <td>0</td>\n",
       "      <td>0</td>\n",
       "      <td>0</td>\n",
       "      <td>0</td>\n",
       "      <td>4.70044</td>\n",
       "      <td>-0.295978</td>\n",
       "      <td>0.285714</td>\n",
       "      <td>2.57062</td>\n",
       "      <td>0</td>\n",
       "    </tr>\n",
       "    <tr>\n",
       "      <th>4</th>\n",
       "      <td>0</td>\n",
       "      <td>0</td>\n",
       "      <td>0</td>\n",
       "      <td>0</td>\n",
       "      <td>1</td>\n",
       "      <td>0</td>\n",
       "      <td>0</td>\n",
       "      <td>0</td>\n",
       "      <td>0</td>\n",
       "      <td>0</td>\n",
       "      <td>...</td>\n",
       "      <td>0</td>\n",
       "      <td>1</td>\n",
       "      <td>0</td>\n",
       "      <td>0</td>\n",
       "      <td>0</td>\n",
       "      <td>4.52356</td>\n",
       "      <td>-0.001505</td>\n",
       "      <td>0.000000</td>\n",
       "      <td>-1.48188</td>\n",
       "      <td>0</td>\n",
       "    </tr>\n",
       "  </tbody>\n",
       "</table>\n",
       "<p>5 rows × 778 columns</p>\n",
       "</div>"
      ],
      "text/plain": [
       "   D001  D002  D003  D004  D005  D006  D007  D008  D009  D010  ...  D769  \\\n",
       "0     2     0     0     2     2     0     0     0     0     0  ...     0   \n",
       "1     3     0     0     0     3     0     0     0     0     0  ...     0   \n",
       "2     1     0     0     1     3     0     0     0     0     0  ...     0   \n",
       "3     1     0     0     1     2     0     0     0     0     0  ...     0   \n",
       "4     0     0     0     0     1     0     0     0     0     0  ...     0   \n",
       "\n",
       "   D770  D771  D772  D773     D774      D775      D776     D777  activity  \n",
       "0     1     0     0     0  5.28540 -0.798443  0.413793  3.18822         0  \n",
       "1     0     0     0     0  5.55459 -0.276209  0.529412  3.96809         0  \n",
       "2     0     0     0     0  5.35800 -0.672000  0.194000  2.46800         1  \n",
       "3     0     0     0     0  4.70044 -0.295978  0.285714  2.57062         0  \n",
       "4     1     0     0     0  4.52356 -0.001505  0.000000 -1.48188         0  \n",
       "\n",
       "[5 rows x 778 columns]"
      ]
     },
     "execution_count": 7,
     "metadata": {},
     "output_type": "execute_result"
    }
   ],
   "source": [
    "df = df.sample(frac=1, random_state=42).reset_index(drop=True)\n",
    "df.head()"
   ]
  },
  {
   "cell_type": "code",
   "execution_count": 8,
   "metadata": {},
   "outputs": [],
   "source": [
    "X = df.drop(['activity'], axis=1)\n",
    "y = df['activity']"
   ]
  },
  {
   "cell_type": "code",
   "execution_count": 9,
   "metadata": {},
   "outputs": [
    {
     "data": {
      "text/plain": [
       "0    600\n",
       "1    415\n",
       "Name: activity, dtype: int64"
      ]
     },
     "execution_count": 9,
     "metadata": {},
     "output_type": "execute_result"
    }
   ],
   "source": [
    "y.value_counts()"
   ]
  },
  {
   "cell_type": "code",
   "execution_count": 10,
   "metadata": {},
   "outputs": [],
   "source": [
    "import matplotlib.pyplot as plt"
   ]
  },
  {
   "cell_type": "code",
   "execution_count": 11,
   "metadata": {},
   "outputs": [
    {
     "data": {
      "image/png": "[encoded data removed]",
      "text/plain": [
       "<Figure size 1000x600 with 1 Axes>"
      ]
     },
     "metadata": {},
     "output_type": "display_data"
    }
   ],
   "source": [
    "ax = y.value_counts().plot(kind='bar', figsize=(10, 6), fontsize=13, color='blue')\n",
    "ax.set_title('distribution of actives and inactives', fontsize=13)\n",
    "ax.set_alpha(0.5)"
   ]
  },
  {
   "cell_type": "code",
   "execution_count": 12,
   "metadata": {},
   "outputs": [],
   "source": [
    "X_train, X_validate, y_train, y_validate = train_test_split(X, y, test_size=0.3, random_state=42)"
   ]
  },
  {
   "cell_type": "code",
   "execution_count": 13,
   "metadata": {},
   "outputs": [],
   "source": [
    "# normalizing data\n",
    "from sklearn.preprocessing import StandardScaler\n",
    "\n",
    "scaler = StandardScaler()\n",
    "\n",
    "scaler.fit(X_train)\n",
    "X_train = scaler.transform(X_train)\n",
    "X_validate = scaler.transform(X_validate)"
   ]
  },
  {
   "cell_type": "code",
   "execution_count": 14,
   "metadata": {},
   "outputs": [],
   "source": [
    "over = SMOTE()\n",
    "X_train_resampled, y_train_resampled = over.fit_resample(X_train, y_train)"
   ]
  },
  {
   "cell_type": "code",
   "execution_count": 15,
   "metadata": {},
   "outputs": [
    {
     "data": {
      "text/plain": [
       "1    422\n",
       "0    422\n",
       "Name: activity, dtype: int64"
      ]
     },
     "execution_count": 15,
     "metadata": {},
     "output_type": "execute_result"
    }
   ],
   "source": [
    "y_train_resampled.value_counts()"
   ]
  },
  {
   "cell_type": "code",
   "execution_count": 16,
   "metadata": {},
   "outputs": [
    {
     "data": {
      "text/plain": [
       "Text(0.5, 1.0, 'distribution in sampled dataset')"
      ]
     },
     "execution_count": 16,
     "metadata": {},
     "output_type": "execute_result"
    },
    {
     "data": {
      "image/png": "[encoded data removed]",
      "text/plain": [
       "<Figure size 1000x600 with 1 Axes>"
      ]
     },
     "metadata": {},
     "output_type": "display_data"
    }
   ],
   "source": [
    "ax = y_train_resampled.value_counts().plot(kind='bar', figsize=(10, 6), fontsize=13, color='blue')\n",
    "ax.set_title('distribution in sampled dataset', fontsize=13)"
   ]
  },
  {
   "cell_type": "markdown",
   "metadata": {},
   "source": [
    "## training model with oversampled data"
   ]
  },
  {
   "cell_type": "code",
   "execution_count": 17,
   "metadata": {},
   "outputs": [],
   "source": [
    "import tensorflow as tf"
   ]
  },
  {
   "cell_type": "code",
   "execution_count": 20,
   "metadata": {},
   "outputs": [
    {
     "name": "stdout",
     "output_type": "stream",
     "text": [
      "Epoch 1/100\n",
      "27/27 [==============================] - 2s 22ms/step - loss: 0.4830 - accuracy: 0.7891 - val_loss: 0.4416 - val_accuracy: 0.8033\n",
      "Epoch 2/100\n",
      "27/27 [==============================] - 0s 9ms/step - loss: 0.2252 - accuracy: 0.9123 - val_loss: 0.2452 - val_accuracy: 0.8951\n",
      "Epoch 3/100\n",
      "27/27 [==============================] - 0s 10ms/step - loss: 0.1321 - accuracy: 0.9538 - val_loss: 0.2472 - val_accuracy: 0.9049\n",
      "Epoch 4/100\n",
      "27/27 [==============================] - 0s 9ms/step - loss: 0.1061 - accuracy: 0.9621 - val_loss: 0.4049 - val_accuracy: 0.8820\n",
      "Epoch 5/100\n",
      "27/27 [==============================] - 0s 8ms/step - loss: 0.0666 - accuracy: 0.9787 - val_loss: 0.2260 - val_accuracy: 0.9180\n",
      "Epoch 6/100\n",
      "27/27 [==============================] - 0s 10ms/step - loss: 0.0305 - accuracy: 0.9858 - val_loss: 0.2818 - val_accuracy: 0.8984\n",
      "Epoch 7/100\n",
      "27/27 [==============================] - 0s 10ms/step - loss: 0.0384 - accuracy: 0.9917 - val_loss: 0.4278 - val_accuracy: 0.9016\n",
      "Epoch 8/100\n",
      "27/27 [==============================] - 0s 9ms/step - loss: 0.0474 - accuracy: 0.9846 - val_loss: 0.3928 - val_accuracy: 0.8951\n",
      "Epoch 9/100\n",
      "27/27 [==============================] - 0s 9ms/step - loss: 0.0459 - accuracy: 0.9870 - val_loss: 0.3036 - val_accuracy: 0.9148\n",
      "Epoch 10/100\n",
      "27/27 [==============================] - 0s 9ms/step - loss: 0.0114 - accuracy: 0.9988 - val_loss: 0.3091 - val_accuracy: 0.9246\n",
      "Epoch 11/100\n",
      "27/27 [==============================] - 0s 9ms/step - loss: 0.0028 - accuracy: 1.0000 - val_loss: 0.3120 - val_accuracy: 0.9213\n",
      "Epoch 12/100\n",
      "27/27 [==============================] - 0s 10ms/step - loss: 0.0023 - accuracy: 0.9988 - val_loss: 0.3167 - val_accuracy: 0.9311\n",
      "Epoch 13/100\n",
      "27/27 [==============================] - 0s 9ms/step - loss: 6.1010e-04 - accuracy: 1.0000 - val_loss: 0.3357 - val_accuracy: 0.9279\n",
      "Epoch 14/100\n",
      "27/27 [==============================] - 0s 10ms/step - loss: 4.4075e-04 - accuracy: 1.0000 - val_loss: 0.3416 - val_accuracy: 0.9311\n",
      "Epoch 15/100\n",
      "27/27 [==============================] - 0s 10ms/step - loss: 3.3845e-04 - accuracy: 1.0000 - val_loss: 0.3455 - val_accuracy: 0.9279\n",
      "Epoch 16/100\n",
      "27/27 [==============================] - 0s 8ms/step - loss: 2.7670e-04 - accuracy: 1.0000 - val_loss: 0.3514 - val_accuracy: 0.9279\n",
      "Epoch 17/100\n",
      "27/27 [==============================] - 0s 10ms/step - loss: 2.1017e-04 - accuracy: 1.0000 - val_loss: 0.3646 - val_accuracy: 0.9279\n",
      "Epoch 18/100\n",
      "27/27 [==============================] - 0s 10ms/step - loss: 1.3664e-04 - accuracy: 1.0000 - val_loss: 0.3822 - val_accuracy: 0.9279\n",
      "Epoch 19/100\n",
      "27/27 [==============================] - 0s 10ms/step - loss: 8.9397e-05 - accuracy: 1.0000 - val_loss: 0.4003 - val_accuracy: 0.9279\n",
      "Epoch 20/100\n",
      "27/27 [==============================] - 0s 10ms/step - loss: 6.4293e-05 - accuracy: 1.0000 - val_loss: 0.4149 - val_accuracy: 0.9246\n",
      "Epoch 21/100\n",
      "27/27 [==============================] - 0s 10ms/step - loss: 4.9536e-05 - accuracy: 1.0000 - val_loss: 0.4255 - val_accuracy: 0.9246\n",
      "Epoch 22/100\n",
      "27/27 [==============================] - 0s 10ms/step - loss: 4.0401e-05 - accuracy: 1.0000 - val_loss: 0.4324 - val_accuracy: 0.9246\n",
      "Epoch 23/100\n",
      "27/27 [==============================] - 0s 9ms/step - loss: 3.4764e-05 - accuracy: 1.0000 - val_loss: 0.4344 - val_accuracy: 0.9246\n",
      "Epoch 24/100\n",
      "27/27 [==============================] - 0s 10ms/step - loss: 3.1252e-05 - accuracy: 1.0000 - val_loss: 0.4396 - val_accuracy: 0.9246\n",
      "Epoch 25/100\n",
      "27/27 [==============================] - 0s 10ms/step - loss: 2.7590e-05 - accuracy: 1.0000 - val_loss: 0.4428 - val_accuracy: 0.9246\n",
      "Epoch 26/100\n",
      "27/27 [==============================] - 0s 11ms/step - loss: 2.4578e-05 - accuracy: 1.0000 - val_loss: 0.4435 - val_accuracy: 0.9246\n",
      "Epoch 27/100\n",
      "27/27 [==============================] - 0s 10ms/step - loss: 2.2378e-05 - accuracy: 1.0000 - val_loss: 0.4471 - val_accuracy: 0.9246\n",
      "Epoch 28/100\n",
      "27/27 [==============================] - 0s 8ms/step - loss: 2.0330e-05 - accuracy: 1.0000 - val_loss: 0.4520 - val_accuracy: 0.9246\n",
      "Epoch 29/100\n",
      "27/27 [==============================] - 0s 8ms/step - loss: 1.8094e-05 - accuracy: 1.0000 - val_loss: 0.4572 - val_accuracy: 0.9246\n",
      "Epoch 30/100\n",
      "27/27 [==============================] - 0s 9ms/step - loss: 1.5912e-05 - accuracy: 1.0000 - val_loss: 0.4599 - val_accuracy: 0.9246\n",
      "Epoch 31/100\n",
      "27/27 [==============================] - 0s 8ms/step - loss: 1.3782e-05 - accuracy: 1.0000 - val_loss: 0.4690 - val_accuracy: 0.9246\n",
      "Epoch 32/100\n",
      "27/27 [==============================] - 0s 7ms/step - loss: 1.2044e-05 - accuracy: 1.0000 - val_loss: 0.4759 - val_accuracy: 0.9246\n",
      "Epoch 33/100\n",
      "27/27 [==============================] - 0s 8ms/step - loss: 9.9283e-06 - accuracy: 1.0000 - val_loss: 0.4855 - val_accuracy: 0.9246\n",
      "Epoch 34/100\n",
      "27/27 [==============================] - 0s 7ms/step - loss: 8.3814e-06 - accuracy: 1.0000 - val_loss: 0.4908 - val_accuracy: 0.9246\n",
      "Epoch 35/100\n",
      "27/27 [==============================] - 0s 7ms/step - loss: 7.2985e-06 - accuracy: 1.0000 - val_loss: 0.4996 - val_accuracy: 0.9246\n",
      "Epoch 36/100\n",
      "27/27 [==============================] - 0s 7ms/step - loss: 6.0932e-06 - accuracy: 1.0000 - val_loss: 0.5036 - val_accuracy: 0.9246\n",
      "Epoch 37/100\n",
      "27/27 [==============================] - 0s 7ms/step - loss: 5.2131e-06 - accuracy: 1.0000 - val_loss: 0.5136 - val_accuracy: 0.9246\n",
      "Epoch 38/100\n",
      "27/27 [==============================] - 0s 9ms/step - loss: 4.4584e-06 - accuracy: 1.0000 - val_loss: 0.5240 - val_accuracy: 0.9279\n",
      "Epoch 39/100\n",
      "27/27 [==============================] - 0s 7ms/step - loss: 3.8531e-06 - accuracy: 1.0000 - val_loss: 0.5299 - val_accuracy: 0.9246\n",
      "Epoch 40/100\n",
      "27/27 [==============================] - 0s 8ms/step - loss: 3.3556e-06 - accuracy: 1.0000 - val_loss: 0.5342 - val_accuracy: 0.9246\n",
      "Epoch 41/100\n",
      "27/27 [==============================] - 0s 7ms/step - loss: 2.9363e-06 - accuracy: 1.0000 - val_loss: 0.5402 - val_accuracy: 0.9246\n",
      "Epoch 42/100\n",
      "27/27 [==============================] - 0s 8ms/step - loss: 2.5990e-06 - accuracy: 1.0000 - val_loss: 0.5474 - val_accuracy: 0.9246\n",
      "Epoch 43/100\n",
      "27/27 [==============================] - 0s 8ms/step - loss: 2.3183e-06 - accuracy: 1.0000 - val_loss: 0.5508 - val_accuracy: 0.9246\n",
      "Epoch 44/100\n",
      "27/27 [==============================] - 0s 8ms/step - loss: 2.0316e-06 - accuracy: 1.0000 - val_loss: 0.5583 - val_accuracy: 0.9246\n",
      "Epoch 45/100\n",
      "27/27 [==============================] - 0s 8ms/step - loss: 1.8412e-06 - accuracy: 1.0000 - val_loss: 0.5650 - val_accuracy: 0.9279\n",
      "Epoch 46/100\n",
      "27/27 [==============================] - 0s 8ms/step - loss: 1.6637e-06 - accuracy: 1.0000 - val_loss: 0.5680 - val_accuracy: 0.9246\n",
      "Epoch 47/100\n",
      "27/27 [==============================] - 0s 9ms/step - loss: 1.5173e-06 - accuracy: 1.0000 - val_loss: 0.5753 - val_accuracy: 0.9279\n",
      "Epoch 48/100\n",
      "27/27 [==============================] - 0s 7ms/step - loss: 1.3782e-06 - accuracy: 1.0000 - val_loss: 0.5786 - val_accuracy: 0.9246\n",
      "Epoch 49/100\n",
      "27/27 [==============================] - 0s 7ms/step - loss: 1.2707e-06 - accuracy: 1.0000 - val_loss: 0.5808 - val_accuracy: 0.9246\n",
      "Epoch 50/100\n",
      "27/27 [==============================] - 0s 7ms/step - loss: 1.1547e-06 - accuracy: 1.0000 - val_loss: 0.5864 - val_accuracy: 0.9246\n",
      "Epoch 51/100\n",
      "27/27 [==============================] - 0s 8ms/step - loss: 1.0725e-06 - accuracy: 1.0000 - val_loss: 0.5925 - val_accuracy: 0.9279\n",
      "Epoch 52/100\n",
      "27/27 [==============================] - 0s 8ms/step - loss: 9.9203e-07 - accuracy: 1.0000 - val_loss: 0.5953 - val_accuracy: 0.9279\n",
      "Epoch 53/100\n",
      "27/27 [==============================] - 0s 12ms/step - loss: 9.2429e-07 - accuracy: 1.0000 - val_loss: 0.5994 - val_accuracy: 0.9279\n",
      "Epoch 54/100\n",
      "27/27 [==============================] - 0s 9ms/step - loss: 8.5913e-07 - accuracy: 1.0000 - val_loss: 0.6028 - val_accuracy: 0.9246\n",
      "Epoch 55/100\n",
      "27/27 [==============================] - 0s 9ms/step - loss: 8.0549e-07 - accuracy: 1.0000 - val_loss: 0.6070 - val_accuracy: 0.9279\n",
      "Epoch 56/100\n",
      "27/27 [==============================] - 0s 10ms/step - loss: 7.6055e-07 - accuracy: 1.0000 - val_loss: 0.6095 - val_accuracy: 0.9246\n",
      "Epoch 57/100\n",
      "27/27 [==============================] - 0s 10ms/step - loss: 7.0788e-07 - accuracy: 1.0000 - val_loss: 0.6137 - val_accuracy: 0.9279\n",
      "Epoch 58/100\n",
      "27/27 [==============================] - 0s 9ms/step - loss: 6.7031e-07 - accuracy: 1.0000 - val_loss: 0.6173 - val_accuracy: 0.9279\n",
      "Epoch 59/100\n",
      "27/27 [==============================] - 0s 13ms/step - loss: 6.2618e-07 - accuracy: 1.0000 - val_loss: 0.6193 - val_accuracy: 0.9279\n",
      "Epoch 60/100\n",
      "27/27 [==============================] - 0s 10ms/step - loss: 5.9306e-07 - accuracy: 1.0000 - val_loss: 0.6222 - val_accuracy: 0.9246\n",
      "Epoch 61/100\n",
      "27/27 [==============================] - 0s 9ms/step - loss: 5.5895e-07 - accuracy: 1.0000 - val_loss: 0.6260 - val_accuracy: 0.9279\n",
      "Epoch 62/100\n",
      "27/27 [==============================] - 0s 9ms/step - loss: 5.3015e-07 - accuracy: 1.0000 - val_loss: 0.6286 - val_accuracy: 0.9279\n",
      "Epoch 63/100\n",
      "27/27 [==============================] - 0s 9ms/step - loss: 5.0269e-07 - accuracy: 1.0000 - val_loss: 0.6311 - val_accuracy: 0.9279\n",
      "Epoch 64/100\n",
      "27/27 [==============================] - 0s 10ms/step - loss: 4.8085e-07 - accuracy: 1.0000 - val_loss: 0.6342 - val_accuracy: 0.9279\n",
      "Epoch 65/100\n",
      "27/27 [==============================] - 0s 9ms/step - loss: 4.5248e-07 - accuracy: 1.0000 - val_loss: 0.6384 - val_accuracy: 0.9279\n",
      "Epoch 66/100\n",
      "27/27 [==============================] - 0s 10ms/step - loss: 4.2770e-07 - accuracy: 1.0000 - val_loss: 0.6405 - val_accuracy: 0.9279\n",
      "Epoch 67/100\n",
      "27/27 [==============================] - 0s 8ms/step - loss: 4.0648e-07 - accuracy: 1.0000 - val_loss: 0.6427 - val_accuracy: 0.9279\n",
      "Epoch 68/100\n",
      "27/27 [==============================] - 0s 9ms/step - loss: 3.8747e-07 - accuracy: 1.0000 - val_loss: 0.6455 - val_accuracy: 0.9279\n",
      "Epoch 69/100\n",
      "27/27 [==============================] - 0s 7ms/step - loss: 3.7131e-07 - accuracy: 1.0000 - val_loss: 0.6477 - val_accuracy: 0.9279\n",
      "Epoch 70/100\n",
      "27/27 [==============================] - 0s 8ms/step - loss: 3.5574e-07 - accuracy: 1.0000 - val_loss: 0.6504 - val_accuracy: 0.9279\n",
      "Epoch 71/100\n",
      "27/27 [==============================] - 0s 7ms/step - loss: 3.4013e-07 - accuracy: 1.0000 - val_loss: 0.6530 - val_accuracy: 0.9279\n",
      "Epoch 72/100\n",
      "27/27 [==============================] - 0s 8ms/step - loss: 3.2609e-07 - accuracy: 1.0000 - val_loss: 0.6549 - val_accuracy: 0.9279\n",
      "Epoch 73/100\n",
      "27/27 [==============================] - 0s 9ms/step - loss: 3.1404e-07 - accuracy: 1.0000 - val_loss: 0.6587 - val_accuracy: 0.9279\n",
      "Epoch 74/100\n",
      "27/27 [==============================] - 0s 7ms/step - loss: 3.0089e-07 - accuracy: 1.0000 - val_loss: 0.6599 - val_accuracy: 0.9279\n",
      "Epoch 75/100\n",
      "27/27 [==============================] - 0s 7ms/step - loss: 2.8941e-07 - accuracy: 1.0000 - val_loss: 0.6631 - val_accuracy: 0.9279\n",
      "Epoch 76/100\n",
      "27/27 [==============================] - 0s 9ms/step - loss: 2.7762e-07 - accuracy: 1.0000 - val_loss: 0.6646 - val_accuracy: 0.9279\n",
      "Epoch 77/100\n",
      "27/27 [==============================] - 0s 7ms/step - loss: 2.6757e-07 - accuracy: 1.0000 - val_loss: 0.6661 - val_accuracy: 0.9279\n",
      "Epoch 78/100\n",
      "27/27 [==============================] - 0s 7ms/step - loss: 2.5780e-07 - accuracy: 1.0000 - val_loss: 0.6687 - val_accuracy: 0.9279\n",
      "Epoch 79/100\n",
      "27/27 [==============================] - 0s 9ms/step - loss: 2.4857e-07 - accuracy: 1.0000 - val_loss: 0.6702 - val_accuracy: 0.9279\n",
      "Epoch 80/100\n",
      "27/27 [==============================] - 0s 8ms/step - loss: 2.3861e-07 - accuracy: 1.0000 - val_loss: 0.6730 - val_accuracy: 0.9279\n",
      "Epoch 81/100\n",
      "27/27 [==============================] - 0s 7ms/step - loss: 2.3112e-07 - accuracy: 1.0000 - val_loss: 0.6749 - val_accuracy: 0.9279\n",
      "Epoch 82/100\n",
      "27/27 [==============================] - 0s 9ms/step - loss: 2.2324e-07 - accuracy: 1.0000 - val_loss: 0.6759 - val_accuracy: 0.9279\n",
      "Epoch 83/100\n",
      "27/27 [==============================] - 0s 7ms/step - loss: 2.1516e-07 - accuracy: 1.0000 - val_loss: 0.6784 - val_accuracy: 0.9279\n",
      "Epoch 84/100\n",
      "27/27 [==============================] - 0s 6ms/step - loss: 2.0775e-07 - accuracy: 1.0000 - val_loss: 0.6800 - val_accuracy: 0.9279\n",
      "Epoch 85/100\n",
      "27/27 [==============================] - 0s 7ms/step - loss: 2.0093e-07 - accuracy: 1.0000 - val_loss: 0.6820 - val_accuracy: 0.9279\n",
      "Epoch 86/100\n",
      "27/27 [==============================] - 0s 7ms/step - loss: 1.9358e-07 - accuracy: 1.0000 - val_loss: 0.6838 - val_accuracy: 0.9279\n",
      "Epoch 87/100\n",
      "27/27 [==============================] - 0s 9ms/step - loss: 1.8717e-07 - accuracy: 1.0000 - val_loss: 0.6851 - val_accuracy: 0.9279\n",
      "Epoch 88/100\n",
      "27/27 [==============================] - 0s 7ms/step - loss: 1.8216e-07 - accuracy: 1.0000 - val_loss: 0.6875 - val_accuracy: 0.9279\n",
      "Epoch 89/100\n",
      "27/27 [==============================] - 0s 8ms/step - loss: 1.7549e-07 - accuracy: 1.0000 - val_loss: 0.6895 - val_accuracy: 0.9279\n",
      "Epoch 90/100\n",
      "27/27 [==============================] - 0s 7ms/step - loss: 1.7051e-07 - accuracy: 1.0000 - val_loss: 0.6915 - val_accuracy: 0.9279\n",
      "Epoch 91/100\n",
      "27/27 [==============================] - 0s 8ms/step - loss: 1.6504e-07 - accuracy: 1.0000 - val_loss: 0.6926 - val_accuracy: 0.9279\n",
      "Epoch 92/100\n",
      "27/27 [==============================] - 0s 9ms/step - loss: 1.6017e-07 - accuracy: 1.0000 - val_loss: 0.6948 - val_accuracy: 0.9279\n",
      "Epoch 93/100\n",
      "27/27 [==============================] - 0s 7ms/step - loss: 1.5532e-07 - accuracy: 1.0000 - val_loss: 0.6955 - val_accuracy: 0.9279\n",
      "Epoch 94/100\n",
      "27/27 [==============================] - 0s 7ms/step - loss: 1.5027e-07 - accuracy: 1.0000 - val_loss: 0.6982 - val_accuracy: 0.9279\n",
      "Epoch 95/100\n",
      "27/27 [==============================] - 0s 10ms/step - loss: 1.4581e-07 - accuracy: 1.0000 - val_loss: 0.6999 - val_accuracy: 0.9279\n",
      "Epoch 96/100\n",
      "27/27 [==============================] - 0s 7ms/step - loss: 1.4150e-07 - accuracy: 1.0000 - val_loss: 0.7016 - val_accuracy: 0.9279\n",
      "Epoch 97/100\n",
      "27/27 [==============================] - 0s 9ms/step - loss: 1.3758e-07 - accuracy: 1.0000 - val_loss: 0.7037 - val_accuracy: 0.9279\n",
      "Epoch 98/100\n",
      "27/27 [==============================] - 0s 7ms/step - loss: 1.3362e-07 - accuracy: 1.0000 - val_loss: 0.7047 - val_accuracy: 0.9279\n",
      "Epoch 99/100\n",
      "27/27 [==============================] - 0s 7ms/step - loss: 1.2988e-07 - accuracy: 1.0000 - val_loss: 0.7067 - val_accuracy: 0.9279\n",
      "Epoch 100/100\n",
      "27/27 [==============================] - 0s 7ms/step - loss: 1.2598e-07 - accuracy: 1.0000 - val_loss: 0.7085 - val_accuracy: 0.9279\n"
     ]
    }
   ],
   "source": [
    "model = tf.keras.models.Sequential([\n",
    "    tf.keras.layers.Dense(128, activation='relu', input_shape=(X_train_resampled.shape[1],)),\n",
    "    tf.keras.layers.Dense(128, activation='relu'),\n",
    "    tf.keras.layers.Dense(128, activation='relu'),\n",
    "    tf.keras.layers.Dense(64, activation='relu'),\n",
    "    tf.keras.layers.Dense(16, activation='relu'),\n",
    "    tf.keras.layers.Dense(1, activation='sigmoid')\n",
    "])\n",
    "\n",
    "model.compile(optimizer='adam', loss='binary_crossentropy', metrics=['accuracy'])\n",
    "\n",
    "history = model.fit(X_train_resampled, y_train_resampled, validation_data=(X_validate, y_validate), epochs=100, batch_size=32)"
   ]
  },
  {
   "cell_type": "markdown",
   "metadata": {},
   "source": [
    "### evaluating the model using the test data"
   ]
  },
  {
   "cell_type": "code",
   "execution_count": 21,
   "metadata": {},
   "outputs": [],
   "source": [
    "# getting the test dataset\n",
    "testing_data = pd.concat([actives_test, inactives_test], ignore_index=True)"
   ]
  },
  {
   "cell_type": "code",
   "execution_count": 22,
   "metadata": {},
   "outputs": [
    {
     "data": {
      "text/plain": [
       "600"
      ]
     },
     "execution_count": 22,
     "metadata": {},
     "output_type": "execute_result"
    }
   ],
   "source": [
    "len(testing_data)"
   ]
  },
  {
   "cell_type": "code",
   "execution_count": 23,
   "metadata": {},
   "outputs": [
    {
     "data": {
      "text/plain": [
       "1    300\n",
       "0    300\n",
       "Name: activity, dtype: int64"
      ]
     },
     "execution_count": 23,
     "metadata": {},
     "output_type": "execute_result"
    }
   ],
   "source": [
    "testing_data['activity'].value_counts()"
   ]
  },
  {
   "cell_type": "code",
   "execution_count": 24,
   "metadata": {},
   "outputs": [
    {
     "data": {
      "text/html": [
       "<div>\n",
       "<style scoped>\n",
       "    .dataframe tbody tr th:only-of-type {\n",
       "        vertical-align: middle;\n",
       "    }\n",
       "\n",
       "    .dataframe tbody tr th {\n",
       "        vertical-align: top;\n",
       "    }\n",
       "\n",
       "    .dataframe thead th {\n",
       "        text-align: right;\n",
       "    }\n",
       "</style>\n",
       "<table border=\"1\" class=\"dataframe\">\n",
       "  <thead>\n",
       "    <tr style=\"text-align: right;\">\n",
       "      <th></th>\n",
       "      <th>D001</th>\n",
       "      <th>D002</th>\n",
       "      <th>D003</th>\n",
       "      <th>D004</th>\n",
       "      <th>D005</th>\n",
       "      <th>D006</th>\n",
       "      <th>D007</th>\n",
       "      <th>D008</th>\n",
       "      <th>D009</th>\n",
       "      <th>D010</th>\n",
       "      <th>...</th>\n",
       "      <th>D769</th>\n",
       "      <th>D770</th>\n",
       "      <th>D771</th>\n",
       "      <th>D772</th>\n",
       "      <th>D773</th>\n",
       "      <th>D774</th>\n",
       "      <th>D775</th>\n",
       "      <th>D776</th>\n",
       "      <th>D777</th>\n",
       "      <th>activity</th>\n",
       "    </tr>\n",
       "  </thead>\n",
       "  <tbody>\n",
       "    <tr>\n",
       "      <th>0</th>\n",
       "      <td>1</td>\n",
       "      <td>0</td>\n",
       "      <td>0</td>\n",
       "      <td>1</td>\n",
       "      <td>3</td>\n",
       "      <td>0</td>\n",
       "      <td>0</td>\n",
       "      <td>0</td>\n",
       "      <td>0</td>\n",
       "      <td>0</td>\n",
       "      <td>...</td>\n",
       "      <td>0</td>\n",
       "      <td>0</td>\n",
       "      <td>0</td>\n",
       "      <td>0</td>\n",
       "      <td>0</td>\n",
       "      <td>4.954</td>\n",
       "      <td>-0.280</td>\n",
       "      <td>0.231</td>\n",
       "      <td>3.149</td>\n",
       "      <td>1</td>\n",
       "    </tr>\n",
       "    <tr>\n",
       "      <th>1</th>\n",
       "      <td>1</td>\n",
       "      <td>0</td>\n",
       "      <td>0</td>\n",
       "      <td>2</td>\n",
       "      <td>2</td>\n",
       "      <td>0</td>\n",
       "      <td>0</td>\n",
       "      <td>0</td>\n",
       "      <td>0</td>\n",
       "      <td>0</td>\n",
       "      <td>...</td>\n",
       "      <td>0</td>\n",
       "      <td>1</td>\n",
       "      <td>0</td>\n",
       "      <td>0</td>\n",
       "      <td>1</td>\n",
       "      <td>5.285</td>\n",
       "      <td>-0.234</td>\n",
       "      <td>0.214</td>\n",
       "      <td>0.636</td>\n",
       "      <td>1</td>\n",
       "    </tr>\n",
       "    <tr>\n",
       "      <th>2</th>\n",
       "      <td>2</td>\n",
       "      <td>0</td>\n",
       "      <td>0</td>\n",
       "      <td>2</td>\n",
       "      <td>2</td>\n",
       "      <td>0</td>\n",
       "      <td>0</td>\n",
       "      <td>0</td>\n",
       "      <td>0</td>\n",
       "      <td>0</td>\n",
       "      <td>...</td>\n",
       "      <td>0</td>\n",
       "      <td>2</td>\n",
       "      <td>0</td>\n",
       "      <td>0</td>\n",
       "      <td>0</td>\n",
       "      <td>5.170</td>\n",
       "      <td>-0.658</td>\n",
       "      <td>0.444</td>\n",
       "      <td>3.317</td>\n",
       "      <td>1</td>\n",
       "    </tr>\n",
       "    <tr>\n",
       "      <th>3</th>\n",
       "      <td>2</td>\n",
       "      <td>0</td>\n",
       "      <td>0</td>\n",
       "      <td>2</td>\n",
       "      <td>2</td>\n",
       "      <td>0</td>\n",
       "      <td>0</td>\n",
       "      <td>0</td>\n",
       "      <td>0</td>\n",
       "      <td>0</td>\n",
       "      <td>...</td>\n",
       "      <td>0</td>\n",
       "      <td>0</td>\n",
       "      <td>0</td>\n",
       "      <td>0</td>\n",
       "      <td>0</td>\n",
       "      <td>5.170</td>\n",
       "      <td>-0.823</td>\n",
       "      <td>0.444</td>\n",
       "      <td>3.307</td>\n",
       "      <td>1</td>\n",
       "    </tr>\n",
       "    <tr>\n",
       "      <th>4</th>\n",
       "      <td>0</td>\n",
       "      <td>0</td>\n",
       "      <td>0</td>\n",
       "      <td>1</td>\n",
       "      <td>1</td>\n",
       "      <td>0</td>\n",
       "      <td>0</td>\n",
       "      <td>0</td>\n",
       "      <td>0</td>\n",
       "      <td>0</td>\n",
       "      <td>...</td>\n",
       "      <td>0</td>\n",
       "      <td>1</td>\n",
       "      <td>0</td>\n",
       "      <td>0</td>\n",
       "      <td>0</td>\n",
       "      <td>4.858</td>\n",
       "      <td>-0.717</td>\n",
       "      <td>0.000</td>\n",
       "      <td>1.820</td>\n",
       "      <td>1</td>\n",
       "    </tr>\n",
       "  </tbody>\n",
       "</table>\n",
       "<p>5 rows × 778 columns</p>\n",
       "</div>"
      ],
      "text/plain": [
       "   D001  D002  D003  D004  D005  D006  D007  D008  D009  D010  ...  D769  \\\n",
       "0     1     0     0     1     3     0     0     0     0     0  ...     0   \n",
       "1     1     0     0     2     2     0     0     0     0     0  ...     0   \n",
       "2     2     0     0     2     2     0     0     0     0     0  ...     0   \n",
       "3     2     0     0     2     2     0     0     0     0     0  ...     0   \n",
       "4     0     0     0     1     1     0     0     0     0     0  ...     0   \n",
       "\n",
       "   D770  D771  D772  D773   D774   D775   D776   D777  activity  \n",
       "0     0     0     0     0  4.954 -0.280  0.231  3.149         1  \n",
       "1     1     0     0     1  5.285 -0.234  0.214  0.636         1  \n",
       "2     2     0     0     0  5.170 -0.658  0.444  3.317         1  \n",
       "3     0     0     0     0  5.170 -0.823  0.444  3.307         1  \n",
       "4     1     0     0     0  4.858 -0.717  0.000  1.820         1  \n",
       "\n",
       "[5 rows x 778 columns]"
      ]
     },
     "execution_count": 24,
     "metadata": {},
     "output_type": "execute_result"
    }
   ],
   "source": [
    "testing_data.head()"
   ]
  },
  {
   "cell_type": "code",
   "execution_count": 25,
   "metadata": {},
   "outputs": [
    {
     "name": "stdout",
     "output_type": "stream",
     "text": [
      "600\n"
     ]
    }
   ],
   "source": [
    "testing_data_x = testing_data.drop(['activity'], axis=1)\n",
    "print(len(testing_data_x))\n",
    "testing_data_x = scaler.transform(testing_data_x)\n",
    "testing_data_y = testing_data['activity']"
   ]
  },
  {
   "cell_type": "code",
   "execution_count": 26,
   "metadata": {},
   "outputs": [
    {
     "name": "stdout",
     "output_type": "stream",
     "text": [
      "19/19 - 0s - loss: 3.6500 - accuracy: 0.7700 - 232ms/epoch - 12ms/step\n"
     ]
    },
    {
     "data": {
      "text/plain": [
       "[3.650043249130249, 0.7699999809265137]"
      ]
     },
     "execution_count": 26,
     "metadata": {},
     "output_type": "execute_result"
    }
   ],
   "source": [
    "model.evaluate(testing_data_x, testing_data_y, verbose=2)"
   ]
  },
  {
   "cell_type": "markdown",
   "metadata": {},
   "source": [
    "### evaluating model's performance with F1 score, precision, recall, etc"
   ]
  },
  {
   "cell_type": "code",
   "execution_count": 27,
   "metadata": {},
   "outputs": [],
   "source": [
    "from sklearn.metrics import accuracy_score, precision_score, recall_score, f1_score"
   ]
  },
  {
   "cell_type": "code",
   "execution_count": 28,
   "metadata": {},
   "outputs": [],
   "source": [
    "inactives_test_x = inactives_test.drop(['activity'], axis=1)\n",
    "inactives_test_x = scaler.transform(inactives_test_x)\n",
    "actives_test_x = actives_test.drop(['activity'], axis=1)\n",
    "actives_test_x = scaler.transform(actives_test_x)"
   ]
  },
  {
   "cell_type": "code",
   "execution_count": 29,
   "metadata": {},
   "outputs": [],
   "source": [
    "y_true_actives = np.array([1] * len(actives_test_x))\n",
    "y_true_inactives = np.array([0] * len(inactives_test_x))\n",
    "y_true = np.concatenate((y_true_actives, y_true_inactives))"
   ]
  },
  {
   "cell_type": "markdown",
   "metadata": {},
   "source": [
    "There are both y_pred and y_pred_rounded because the model outputs a probability and we need to round it to get the class.\n",
    "\n",
    "\n",
    "y_pred will be used to calculate the ROC curve and the AUC.\n",
    "\n",
    "\n",
    "y_pred_rounded will be used to calculate the confusion matrix."
   ]
  },
  {
   "cell_type": "code",
   "execution_count": 30,
   "metadata": {},
   "outputs": [
    {
     "name": "stdout",
     "output_type": "stream",
     "text": [
      "10/10 [==============================] - 0s 2ms/step\n",
      "10/10 [==============================] - 0s 2ms/step\n"
     ]
    }
   ],
   "source": [
    "y_pred_actives = model.predict(actives_test_x)\n",
    "y_pred_actives_rounded = (y_pred_actives > 0.5).astype(int).reshape(len(y_pred_actives, ))\n",
    "y_pred_inactives = model.predict(inactives_test_x)\n",
    "y_pred_inactives_rounded = (y_pred_inactives > 0.5).astype(int).reshape(len(y_pred_inactives, ))\n",
    "y_pred = np.concatenate((y_pred_actives, y_pred_inactives))\n",
    "y_pred_rounded = np.concatenate((y_pred_actives_rounded, y_pred_inactives_rounded))"
   ]
  },
  {
   "cell_type": "code",
   "execution_count": 31,
   "metadata": {},
   "outputs": [],
   "source": [
    "accuracy = accuracy_score(y_true, y_pred_rounded)\n",
    "precision = precision_score(y_true, y_pred_rounded)\n",
    "recall = recall_score(y_true, y_pred_rounded)\n",
    "f1 = f1_score(y_true, y_pred_rounded)"
   ]
  },
  {
   "cell_type": "code",
   "execution_count": 32,
   "metadata": {},
   "outputs": [
    {
     "name": "stdout",
     "output_type": "stream",
     "text": [
      "accuracy is 0.77\n",
      "precision is 0.7142857142857143\n",
      "recall is 0.9\n",
      "f1 is 0.7964601769911505\n"
     ]
    }
   ],
   "source": [
    "print(\"accuracy is {}\".format(accuracy))\n",
    "print(\"precision is {}\".format(precision))\n",
    "print(\"recall is {}\".format(recall))\n",
    "print(\"f1 is {}\".format(f1))"
   ]
  },
  {
   "cell_type": "markdown",
   "metadata": {},
   "source": [
    "Drawing the ROC curve to enable us to carry out threshold moving,"
   ]
  },
  {
   "cell_type": "code",
   "execution_count": 33,
   "metadata": {},
   "outputs": [],
   "source": [
    "fpr, tpr, thresholds = roc_curve(y_true, y_pred, pos_label=1)"
   ]
  },
  {
   "cell_type": "code",
   "execution_count": 34,
   "metadata": {},
   "outputs": [
    {
     "data": {
      "image/png": "[encoded data removed]",
      "text/plain": [
       "<Figure size 640x480 with 1 Axes>"
      ]
     },
     "metadata": {},
     "output_type": "display_data"
    }
   ],
   "source": [
    "roc_auc = auc(fpr, tpr)\n",
    "display = RocCurveDisplay(fpr=fpr, tpr=tpr, roc_auc=roc_auc, estimator_name='area under curve')\n",
    "display.plot()\n",
    "plt.show()"
   ]
  },
  {
   "cell_type": "code",
   "execution_count": 44,
   "metadata": {},
   "outputs": [],
   "source": [
    "fav_thresholds = []\n",
    "for i in range(len(thresholds)):\n",
    "    if fpr[i] < 0.3 and tpr[i] > 0.8:\n",
    "        fav_thresholds.append((i, thresholds[i], fpr[i], tpr[i]))"
   ]
  },
  {
   "cell_type": "code",
   "execution_count": 45,
   "metadata": {},
   "outputs": [
    {
     "name": "stdout",
     "output_type": "stream",
     "text": [
      "(32, 0.99964434, 0.26666666666666666, 0.8033333333333333)\n",
      "(33, 0.999085, 0.27666666666666667, 0.8033333333333333)\n",
      "(34, 0.9987894, 0.27666666666666667, 0.81)\n",
      "(35, 0.99872845, 0.28, 0.81)\n",
      "(36, 0.99763423, 0.28, 0.82)\n",
      "(37, 0.9972542, 0.2833333333333333, 0.82)\n",
      "(38, 0.9970312, 0.2833333333333333, 0.8266666666666667)\n",
      "(39, 0.99697113, 0.2866666666666667, 0.8266666666666667)\n",
      "(40, 0.99666697, 0.2866666666666667, 0.8333333333333334)\n",
      "(41, 0.9947223, 0.29333333333333333, 0.8333333333333334)\n",
      "(42, 0.9912617, 0.29333333333333333, 0.8433333333333334)\n"
     ]
    }
   ],
   "source": [
    "for i in fav_thresholds:\n",
    "    print(i)"
   ]
  },
  {
   "cell_type": "code",
   "execution_count": 46,
   "metadata": {},
   "outputs": [
    {
     "data": {
      "text/plain": [
       "0.9912617"
      ]
     },
     "execution_count": 46,
     "metadata": {},
     "output_type": "execute_result"
    }
   ],
   "source": [
    "selected_threshold = fav_thresholds[-1][1]\n",
    "selected_threshold"
   ]
  },
  {
   "cell_type": "code",
   "execution_count": 47,
   "metadata": {},
   "outputs": [],
   "source": [
    "y_pred_actives_rounded2 = (y_pred_actives > selected_threshold).astype(int).reshape(len(y_pred_actives, ))\n",
    "y_pred_inactives_rounded2 = (y_pred_inactives > selected_threshold).astype(int).reshape(len(y_pred_inactives, ))\n",
    "y_pred_rounded2 = np.concatenate((y_pred_actives_rounded2, y_pred_inactives_rounded2))"
   ]
  },
  {
   "cell_type": "code",
   "execution_count": 48,
   "metadata": {},
   "outputs": [],
   "source": [
    "accuracy = accuracy_score(y_true, y_pred_rounded2)\n",
    "precision = precision_score(y_true, y_pred_rounded2)\n",
    "recall = recall_score(y_true, y_pred_rounded2)\n",
    "f1 = f1_score(y_true, y_pred_rounded2)"
   ]
  },
  {
   "cell_type": "code",
   "execution_count": 49,
   "metadata": {},
   "outputs": [
    {
     "name": "stdout",
     "output_type": "stream",
     "text": [
      "accuracy is 0.7733333333333333\n",
      "precision is 0.7411764705882353\n",
      "recall is 0.84\n",
      "f1 is 0.7875000000000001\n"
     ]
    }
   ],
   "source": [
    "print(\"accuracy is {}\".format(accuracy))\n",
    "print(\"precision is {}\".format(precision))\n",
    "print(\"recall is {}\".format(recall))\n",
    "print(\"f1 is {}\".format(f1))"
   ]
  }
 ],
 "metadata": {
  "kernelspec": {
   "display_name": "Python 3.10.4 ('venv': venv)",
   "language": "python",
   "name": "python3"
  },
  "language_info": {
   "codemirror_mode": {
    "name": "ipython",
    "version": 3
   },
   "file_extension": ".py",
   "mimetype": "text/x-python",
   "name": "python",
   "nbconvert_exporter": "python",
   "pygments_lexer": "ipython3",
   "version": "3.10.4"
  },
  "orig_nbformat": 4,
  "vscode": {
   "interpreter": {
    "hash": "7aeba9923514841c19733a205d28f40fd7b0363b1cf05defaaef1b17fa5f8895"
   }
  }
 },
 "nbformat": 4,
 "nbformat_minor": 2
}
