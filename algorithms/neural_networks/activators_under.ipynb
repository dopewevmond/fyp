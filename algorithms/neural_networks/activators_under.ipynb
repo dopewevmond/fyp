{
 "cells": [
  {
   "cell_type": "code",
   "execution_count": 1,
   "metadata": {},
   "outputs": [],
   "source": [
    "import numpy as np\n",
    "import pandas as pd\n",
    "import matplotlib.pyplot as plt\n",
    "\n",
    "from sklearn.model_selection import train_test_split\n",
    "from sklearn.metrics import roc_curve, auc, RocCurveDisplay"
   ]
  },
  {
   "cell_type": "code",
   "execution_count": 2,
   "metadata": {},
   "outputs": [],
   "source": [
    "# loading datasets\n",
    "actives = pd.read_csv('../../mold2_descriptors/2242_actives.csv')\n",
    "inactives = pd.read_csv('../../mold2_descriptors/2242_inactives.csv')"
   ]
  },
  {
   "cell_type": "code",
   "execution_count": 3,
   "metadata": {},
   "outputs": [
    {
     "name": "stdout",
     "output_type": "stream",
     "text": [
      "actives: 715\n",
      "inactives: 183379\n"
     ]
    }
   ],
   "source": [
    "print('actives:', len(actives))\n",
    "print('inactives:', len(inactives))"
   ]
  },
  {
   "cell_type": "code",
   "execution_count": 4,
   "metadata": {},
   "outputs": [],
   "source": [
    "# spliting datasets into test - train & validation\n",
    "actives_test = actives.sample(n=300, random_state=42)\n",
    "actives_train = actives.drop(actives_test.index)\n",
    "inactives_test = inactives.sample(n=300, random_state=42)\n",
    "inactives_train = inactives.drop(inactives_test.index)\n",
    "\n",
    "# balancing datasets by sampling just 415 inactives for training\n",
    "inactives_train = inactives_train.sample(n=415, random_state=42)"
   ]
  },
  {
   "cell_type": "code",
   "execution_count": 5,
   "metadata": {},
   "outputs": [],
   "source": [
    "df = pd.concat([actives_train, inactives_train], ignore_index=True)"
   ]
  },
  {
   "cell_type": "code",
   "execution_count": 6,
   "metadata": {},
   "outputs": [
    {
     "data": {
      "text/html": [
       "<div>\n",
       "<style scoped>\n",
       "    .dataframe tbody tr th:only-of-type {\n",
       "        vertical-align: middle;\n",
       "    }\n",
       "\n",
       "    .dataframe tbody tr th {\n",
       "        vertical-align: top;\n",
       "    }\n",
       "\n",
       "    .dataframe thead th {\n",
       "        text-align: right;\n",
       "    }\n",
       "</style>\n",
       "<table border=\"1\" class=\"dataframe\">\n",
       "  <thead>\n",
       "    <tr style=\"text-align: right;\">\n",
       "      <th></th>\n",
       "      <th>D001</th>\n",
       "      <th>D002</th>\n",
       "      <th>D003</th>\n",
       "      <th>D004</th>\n",
       "      <th>D005</th>\n",
       "      <th>D006</th>\n",
       "      <th>D007</th>\n",
       "      <th>D008</th>\n",
       "      <th>D009</th>\n",
       "      <th>D010</th>\n",
       "      <th>...</th>\n",
       "      <th>D769</th>\n",
       "      <th>D770</th>\n",
       "      <th>D771</th>\n",
       "      <th>D772</th>\n",
       "      <th>D773</th>\n",
       "      <th>D774</th>\n",
       "      <th>D775</th>\n",
       "      <th>D776</th>\n",
       "      <th>D777</th>\n",
       "      <th>activity</th>\n",
       "    </tr>\n",
       "  </thead>\n",
       "  <tbody>\n",
       "    <tr>\n",
       "      <th>0</th>\n",
       "      <td>0</td>\n",
       "      <td>2</td>\n",
       "      <td>0</td>\n",
       "      <td>2</td>\n",
       "      <td>0</td>\n",
       "      <td>0</td>\n",
       "      <td>0</td>\n",
       "      <td>0</td>\n",
       "      <td>0</td>\n",
       "      <td>0</td>\n",
       "      <td>...</td>\n",
       "      <td>0</td>\n",
       "      <td>1</td>\n",
       "      <td>0</td>\n",
       "      <td>0</td>\n",
       "      <td>0</td>\n",
       "      <td>4.85798</td>\n",
       "      <td>-0.806583</td>\n",
       "      <td>0.000000</td>\n",
       "      <td>2.846540</td>\n",
       "      <td>0</td>\n",
       "    </tr>\n",
       "    <tr>\n",
       "      <th>1</th>\n",
       "      <td>0</td>\n",
       "      <td>0</td>\n",
       "      <td>0</td>\n",
       "      <td>1</td>\n",
       "      <td>0</td>\n",
       "      <td>0</td>\n",
       "      <td>0</td>\n",
       "      <td>0</td>\n",
       "      <td>0</td>\n",
       "      <td>0</td>\n",
       "      <td>...</td>\n",
       "      <td>0</td>\n",
       "      <td>2</td>\n",
       "      <td>0</td>\n",
       "      <td>0</td>\n",
       "      <td>0</td>\n",
       "      <td>4.24793</td>\n",
       "      <td>-0.100701</td>\n",
       "      <td>0.000000</td>\n",
       "      <td>0.436691</td>\n",
       "      <td>0</td>\n",
       "    </tr>\n",
       "    <tr>\n",
       "      <th>2</th>\n",
       "      <td>0</td>\n",
       "      <td>0</td>\n",
       "      <td>0</td>\n",
       "      <td>0</td>\n",
       "      <td>2</td>\n",
       "      <td>0</td>\n",
       "      <td>0</td>\n",
       "      <td>0</td>\n",
       "      <td>0</td>\n",
       "      <td>0</td>\n",
       "      <td>...</td>\n",
       "      <td>0</td>\n",
       "      <td>1</td>\n",
       "      <td>0</td>\n",
       "      <td>0</td>\n",
       "      <td>0</td>\n",
       "      <td>4.39200</td>\n",
       "      <td>-0.521000</td>\n",
       "      <td>0.000000</td>\n",
       "      <td>-0.698000</td>\n",
       "      <td>1</td>\n",
       "    </tr>\n",
       "    <tr>\n",
       "      <th>3</th>\n",
       "      <td>2</td>\n",
       "      <td>0</td>\n",
       "      <td>0</td>\n",
       "      <td>1</td>\n",
       "      <td>2</td>\n",
       "      <td>0</td>\n",
       "      <td>0</td>\n",
       "      <td>0</td>\n",
       "      <td>0</td>\n",
       "      <td>0</td>\n",
       "      <td>...</td>\n",
       "      <td>0</td>\n",
       "      <td>0</td>\n",
       "      <td>0</td>\n",
       "      <td>0</td>\n",
       "      <td>0</td>\n",
       "      <td>5.32193</td>\n",
       "      <td>-0.682781</td>\n",
       "      <td>0.387097</td>\n",
       "      <td>2.778200</td>\n",
       "      <td>0</td>\n",
       "    </tr>\n",
       "    <tr>\n",
       "      <th>4</th>\n",
       "      <td>0</td>\n",
       "      <td>0</td>\n",
       "      <td>0</td>\n",
       "      <td>0</td>\n",
       "      <td>3</td>\n",
       "      <td>0</td>\n",
       "      <td>0</td>\n",
       "      <td>0</td>\n",
       "      <td>0</td>\n",
       "      <td>0</td>\n",
       "      <td>...</td>\n",
       "      <td>0</td>\n",
       "      <td>0</td>\n",
       "      <td>0</td>\n",
       "      <td>0</td>\n",
       "      <td>0</td>\n",
       "      <td>4.90700</td>\n",
       "      <td>-0.787000</td>\n",
       "      <td>0.000000</td>\n",
       "      <td>1.816000</td>\n",
       "      <td>1</td>\n",
       "    </tr>\n",
       "  </tbody>\n",
       "</table>\n",
       "<p>5 rows × 778 columns</p>\n",
       "</div>"
      ],
      "text/plain": [
       "   D001  D002  D003  D004  D005  D006  D007  D008  D009  D010  ...  D769  \\\n",
       "0     0     2     0     2     0     0     0     0     0     0  ...     0   \n",
       "1     0     0     0     1     0     0     0     0     0     0  ...     0   \n",
       "2     0     0     0     0     2     0     0     0     0     0  ...     0   \n",
       "3     2     0     0     1     2     0     0     0     0     0  ...     0   \n",
       "4     0     0     0     0     3     0     0     0     0     0  ...     0   \n",
       "\n",
       "   D770  D771  D772  D773     D774      D775      D776      D777  activity  \n",
       "0     1     0     0     0  4.85798 -0.806583  0.000000  2.846540         0  \n",
       "1     2     0     0     0  4.24793 -0.100701  0.000000  0.436691         0  \n",
       "2     1     0     0     0  4.39200 -0.521000  0.000000 -0.698000         1  \n",
       "3     0     0     0     0  5.32193 -0.682781  0.387097  2.778200         0  \n",
       "4     0     0     0     0  4.90700 -0.787000  0.000000  1.816000         1  \n",
       "\n",
       "[5 rows x 778 columns]"
      ]
     },
     "execution_count": 6,
     "metadata": {},
     "output_type": "execute_result"
    }
   ],
   "source": [
    "df = df.sample(frac=1, random_state=42).reset_index(drop=True)\n",
    "df.head()"
   ]
  },
  {
   "cell_type": "code",
   "execution_count": 7,
   "metadata": {},
   "outputs": [],
   "source": [
    "X = df.drop(['activity'], axis=1)\n",
    "y = df['activity']"
   ]
  },
  {
   "cell_type": "code",
   "execution_count": 8,
   "metadata": {},
   "outputs": [
    {
     "data": {
      "text/plain": [
       "0    415\n",
       "1    415\n",
       "Name: activity, dtype: int64"
      ]
     },
     "execution_count": 8,
     "metadata": {},
     "output_type": "execute_result"
    }
   ],
   "source": [
    "y.value_counts()"
   ]
  },
  {
   "cell_type": "code",
   "execution_count": 9,
   "metadata": {},
   "outputs": [],
   "source": [
    "import matplotlib.pyplot as plt"
   ]
  },
  {
   "cell_type": "code",
   "execution_count": 10,
   "metadata": {},
   "outputs": [
    {
     "data": {
      "image/png": "[encoded data removed]",
      "text/plain": [
       "<Figure size 1000x600 with 1 Axes>"
      ]
     },
     "metadata": {},
     "output_type": "display_data"
    }
   ],
   "source": [
    "ax = y.value_counts().plot(kind='bar', figsize=(10, 6), fontsize=13, color='blue')\n",
    "ax.set_title('distribution of actives and inactives', fontsize=13)\n",
    "ax.set_alpha(0.5)"
   ]
  },
  {
   "cell_type": "code",
   "execution_count": 11,
   "metadata": {},
   "outputs": [],
   "source": [
    "X_train, X_validate, y_train, y_validate = train_test_split(X, y, test_size=0.3, random_state=42)"
   ]
  },
  {
   "cell_type": "code",
   "execution_count": 12,
   "metadata": {},
   "outputs": [],
   "source": [
    "# normalizing data\n",
    "from sklearn.preprocessing import StandardScaler\n",
    "\n",
    "scaler = StandardScaler()\n",
    "\n",
    "scaler.fit(X_train)\n",
    "X_train = scaler.transform(X_train)\n",
    "X_validate = scaler.transform(X_validate)"
   ]
  },
  {
   "cell_type": "markdown",
   "metadata": {},
   "source": [
    "## training model with balanced (by undersampling inactives) data"
   ]
  },
  {
   "cell_type": "code",
   "execution_count": 13,
   "metadata": {},
   "outputs": [],
   "source": [
    "import tensorflow as tf"
   ]
  },
  {
   "cell_type": "code",
   "execution_count": 15,
   "metadata": {},
   "outputs": [
    {
     "name": "stdout",
     "output_type": "stream",
     "text": [
      "Epoch 1/50\n",
      "19/19 [==============================] - 2s 27ms/step - loss: 0.5650 - accuracy: 0.7126 - val_loss: 0.4468 - val_accuracy: 0.7791\n",
      "Epoch 2/50\n",
      "19/19 [==============================] - 0s 11ms/step - loss: 0.3874 - accuracy: 0.8296 - val_loss: 0.3771 - val_accuracy: 0.8474\n",
      "Epoch 3/50\n",
      "19/19 [==============================] - 0s 11ms/step - loss: 0.3133 - accuracy: 0.8709 - val_loss: 0.3616 - val_accuracy: 0.8474\n",
      "Epoch 4/50\n",
      "19/19 [==============================] - 0s 11ms/step - loss: 0.2186 - accuracy: 0.9105 - val_loss: 0.3006 - val_accuracy: 0.8715\n",
      "Epoch 5/50\n",
      "19/19 [==============================] - 0s 16ms/step - loss: 0.1664 - accuracy: 0.9329 - val_loss: 0.3002 - val_accuracy: 0.8876\n",
      "Epoch 6/50\n",
      "19/19 [==============================] - 0s 13ms/step - loss: 0.1056 - accuracy: 0.9639 - val_loss: 0.3792 - val_accuracy: 0.8715\n",
      "Epoch 7/50\n",
      "19/19 [==============================] - 0s 14ms/step - loss: 0.0595 - accuracy: 0.9862 - val_loss: 0.4552 - val_accuracy: 0.8715\n",
      "Epoch 8/50\n",
      "19/19 [==============================] - 0s 16ms/step - loss: 0.0559 - accuracy: 0.9880 - val_loss: 0.4567 - val_accuracy: 0.8635\n",
      "Epoch 9/50\n",
      "19/19 [==============================] - 0s 15ms/step - loss: 0.0606 - accuracy: 0.9811 - val_loss: 0.5189 - val_accuracy: 0.8594\n",
      "Epoch 10/50\n",
      "19/19 [==============================] - 0s 15ms/step - loss: 0.0743 - accuracy: 0.9725 - val_loss: 0.4397 - val_accuracy: 0.8795\n",
      "Epoch 11/50\n",
      "19/19 [==============================] - 0s 11ms/step - loss: 0.0478 - accuracy: 0.9880 - val_loss: 0.4673 - val_accuracy: 0.8554\n",
      "Epoch 12/50\n",
      "19/19 [==============================] - 0s 12ms/step - loss: 0.0282 - accuracy: 0.9880 - val_loss: 0.5987 - val_accuracy: 0.8594\n",
      "Epoch 13/50\n",
      "19/19 [==============================] - 0s 13ms/step - loss: 0.0551 - accuracy: 0.9828 - val_loss: 0.5404 - val_accuracy: 0.8755\n",
      "Epoch 14/50\n",
      "19/19 [==============================] - 0s 11ms/step - loss: 0.0534 - accuracy: 0.9793 - val_loss: 0.4838 - val_accuracy: 0.8795\n",
      "Epoch 15/50\n",
      "19/19 [==============================] - 0s 12ms/step - loss: 0.0527 - accuracy: 0.9793 - val_loss: 0.5964 - val_accuracy: 0.8554\n",
      "Epoch 16/50\n",
      "19/19 [==============================] - 0s 13ms/step - loss: 0.0246 - accuracy: 0.9914 - val_loss: 0.5025 - val_accuracy: 0.8916\n",
      "Epoch 17/50\n",
      "19/19 [==============================] - 0s 13ms/step - loss: 0.0045 - accuracy: 1.0000 - val_loss: 0.5931 - val_accuracy: 0.8755\n",
      "Epoch 18/50\n",
      "19/19 [==============================] - 0s 12ms/step - loss: 0.0025 - accuracy: 0.9983 - val_loss: 0.6280 - val_accuracy: 0.8715\n",
      "Epoch 19/50\n",
      "19/19 [==============================] - 0s 13ms/step - loss: 0.0048 - accuracy: 0.9983 - val_loss: 0.7236 - val_accuracy: 0.8795\n",
      "Epoch 20/50\n",
      "19/19 [==============================] - 0s 13ms/step - loss: 0.0226 - accuracy: 0.9880 - val_loss: 0.7064 - val_accuracy: 0.8795\n",
      "Epoch 21/50\n",
      "19/19 [==============================] - 0s 12ms/step - loss: 0.0202 - accuracy: 0.9931 - val_loss: 0.8252 - val_accuracy: 0.8594\n",
      "Epoch 22/50\n",
      "19/19 [==============================] - 0s 9ms/step - loss: 0.0317 - accuracy: 0.9948 - val_loss: 0.7093 - val_accuracy: 0.8916\n",
      "Epoch 23/50\n",
      "19/19 [==============================] - 0s 12ms/step - loss: 0.0671 - accuracy: 0.9862 - val_loss: 0.6898 - val_accuracy: 0.8554\n",
      "Epoch 24/50\n",
      "19/19 [==============================] - 0s 12ms/step - loss: 0.0264 - accuracy: 0.9897 - val_loss: 0.6162 - val_accuracy: 0.8554\n",
      "Epoch 25/50\n",
      "19/19 [==============================] - 0s 12ms/step - loss: 0.0153 - accuracy: 0.9948 - val_loss: 0.6076 - val_accuracy: 0.8635\n",
      "Epoch 26/50\n",
      "19/19 [==============================] - 0s 12ms/step - loss: 0.0049 - accuracy: 1.0000 - val_loss: 0.5815 - val_accuracy: 0.8835\n",
      "Epoch 27/50\n",
      "19/19 [==============================] - 0s 11ms/step - loss: 0.0016 - accuracy: 1.0000 - val_loss: 0.6761 - val_accuracy: 0.8715\n",
      "Epoch 28/50\n",
      "19/19 [==============================] - 0s 11ms/step - loss: 8.2187e-04 - accuracy: 1.0000 - val_loss: 0.6846 - val_accuracy: 0.8715\n",
      "Epoch 29/50\n",
      "19/19 [==============================] - 0s 11ms/step - loss: 4.5928e-04 - accuracy: 1.0000 - val_loss: 0.6886 - val_accuracy: 0.8835\n",
      "Epoch 30/50\n",
      "19/19 [==============================] - 0s 13ms/step - loss: 3.8367e-04 - accuracy: 1.0000 - val_loss: 0.7012 - val_accuracy: 0.8835\n",
      "Epoch 31/50\n",
      "19/19 [==============================] - 0s 11ms/step - loss: 3.1807e-04 - accuracy: 1.0000 - val_loss: 0.7122 - val_accuracy: 0.8795\n",
      "Epoch 32/50\n",
      "19/19 [==============================] - 0s 14ms/step - loss: 2.7357e-04 - accuracy: 1.0000 - val_loss: 0.7212 - val_accuracy: 0.8795\n",
      "Epoch 33/50\n",
      "19/19 [==============================] - 0s 21ms/step - loss: 2.4122e-04 - accuracy: 1.0000 - val_loss: 0.7338 - val_accuracy: 0.8795\n",
      "Epoch 34/50\n",
      "19/19 [==============================] - 0s 15ms/step - loss: 2.1263e-04 - accuracy: 1.0000 - val_loss: 0.7414 - val_accuracy: 0.8795\n",
      "Epoch 35/50\n",
      "19/19 [==============================] - 0s 15ms/step - loss: 1.9072e-04 - accuracy: 1.0000 - val_loss: 0.7488 - val_accuracy: 0.8795\n",
      "Epoch 36/50\n",
      "19/19 [==============================] - 0s 17ms/step - loss: 1.7288e-04 - accuracy: 1.0000 - val_loss: 0.7556 - val_accuracy: 0.8795\n",
      "Epoch 37/50\n",
      "19/19 [==============================] - 0s 16ms/step - loss: 1.5765e-04 - accuracy: 1.0000 - val_loss: 0.7625 - val_accuracy: 0.8795\n",
      "Epoch 38/50\n",
      "19/19 [==============================] - 0s 13ms/step - loss: 1.4346e-04 - accuracy: 1.0000 - val_loss: 0.7684 - val_accuracy: 0.8795\n",
      "Epoch 39/50\n",
      "19/19 [==============================] - 0s 13ms/step - loss: 1.3311e-04 - accuracy: 1.0000 - val_loss: 0.7745 - val_accuracy: 0.8795\n",
      "Epoch 40/50\n",
      "19/19 [==============================] - 0s 13ms/step - loss: 1.2249e-04 - accuracy: 1.0000 - val_loss: 0.7806 - val_accuracy: 0.8795\n",
      "Epoch 41/50\n",
      "19/19 [==============================] - 0s 10ms/step - loss: 1.1311e-04 - accuracy: 1.0000 - val_loss: 0.7859 - val_accuracy: 0.8795\n",
      "Epoch 42/50\n",
      "19/19 [==============================] - 0s 12ms/step - loss: 1.0568e-04 - accuracy: 1.0000 - val_loss: 0.7903 - val_accuracy: 0.8795\n",
      "Epoch 43/50\n",
      "19/19 [==============================] - 0s 9ms/step - loss: 9.8188e-05 - accuracy: 1.0000 - val_loss: 0.7965 - val_accuracy: 0.8795\n",
      "Epoch 44/50\n",
      "19/19 [==============================] - 0s 9ms/step - loss: 9.1042e-05 - accuracy: 1.0000 - val_loss: 0.8021 - val_accuracy: 0.8795\n",
      "Epoch 45/50\n",
      "19/19 [==============================] - 0s 12ms/step - loss: 8.5465e-05 - accuracy: 1.0000 - val_loss: 0.8066 - val_accuracy: 0.8795\n",
      "Epoch 46/50\n",
      "19/19 [==============================] - 0s 13ms/step - loss: 8.0095e-05 - accuracy: 1.0000 - val_loss: 0.8113 - val_accuracy: 0.8795\n",
      "Epoch 47/50\n",
      "19/19 [==============================] - 0s 10ms/step - loss: 7.4986e-05 - accuracy: 1.0000 - val_loss: 0.8161 - val_accuracy: 0.8795\n",
      "Epoch 48/50\n",
      "19/19 [==============================] - 0s 9ms/step - loss: 7.0761e-05 - accuracy: 1.0000 - val_loss: 0.8204 - val_accuracy: 0.8795\n",
      "Epoch 49/50\n",
      "19/19 [==============================] - 0s 13ms/step - loss: 6.7103e-05 - accuracy: 1.0000 - val_loss: 0.8237 - val_accuracy: 0.8795\n",
      "Epoch 50/50\n",
      "19/19 [==============================] - 0s 11ms/step - loss: 6.3262e-05 - accuracy: 1.0000 - val_loss: 0.8283 - val_accuracy: 0.8795\n"
     ]
    }
   ],
   "source": [
    "model = tf.keras.models.Sequential([\n",
    "    tf.keras.layers.Dense(128, activation='relu', input_shape=(X_train.shape[1],)),\n",
    "    tf.keras.layers.Dense(128, activation='relu'),\n",
    "    tf.keras.layers.Dense(128, activation='relu'),\n",
    "    tf.keras.layers.Dense(64, activation='relu'),\n",
    "    tf.keras.layers.Dense(16, activation='relu'),\n",
    "    tf.keras.layers.Dense(1, activation='sigmoid')\n",
    "])\n",
    "\n",
    "model.compile(optimizer='adam', loss='binary_crossentropy', metrics=['accuracy'])\n",
    "\n",
    "history = model.fit(X_train, y_train, validation_data=(X_validate, y_validate), epochs=50, batch_size=32)"
   ]
  },
  {
   "cell_type": "markdown",
   "metadata": {},
   "source": [
    "### evaluating the model using the test data"
   ]
  },
  {
   "cell_type": "code",
   "execution_count": 16,
   "metadata": {},
   "outputs": [],
   "source": [
    "# getting the test dataset\n",
    "testing_data = pd.concat([actives_test, inactives_test], ignore_index=True)"
   ]
  },
  {
   "cell_type": "code",
   "execution_count": 17,
   "metadata": {},
   "outputs": [
    {
     "data": {
      "text/plain": [
       "600"
      ]
     },
     "execution_count": 17,
     "metadata": {},
     "output_type": "execute_result"
    }
   ],
   "source": [
    "len(testing_data)"
   ]
  },
  {
   "cell_type": "code",
   "execution_count": 18,
   "metadata": {},
   "outputs": [
    {
     "data": {
      "text/plain": [
       "1    300\n",
       "0    300\n",
       "Name: activity, dtype: int64"
      ]
     },
     "execution_count": 18,
     "metadata": {},
     "output_type": "execute_result"
    }
   ],
   "source": [
    "testing_data['activity'].value_counts()"
   ]
  },
  {
   "cell_type": "code",
   "execution_count": 19,
   "metadata": {},
   "outputs": [
    {
     "data": {
      "text/html": [
       "<div>\n",
       "<style scoped>\n",
       "    .dataframe tbody tr th:only-of-type {\n",
       "        vertical-align: middle;\n",
       "    }\n",
       "\n",
       "    .dataframe tbody tr th {\n",
       "        vertical-align: top;\n",
       "    }\n",
       "\n",
       "    .dataframe thead th {\n",
       "        text-align: right;\n",
       "    }\n",
       "</style>\n",
       "<table border=\"1\" class=\"dataframe\">\n",
       "  <thead>\n",
       "    <tr style=\"text-align: right;\">\n",
       "      <th></th>\n",
       "      <th>D001</th>\n",
       "      <th>D002</th>\n",
       "      <th>D003</th>\n",
       "      <th>D004</th>\n",
       "      <th>D005</th>\n",
       "      <th>D006</th>\n",
       "      <th>D007</th>\n",
       "      <th>D008</th>\n",
       "      <th>D009</th>\n",
       "      <th>D010</th>\n",
       "      <th>...</th>\n",
       "      <th>D769</th>\n",
       "      <th>D770</th>\n",
       "      <th>D771</th>\n",
       "      <th>D772</th>\n",
       "      <th>D773</th>\n",
       "      <th>D774</th>\n",
       "      <th>D775</th>\n",
       "      <th>D776</th>\n",
       "      <th>D777</th>\n",
       "      <th>activity</th>\n",
       "    </tr>\n",
       "  </thead>\n",
       "  <tbody>\n",
       "    <tr>\n",
       "      <th>0</th>\n",
       "      <td>1</td>\n",
       "      <td>0</td>\n",
       "      <td>0</td>\n",
       "      <td>1</td>\n",
       "      <td>3</td>\n",
       "      <td>0</td>\n",
       "      <td>0</td>\n",
       "      <td>0</td>\n",
       "      <td>0</td>\n",
       "      <td>0</td>\n",
       "      <td>...</td>\n",
       "      <td>0</td>\n",
       "      <td>0</td>\n",
       "      <td>0</td>\n",
       "      <td>0</td>\n",
       "      <td>0</td>\n",
       "      <td>4.954</td>\n",
       "      <td>-0.280</td>\n",
       "      <td>0.231</td>\n",
       "      <td>3.149</td>\n",
       "      <td>1</td>\n",
       "    </tr>\n",
       "    <tr>\n",
       "      <th>1</th>\n",
       "      <td>1</td>\n",
       "      <td>0</td>\n",
       "      <td>0</td>\n",
       "      <td>2</td>\n",
       "      <td>2</td>\n",
       "      <td>0</td>\n",
       "      <td>0</td>\n",
       "      <td>0</td>\n",
       "      <td>0</td>\n",
       "      <td>0</td>\n",
       "      <td>...</td>\n",
       "      <td>0</td>\n",
       "      <td>1</td>\n",
       "      <td>0</td>\n",
       "      <td>0</td>\n",
       "      <td>1</td>\n",
       "      <td>5.285</td>\n",
       "      <td>-0.234</td>\n",
       "      <td>0.214</td>\n",
       "      <td>0.636</td>\n",
       "      <td>1</td>\n",
       "    </tr>\n",
       "    <tr>\n",
       "      <th>2</th>\n",
       "      <td>2</td>\n",
       "      <td>0</td>\n",
       "      <td>0</td>\n",
       "      <td>2</td>\n",
       "      <td>2</td>\n",
       "      <td>0</td>\n",
       "      <td>0</td>\n",
       "      <td>0</td>\n",
       "      <td>0</td>\n",
       "      <td>0</td>\n",
       "      <td>...</td>\n",
       "      <td>0</td>\n",
       "      <td>2</td>\n",
       "      <td>0</td>\n",
       "      <td>0</td>\n",
       "      <td>0</td>\n",
       "      <td>5.170</td>\n",
       "      <td>-0.658</td>\n",
       "      <td>0.444</td>\n",
       "      <td>3.317</td>\n",
       "      <td>1</td>\n",
       "    </tr>\n",
       "    <tr>\n",
       "      <th>3</th>\n",
       "      <td>2</td>\n",
       "      <td>0</td>\n",
       "      <td>0</td>\n",
       "      <td>2</td>\n",
       "      <td>2</td>\n",
       "      <td>0</td>\n",
       "      <td>0</td>\n",
       "      <td>0</td>\n",
       "      <td>0</td>\n",
       "      <td>0</td>\n",
       "      <td>...</td>\n",
       "      <td>0</td>\n",
       "      <td>0</td>\n",
       "      <td>0</td>\n",
       "      <td>0</td>\n",
       "      <td>0</td>\n",
       "      <td>5.170</td>\n",
       "      <td>-0.823</td>\n",
       "      <td>0.444</td>\n",
       "      <td>3.307</td>\n",
       "      <td>1</td>\n",
       "    </tr>\n",
       "    <tr>\n",
       "      <th>4</th>\n",
       "      <td>0</td>\n",
       "      <td>0</td>\n",
       "      <td>0</td>\n",
       "      <td>1</td>\n",
       "      <td>1</td>\n",
       "      <td>0</td>\n",
       "      <td>0</td>\n",
       "      <td>0</td>\n",
       "      <td>0</td>\n",
       "      <td>0</td>\n",
       "      <td>...</td>\n",
       "      <td>0</td>\n",
       "      <td>1</td>\n",
       "      <td>0</td>\n",
       "      <td>0</td>\n",
       "      <td>0</td>\n",
       "      <td>4.858</td>\n",
       "      <td>-0.717</td>\n",
       "      <td>0.000</td>\n",
       "      <td>1.820</td>\n",
       "      <td>1</td>\n",
       "    </tr>\n",
       "  </tbody>\n",
       "</table>\n",
       "<p>5 rows × 778 columns</p>\n",
       "</div>"
      ],
      "text/plain": [
       "   D001  D002  D003  D004  D005  D006  D007  D008  D009  D010  ...  D769  \\\n",
       "0     1     0     0     1     3     0     0     0     0     0  ...     0   \n",
       "1     1     0     0     2     2     0     0     0     0     0  ...     0   \n",
       "2     2     0     0     2     2     0     0     0     0     0  ...     0   \n",
       "3     2     0     0     2     2     0     0     0     0     0  ...     0   \n",
       "4     0     0     0     1     1     0     0     0     0     0  ...     0   \n",
       "\n",
       "   D770  D771  D772  D773   D774   D775   D776   D777  activity  \n",
       "0     0     0     0     0  4.954 -0.280  0.231  3.149         1  \n",
       "1     1     0     0     1  5.285 -0.234  0.214  0.636         1  \n",
       "2     2     0     0     0  5.170 -0.658  0.444  3.317         1  \n",
       "3     0     0     0     0  5.170 -0.823  0.444  3.307         1  \n",
       "4     1     0     0     0  4.858 -0.717  0.000  1.820         1  \n",
       "\n",
       "[5 rows x 778 columns]"
      ]
     },
     "execution_count": 19,
     "metadata": {},
     "output_type": "execute_result"
    }
   ],
   "source": [
    "testing_data.head()"
   ]
  },
  {
   "cell_type": "code",
   "execution_count": 20,
   "metadata": {},
   "outputs": [
    {
     "name": "stdout",
     "output_type": "stream",
     "text": [
      "600\n"
     ]
    }
   ],
   "source": [
    "testing_data_x = testing_data.drop(['activity'], axis=1)\n",
    "print(len(testing_data_x))\n",
    "testing_data_x = scaler.transform(testing_data_x)\n",
    "testing_data_y = testing_data['activity']"
   ]
  },
  {
   "cell_type": "code",
   "execution_count": 21,
   "metadata": {},
   "outputs": [
    {
     "name": "stdout",
     "output_type": "stream",
     "text": [
      "19/19 - 0s - loss: 1.4680 - accuracy: 0.8217 - 104ms/epoch - 5ms/step\n"
     ]
    },
    {
     "data": {
      "text/plain": [
       "[1.4680019617080688, 0.8216666579246521]"
      ]
     },
     "execution_count": 21,
     "metadata": {},
     "output_type": "execute_result"
    }
   ],
   "source": [
    "model.evaluate(testing_data_x, testing_data_y, verbose=2)"
   ]
  },
  {
   "cell_type": "markdown",
   "metadata": {},
   "source": [
    "### evaluating model's performance with F1 score, precision, recall, etc"
   ]
  },
  {
   "cell_type": "code",
   "execution_count": 28,
   "metadata": {},
   "outputs": [],
   "source": [
    "from sklearn.metrics import accuracy_score, precision_score, recall_score, f1_score, matthews_corrcoef"
   ]
  },
  {
   "cell_type": "code",
   "execution_count": 23,
   "metadata": {},
   "outputs": [],
   "source": [
    "inactives_test_x = inactives_test.drop(['activity'], axis=1)\n",
    "inactives_test_x = scaler.transform(inactives_test_x)\n",
    "actives_test_x = actives_test.drop(['activity'], axis=1)\n",
    "actives_test_x = scaler.transform(actives_test_x)"
   ]
  },
  {
   "cell_type": "code",
   "execution_count": 24,
   "metadata": {},
   "outputs": [],
   "source": [
    "y_true_actives = np.array([1] * len(actives_test_x))\n",
    "y_true_inactives = np.array([0] * len(inactives_test_x))\n",
    "y_true = np.concatenate((y_true_actives, y_true_inactives))"
   ]
  },
  {
   "cell_type": "markdown",
   "metadata": {},
   "source": [
    "There are both y_pred and y_pred_rounded because the model outputs a probability and we need to round it to get the class.\n",
    "\n",
    "\n",
    "y_pred will be used to calculate the ROC curve and the AUC.\n",
    "\n",
    "\n",
    "y_pred_rounded will be used to calculate the confusion matrix."
   ]
  },
  {
   "cell_type": "code",
   "execution_count": 25,
   "metadata": {},
   "outputs": [
    {
     "name": "stdout",
     "output_type": "stream",
     "text": [
      "10/10 [==============================] - 0s 3ms/step\n",
      "10/10 [==============================] - 0s 3ms/step\n"
     ]
    }
   ],
   "source": [
    "y_pred_actives = model.predict(actives_test_x)\n",
    "y_pred_actives_rounded = (y_pred_actives > 0.5).astype(int).reshape(len(y_pred_actives, ))\n",
    "y_pred_inactives = model.predict(inactives_test_x)\n",
    "y_pred_inactives_rounded = (y_pred_inactives > 0.5).astype(int).reshape(len(y_pred_inactives, ))\n",
    "y_pred = np.concatenate((y_pred_actives, y_pred_inactives))\n",
    "y_pred_rounded = np.concatenate((y_pred_actives_rounded, y_pred_inactives_rounded))"
   ]
  },
  {
   "cell_type": "code",
   "execution_count": 29,
   "metadata": {},
   "outputs": [],
   "source": [
    "accuracy = accuracy_score(y_true, y_pred_rounded)\n",
    "precision = precision_score(y_true, y_pred_rounded)\n",
    "recall = recall_score(y_true, y_pred_rounded)\n",
    "f1 = f1_score(y_true, y_pred_rounded)\n",
    "mcc = matthews_corrcoef(y_true, y_pred_rounded)"
   ]
  },
  {
   "cell_type": "code",
   "execution_count": 30,
   "metadata": {},
   "outputs": [
    {
     "name": "stdout",
     "output_type": "stream",
     "text": [
      "accuracy is 0.8216666666666667\n",
      "precision is 0.8293515358361775\n",
      "recall is 0.81\n",
      "f1 is 0.8195615514333896\n",
      "mcc is 0.6435085345066888\n"
     ]
    }
   ],
   "source": [
    "print(\"accuracy is {}\".format(accuracy))\n",
    "print(\"precision is {}\".format(precision))\n",
    "print(\"recall is {}\".format(recall))\n",
    "print(\"f1 is {}\".format(f1))\n",
    "print(\"mcc is {}\".format(mcc))"
   ]
  },
  {
   "cell_type": "markdown",
   "metadata": {},
   "source": [
    "Drawing the ROC curve to enable us to carry out threshold moving,"
   ]
  },
  {
   "cell_type": "code",
   "execution_count": 31,
   "metadata": {},
   "outputs": [],
   "source": [
    "fpr, tpr, thresholds = roc_curve(y_true, y_pred, pos_label=1)"
   ]
  },
  {
   "cell_type": "code",
   "execution_count": 32,
   "metadata": {},
   "outputs": [
    {
     "data": {
      "image/png": "[encoded data removed]",
      "text/plain": [
       "<Figure size 640x480 with 1 Axes>"
      ]
     },
     "metadata": {},
     "output_type": "display_data"
    }
   ],
   "source": [
    "roc_auc = auc(fpr, tpr)\n",
    "display = RocCurveDisplay(fpr=fpr, tpr=tpr, roc_auc=roc_auc, estimator_name='area under curve')\n",
    "display.plot()\n",
    "plt.show()"
   ]
  },
  {
   "cell_type": "code",
   "execution_count": 37,
   "metadata": {},
   "outputs": [],
   "source": [
    "fav_thresholds = []\n",
    "for i in range(len(thresholds)):\n",
    "    if fpr[i] < 0.25 and tpr[i] > 0.8:\n",
    "        fav_thresholds.append((i, thresholds[i], fpr[i], tpr[i]))"
   ]
  },
  {
   "cell_type": "code",
   "execution_count": 38,
   "metadata": {},
   "outputs": [
    {
     "name": "stdout",
     "output_type": "stream",
     "text": [
      "(72, 0.707669, 0.16, 0.8033333333333333)\n",
      "(73, 0.7074779, 0.16333333333333333, 0.8033333333333333)\n",
      "(74, 0.555333, 0.16333333333333333, 0.81)\n",
      "(75, 0.50515985, 0.16666666666666666, 0.81)\n",
      "(76, 0.36007676, 0.16666666666666666, 0.8266666666666667)\n",
      "(77, 0.35716262, 0.17, 0.8266666666666667)\n",
      "(78, 0.2913963, 0.17, 0.8366666666666667)\n",
      "(79, 0.25839174, 0.17333333333333334, 0.8366666666666667)\n",
      "(80, 0.23018324, 0.17333333333333334, 0.84)\n",
      "(81, 0.20684548, 0.17666666666666667, 0.84)\n",
      "(82, 0.1846669, 0.17666666666666667, 0.8433333333333334)\n",
      "(83, 0.10592192, 0.18666666666666668, 0.8433333333333334)\n",
      "(84, 0.10388503, 0.18666666666666668, 0.8466666666666667)\n",
      "(85, 0.09747016, 0.19, 0.8466666666666667)\n",
      "(86, 0.083393715, 0.19, 0.85)\n",
      "(87, 0.07646848, 0.19333333333333333, 0.85)\n",
      "(88, 0.06783055, 0.19333333333333333, 0.8566666666666667)\n",
      "(89, 0.058605283, 0.2, 0.8566666666666667)\n",
      "(90, 0.054465413, 0.2, 0.86)\n",
      "(91, 0.045495052, 0.20666666666666667, 0.86)\n",
      "(92, 0.022110408, 0.20666666666666667, 0.8833333333333333)\n",
      "(93, 0.021970775, 0.21, 0.8833333333333333)\n",
      "(94, 0.020174498, 0.21, 0.8866666666666667)\n",
      "(95, 0.016100865, 0.22, 0.8866666666666667)\n",
      "(96, 0.014948673, 0.22, 0.89)\n",
      "(97, 0.01405004, 0.22333333333333333, 0.89)\n",
      "(98, 0.008498849, 0.22333333333333333, 0.9033333333333333)\n"
     ]
    }
   ],
   "source": [
    "for i in fav_thresholds:\n",
    "    print(i)"
   ]
  },
  {
   "cell_type": "code",
   "execution_count": 39,
   "metadata": {},
   "outputs": [
    {
     "data": {
      "text/plain": [
       "0.008498849"
      ]
     },
     "execution_count": 39,
     "metadata": {},
     "output_type": "execute_result"
    }
   ],
   "source": [
    "selected_threshold = fav_thresholds[-1][1]\n",
    "selected_threshold"
   ]
  },
  {
   "cell_type": "code",
   "execution_count": 40,
   "metadata": {},
   "outputs": [],
   "source": [
    "y_pred_actives_rounded2 = (y_pred_actives > selected_threshold).astype(int).reshape(len(y_pred_actives, ))\n",
    "y_pred_inactives_rounded2 = (y_pred_inactives > selected_threshold).astype(int).reshape(len(y_pred_inactives, ))\n",
    "y_pred_rounded2 = np.concatenate((y_pred_actives_rounded2, y_pred_inactives_rounded2))"
   ]
  },
  {
   "cell_type": "code",
   "execution_count": 43,
   "metadata": {},
   "outputs": [],
   "source": [
    "accuracy = accuracy_score(y_true, y_pred_rounded2)\n",
    "precision = precision_score(y_true, y_pred_rounded2)\n",
    "recall = recall_score(y_true, y_pred_rounded2)\n",
    "f1 = f1_score(y_true, y_pred_rounded2)\n",
    "mcc = matthews_corrcoef(y_true, y_pred_rounded2)"
   ]
  },
  {
   "cell_type": "code",
   "execution_count": 44,
   "metadata": {},
   "outputs": [
    {
     "name": "stdout",
     "output_type": "stream",
     "text": [
      "accuracy is 0.8383333333333334\n",
      "precision is 0.8011869436201781\n",
      "recall is 0.9\n",
      "f1 is 0.847723704866562\n",
      "mcc is 0.6818725590088284\n"
     ]
    }
   ],
   "source": [
    "print(\"accuracy is {}\".format(accuracy))\n",
    "print(\"precision is {}\".format(precision))\n",
    "print(\"recall is {}\".format(recall))\n",
    "print(\"f1 is {}\".format(f1))\n",
    "print(\"mcc is {}\".format(mcc))"
   ]
  }
 ],
 "metadata": {
  "kernelspec": {
   "display_name": "Python 3.10.4 ('venv': venv)",
   "language": "python",
   "name": "python3"
  },
  "language_info": {
   "codemirror_mode": {
    "name": "ipython",
    "version": 3
   },
   "file_extension": ".py",
   "mimetype": "text/x-python",
   "name": "python",
   "nbconvert_exporter": "python",
   "pygments_lexer": "ipython3",
   "version": "3.10.4"
  },
  "orig_nbformat": 4,
  "vscode": {
   "interpreter": {
    "hash": "7aeba9923514841c19733a205d28f40fd7b0363b1cf05defaaef1b17fa5f8895"
   }
  }
 },
 "nbformat": 4,
 "nbformat_minor": 2
}
